{
 "cells": [
  {
   "cell_type": "markdown",
   "id": "main-title",
   "metadata": {},
   "source": [
    "# 在 Bedrock AgentCore Runtime 中部署 Strands Agent\n",
    "\n",
    "本研讨会演示如何使用 Amazon Bedrock AgentCore Runtime 部署 Strands Agents 到 AWS 托管环境\n",
    "，集成多种工具，包括内建及自定义工具，以实现全面的 AI 代理功能。\n",
    "\n",
    "## 概述\n",
    "\n",
    "在本实验中，您将：\n",
    "- 部署 Strands Agent 到 Bedrock AgentCore Runtime 托管环境\n",
    "- 了解 Bedrock Agentcore Observability 可观测性和监控"
   ]
  },
  {
   "cell_type": "markdown",
   "id": "prerequisites",
   "metadata": {},
   "source": [
    "## 先决条件\n",
    "\n",
    "开始本实验之前，请确保您具备：\n",
    "- 已配置 AWS 凭证（IAM 角色或环境变量）\n",
    "- 已安装所需的 Python 包\n",
    "- 对 Strands Agents 和 Bedrock AgentCore 概念有基本了解\n",
    "\n",
    "如果您没有在假设 IAM 角色的环境中运行，请将您的 AWS 凭证设置为环境变量："
   ]
  },
  {
   "cell_type": "code",
   "execution_count": null,
   "id": "819e8385",
   "metadata": {},
   "outputs": [],
   "source": [
    "import os\n",
    "\n",
    "#os.environ[\"AWS_ACCESS_KEY_ID\"]=<YOUR ACCESS KEY>\n",
    "#os.environ[\"AWS_SECRET_ACCESS_KEY\"]=<YOUR SECRET KEY>\n",
    "#os.environ[\"AWS_SESSION_TOKEN\"]=<OPTIONAL - YOUR SESSION TOKEN IF TEMP CREDENTIAL>\n",
    "#os.environ[\"AWS_REGION\"]=<AWS REGION WITH BEDROCK AGENTCORE AVAILABLE>"
   ]
  },
  {
   "cell_type": "markdown",
   "id": "install-deps",
   "metadata": {},
   "source": [
    "为 Strands Agents、MCP 集成和 Bedrock AgentCore SDK 安装所需的包："
   ]
  },
  {
   "cell_type": "code",
   "execution_count": null,
   "id": "facf0fdd-cc35-48f7-b098-ca157944acdd",
   "metadata": {
    "collapsed": true,
    "jupyter": {
     "outputs_hidden": true
    }
   },
   "outputs": [],
   "source": [
    "#%pip install -q strands-agents strands-agents-tools bedrock-agentcore bedrock-agentcore-starter-toolkit"
   ]
  },
  {
   "cell_type": "markdown",
   "id": "what-is-strands",
   "metadata": {},
   "source": [
    "## 什么是带有 Bedrock AgentCore Runtime 的 Strands Agent？\n",
    "\n",
    "Strands Agents 为构建具有多种工具集成的 AI 代理提供了强大的框架。当与 Bedrock AgentCore Runtime 一起部署时，您可以获得：\n",
    "\n",
    "- **可扩展部署**：具有自动扩展功能的托管基础设施\n",
    "- **安全身份验证**：与 Cognito 集成的内置安全性\n",
    "- **可观测性**：CloudWatch 集成用于监控和调试\n",
    "- **多工具集成**：在 AgentCore Runtime 中结合 MCP 服务器、代码解释器和浏览器\n",
    "\n",
    "本实验演示创建一个能够执行网络搜索、执行代码和处理自定义业务逻辑的综合代理。"
   ]
  },
  {
   "cell_type": "markdown",
   "id": "create-strands-agent",
   "metadata": {},
   "source": [
    "## 创建 Strands Agent\n",
    "\n",
    "让我们创建一个集 Strands Agent：\n",
    "\n",
    "### 工具集成概述：\n",
    "- **自定义天气工具**：简单演示功能\n",
    "- **计算器工具**：数学运算"
   ]
  },
  {
   "cell_type": "code",
   "execution_count": 1,
   "id": "ed19d14a-aaa1-43ff-a005-b1f33a9de096",
   "metadata": {},
   "outputs": [
    {
     "name": "stdout",
     "output_type": "stream",
     "text": [
      "\n",
      "=== Testing Agent Capabilities ===\n",
      "\n",
      "1. Testing custom weather tool:\n",
      "<thinking> The user is asking about the weather in Beijing. I can use the 'weather' tool to get the current weather information for Beijing. </thinking>\n",
      "\n",
      "Tool #1: weather\n",
      "北京的天气是晴朗的，气温为35°C。\n",
      "2. Testing calculator tool:\n",
      "<thinking> The user is asking for a simple mathematical calculation. I can use the 'calculator' tool in 'evaluate' mode to compute the result. </thinking> \n",
      "Tool #2: calculator\n"
     ]
    },
    {
     "data": {
      "text/html": [
       "<pre style=\"white-space:pre;overflow-x:auto;line-height:normal;font-family:Menlo,'DejaVu Sans Mono',consolas,'Courier New',monospace\"><span style=\"color: #000080; text-decoration-color: #000080\">╭────────────────────────────────────────────── </span><span style=\"color: #000080; text-decoration-color: #000080; font-weight: bold\">Calculation Result</span><span style=\"color: #000080; text-decoration-color: #000080\"> ───────────────────────────────────────────────╮</span>\n",
       "<span style=\"color: #000080; text-decoration-color: #000080\">│</span>                                                                                                                 <span style=\"color: #000080; text-decoration-color: #000080\">│</span>\n",
       "<span style=\"color: #000080; text-decoration-color: #000080\">│</span>  ╭───────────┬─────────────────────╮                                                                            <span style=\"color: #000080; text-decoration-color: #000080\">│</span>\n",
       "<span style=\"color: #000080; text-decoration-color: #000080\">│</span>  │<span style=\"color: #008080; text-decoration-color: #008080\"> Operation </span>│<span style=\"color: #008000; text-decoration-color: #008000\"> Evaluate Expression </span>│                                                                            <span style=\"color: #000080; text-decoration-color: #000080\">│</span>\n",
       "<span style=\"color: #000080; text-decoration-color: #000080\">│</span>  │<span style=\"color: #008080; text-decoration-color: #008080\"> Input     </span>│<span style=\"color: #008000; text-decoration-color: #008000\"> 2+2                 </span>│                                                                            <span style=\"color: #000080; text-decoration-color: #000080\">│</span>\n",
       "<span style=\"color: #000080; text-decoration-color: #000080\">│</span>  │<span style=\"color: #008080; text-decoration-color: #008080\"> Result    </span>│<span style=\"color: #008000; text-decoration-color: #008000\"> 4                   </span>│                                                                            <span style=\"color: #000080; text-decoration-color: #000080\">│</span>\n",
       "<span style=\"color: #000080; text-decoration-color: #000080\">│</span>  ╰───────────┴─────────────────────╯                                                                            <span style=\"color: #000080; text-decoration-color: #000080\">│</span>\n",
       "<span style=\"color: #000080; text-decoration-color: #000080\">│</span>                                                                                                                 <span style=\"color: #000080; text-decoration-color: #000080\">│</span>\n",
       "<span style=\"color: #000080; text-decoration-color: #000080\">╰─────────────────────────────────────────────────────────────────────────────────────────────────────────────────╯</span>\n",
       "</pre>\n"
      ],
      "text/plain": [
       "\u001b[34m╭─\u001b[0m\u001b[34m─────────────────────────────────────────────\u001b[0m\u001b[34m \u001b[0m\u001b[1;34mCalculation Result\u001b[0m\u001b[34m \u001b[0m\u001b[34m──────────────────────────────────────────────\u001b[0m\u001b[34m─╮\u001b[0m\n",
       "\u001b[34m│\u001b[0m                                                                                                                 \u001b[34m│\u001b[0m\n",
       "\u001b[34m│\u001b[0m  ╭───────────┬─────────────────────╮                                                                            \u001b[34m│\u001b[0m\n",
       "\u001b[34m│\u001b[0m  │\u001b[36m \u001b[0m\u001b[36mOperation\u001b[0m\u001b[36m \u001b[0m│\u001b[32m \u001b[0m\u001b[32mEvaluate Expression\u001b[0m\u001b[32m \u001b[0m│                                                                            \u001b[34m│\u001b[0m\n",
       "\u001b[34m│\u001b[0m  │\u001b[36m \u001b[0m\u001b[36mInput    \u001b[0m\u001b[36m \u001b[0m│\u001b[32m \u001b[0m\u001b[32m2+2                \u001b[0m\u001b[32m \u001b[0m│                                                                            \u001b[34m│\u001b[0m\n",
       "\u001b[34m│\u001b[0m  │\u001b[36m \u001b[0m\u001b[36mResult   \u001b[0m\u001b[36m \u001b[0m│\u001b[32m \u001b[0m\u001b[32m4                  \u001b[0m\u001b[32m \u001b[0m│                                                                            \u001b[34m│\u001b[0m\n",
       "\u001b[34m│\u001b[0m  ╰───────────┴─────────────────────╯                                                                            \u001b[34m│\u001b[0m\n",
       "\u001b[34m│\u001b[0m                                                                                                                 \u001b[34m│\u001b[0m\n",
       "\u001b[34m╰─────────────────────────────────────────────────────────────────────────────────────────────────────────────────╯\u001b[0m\n"
      ]
     },
     "metadata": {},
     "output_type": "display_data"
    },
    {
     "name": "stdout",
     "output_type": "stream",
     "text": [
      "2+2等于4。"
     ]
    },
    {
     "data": {
      "text/plain": [
       "AgentResult(stop_reason='end_turn', message={'role': 'assistant', 'content': [{'text': '2+2等于4。'}]}, metrics=EventLoopMetrics(cycle_count=4, tool_metrics={'weather': ToolMetrics(tool={'toolUseId': 'tooluse_5JuPfziYTqmmakHmdjGaHA', 'name': 'weather', 'input': {'city': 'Beijing'}}, call_count=1, success_count=1, error_count=0, total_time=0.0005085468292236328), 'calculator': ToolMetrics(tool={'toolUseId': 'tooluse_cFOBz506SX2Xdf6WZfGR2g', 'name': 'calculator', 'input': {'mode': 'evaluate', 'expression': '2+2'}}, call_count=1, success_count=1, error_count=0, total_time=0.00971364974975586)}, cycle_durations=[0.8602633476257324, 0.8919317722320557], traces=[<strands.telemetry.metrics.Trace object at 0xffff5a156310>, <strands.telemetry.metrics.Trace object at 0xffff5b701b10>, <strands.telemetry.metrics.Trace object at 0xffff5a9b9890>, <strands.telemetry.metrics.Trace object at 0xffff5b4ff090>], accumulated_usage={'inputTokens': 7745, 'outputTokens': 130, 'totalTokens': 7875}, accumulated_metrics={'latencyMs': 4243}), state={})"
      ]
     },
     "execution_count": 1,
     "metadata": {},
     "output_type": "execute_result"
    }
   ],
   "source": [
    "from strands import Agent, tool\n",
    "from strands_tools import calculator\n",
    "\n",
    "# Create a custom weather tool for demonstration\n",
    "@tool\n",
    "def weather(city: str) -> str:\n",
    "    \"\"\"Get weather information for a city\n",
    "    Args:\n",
    "        city: City or location name\n",
    "    \"\"\"\n",
    "    return f\"Weather for {city}: Sunny, 35°C\"\n",
    "\n",
    "# Create and test Strands Agent\n",
    "agent = Agent(\n",
    "    model=\"us.amazon.nova-pro-v1:0\",\n",
    "    system_prompt = \"\"\"You are a helpful assistant that provides concise responses.\n",
    "                    \"\"\",\n",
    "    tools=[weather, calculator],\n",
    ")\n",
    "\n",
    "print(\"\\n=== Testing Agent Capabilities ===\")\n",
    "print(\"\\n1. Testing custom weather tool:\")\n",
    "agent(\"北京的天气怎么样？\")\n",
    "\n",
    "print(\"\\n2. Testing calculator tool:\")\n",
    "agent(\"2+2=\")"
   ]
  },
  {
   "cell_type": "markdown",
   "id": "deploy-strands-agent",
   "metadata": {},
   "source": [
    "## 将 Strands Agent 部署到 Bedrock AgentCore Runtime\n",
    "\n",
    "创建我们的 Strands Agent 的可部署版本并将其部署为托管服务。\n",
    "\n",
    "### 部署过程：\n",
    "1. 创建带有代理配置的 Python 文件\n",
    "2. 设置带有依赖项的 requirements.txt\n",
    "3. 配置带有身份验证的 AgentCore Runtime\n",
    "4. 使用 CodeBuild 进行容器化部署"
   ]
  },
  {
   "cell_type": "markdown",
   "id": "08aeb241",
   "metadata": {},
   "source": [
    "### 步骤 1：创建带有代理配置的 Python 文件\n",
    "\n",
    "创建定义我们的 Strands Agent 及其所有集成工具的主 Python 文件。该文件将作为容器化服务部署到 Bedrock AgentCore Runtime。\n",
    "![bedrock-agentcore-runtime-launch](images/runtime-launch.png)\n",
    "\n",
    "**部署要求：**\n",
    "要将代理部署到 AgentCore Runtime，我们需要：\n",
    "- 导入 Runtime App：`from bedrock_agentcore.runtime import BedrockAgentCoreApp`\n",
    "- 初始化 App：`app = BedrockAgentCoreApp()`\n",
    "- 使用 `@app.entrypoint` 装饰调用函数\n",
    "- 让 AgentCore Runtime 通过 `app.run()` 控制执行"
   ]
  },
  {
   "cell_type": "code",
   "execution_count": 2,
   "id": "065fd87d-f86f-46e1-9986-bdc26bcdb0df",
   "metadata": {},
   "outputs": [
    {
     "name": "stdout",
     "output_type": "stream",
     "text": [
      "Writing strands_agent.py\n"
     ]
    }
   ],
   "source": [
    "%%writefile strands_agent.py\n",
    "from strands import Agent, tool\n",
    "from strands_tools import calculator\n",
    "from bedrock_agentcore.runtime import BedrockAgentCoreApp\n",
    "\n",
    "app = BedrockAgentCoreApp()\n",
    "# Create a custom weather tool for demonstration\n",
    "@tool\n",
    "def weather(city: str) -> str:\n",
    "    \"\"\"Get weather information for a city\n",
    "    Args:\n",
    "        city: City or location name\n",
    "    \"\"\"\n",
    "    return f\"Weather for {city}: Sunny, 35°C\"\n",
    "\n",
    "# Create and test the comprehensive Strands Agent\n",
    "agent = Agent(\n",
    "    model=\"us.amazon.nova-pro-v1:0\",\n",
    "    system_prompt = \"\"\"You are a helpful assistant that provides concise responses.\n",
    "                    \"\"\",\n",
    "    tools=[weather, calculator],\n",
    ")\n",
    "\n",
    "@app.entrypoint\n",
    "async def strands_agent_bedrock(payload, context):\n",
    "    \"\"\"\n",
    "    Invoke the agent with a payload\n",
    "    \"\"\"\n",
    "    print(f\"Payload: {payload}\")\n",
    "    print(f\"Context: {context}\")\n",
    "    user_input = payload.get(\"prompt\", \"No prompt found\")\n",
    "    response = agent(user_input)\n",
    "    return response\n",
    "    \n",
    "    # Streaming Mode\n",
    "    \"\"\"\n",
    "    stream = agent.stream_async(user_input)\n",
    "    async for event in stream:\n",
    "        if \"data\" in event:\n",
    "            yield event\n",
    "    \"\"\"\n",
    "\n",
    "if __name__ == \"__main__\":\n",
    "    app.run()"
   ]
  },
  {
   "cell_type": "markdown",
   "id": "8389ed65",
   "metadata": {},
   "source": [
    "当您使用 `BedrockAgentCoreApp` 时，它会自动：\n",
    "\n",
    "* 创建一个监听端口 8080 的 HTTP 服务器\n",
    "* 实现处理代理要求所需的 `/invocations` 端点\n",
    "* 实现用于健康检查的 `/ping` 端点（对异步代理非常重要）\n",
    "* 处理适当的内容类型和响应格式\n",
    "* 根据 AWS 标准管理错误处理"
   ]
  },
  {
   "cell_type": "markdown",
   "id": "75e73073",
   "metadata": {},
   "source": [
    "### 步骤 2：创建依赖文件\n",
    "\n",
    "定义 Strands Agent 部署所需的 Python 依赖项。\n",
    "\n",
    "**关键依赖项：**\n",
    "- **aws-opentelemetry-distro**：AgentCore 可观测性所需\n",
    "- **strands-agents**：核心 Strands 框架\n",
    "- **bedrock-agentcore**：运行时集成\n",
    "\n",
    "**可观测性集成：**\n",
    "`aws-opentelemetry-distro` 库启用自动检测以进行监控和跟踪。如 [AgentCore 可观测性指南](https://docs.aws.amazon.com/bedrock-agentcore/latest/devguide/observability-configure.html) 中所述，生成的 Dockerfile 包含：\n",
    "\n",
    "```dockerfile\n",
    "CMD [\"opentelemetry-instrument\", \"python\", \"main.py\"]\n",
    "```\n",
    "\n",
    "这种自动检测方法会自动将 OpenTelemetry SDK 添加到 Python 路径中，以实现全面的可观测性。"
   ]
  },
  {
   "cell_type": "code",
   "execution_count": 3,
   "id": "8ce02b2c-05ff-4a3c-a581-bcaa320b3b55",
   "metadata": {},
   "outputs": [
    {
     "name": "stdout",
     "output_type": "stream",
     "text": [
      "Writing requirements.txt\n"
     ]
    }
   ],
   "source": [
    "%%writefile requirements.txt\n",
    "strands-agents\n",
    "strands-agents-tools\n",
    "bedrock-agentcore\n",
    "bedrock-agentcore-starter-toolkit\n",
    "aws-opentelemetry-distro>=0.10.0"
   ]
  },
  {
   "cell_type": "markdown",
   "id": "6fcfe207",
   "metadata": {},
   "source": [
    "### 可观测性设置（可选）\n",
    "\n",
    "**CloudWatch APM 配置：**\n",
    "启用 CloudWatch APM → 事务搜索，以全面观测和监控已部署的 Strands Agent。在本实验中，将 X-Ray 跟踪索引设置为 100%，以生成所有跟踪摘要进行端到端事务分析。\n",
    "![bedrock-agentcore-observability-setup](images/observability-setup.png)\n",
    "\n",
    "**优势：**\n",
    "- **性能监控**：请求跟踪和响应时间指标\n",
    "- **错误跟踪**：全面的调试功能\n",
    "- **使用分析**：模式和使用洞察\n",
    "- **分布式跟踪**：端到端请求流可见性"
   ]
  },
  {
   "cell_type": "markdown",
   "id": "71e5b911",
   "metadata": {},
   "source": [
    "### 步骤 3：配置 AgentCore Runtime\n",
    "\n",
    "设置 Bedrock AgentCore Runtime 配置并自动创建资源。\n",
    "\n",
    "**生成的工件：**\n",
    "此步骤创建必要的部署文件：\n",
    "- **Dockerfile**：Strands Agent 的容器配置\n",
    "- **.dockerignore**：列出 docker build 时排除的文件\n",
    "- **.bedrock_agentcore.yaml**：运行时部署配置\n"
   ]
  },
  {
   "cell_type": "code",
   "execution_count": 4,
   "id": "f3f7b591-1845-4e9c-97ad-d5d304ce7528",
   "metadata": {},
   "outputs": [
    {
     "name": "stderr",
     "output_type": "stream",
     "text": [
      "Entrypoint parsed: file=/workshop/sample-strands-in-5-minutes/bedrock-agentcore-integration/workshop/cn/04-bedrock-agentcore-runtime-strands/strands_agent.py, bedrock_agentcore_name=strands_agent\n",
      "Configuring BedrockAgentCore agent: strands_claude_getting_started\n",
      "Generated .dockerignore\n",
      "Generated Dockerfile: /workshop/sample-strands-in-5-minutes/bedrock-agentcore-integration/workshop/cn/04-bedrock-agentcore-runtime-strands/Dockerfile\n",
      "Generated .dockerignore: /workshop/sample-strands-in-5-minutes/bedrock-agentcore-integration/workshop/cn/04-bedrock-agentcore-runtime-strands/.dockerignore\n",
      "Setting 'strands_claude_getting_started' as default agent\n",
      "Bedrock AgentCore configured: /workshop/sample-strands-in-5-minutes/bedrock-agentcore-integration/workshop/cn/04-bedrock-agentcore-runtime-strands/.bedrock_agentcore.yaml\n"
     ]
    },
    {
     "data": {
      "text/plain": [
       "ConfigureResult(config_path=PosixPath('/workshop/sample-strands-in-5-minutes/bedrock-agentcore-integration/workshop/cn/04-bedrock-agentcore-runtime-strands/.bedrock_agentcore.yaml'), dockerfile_path=PosixPath('/workshop/sample-strands-in-5-minutes/bedrock-agentcore-integration/workshop/cn/04-bedrock-agentcore-runtime-strands/Dockerfile'), dockerignore_path=PosixPath('/workshop/sample-strands-in-5-minutes/bedrock-agentcore-integration/workshop/cn/04-bedrock-agentcore-runtime-strands/.dockerignore'), runtime='Docker', region='us-east-1', account_id='710299592439', execution_role=None, ecr_repository=None, auto_create_ecr=True)"
      ]
     },
     "execution_count": 4,
     "metadata": {},
     "output_type": "execute_result"
    }
   ],
   "source": [
    "from bedrock_agentcore_starter_toolkit import Runtime\n",
    "import boto3\n",
    "\n",
    "region = boto3.session.Session().region_name\n",
    "agentcore_runtime = Runtime()\n",
    "\n",
    "response = agentcore_runtime.configure(\n",
    "    entrypoint=\"strands_agent.py\",\n",
    "    auto_create_execution_role=True,\n",
    "    auto_create_ecr=True,\n",
    "    requirements_file=\"requirements.txt\",\n",
    "    region=region,\n",
    "    agent_name=\"strands_claude_getting_started\"\n",
    ")\n",
    "response"
   ]
  },
  {
   "cell_type": "markdown",
   "id": "5e8c91a8",
   "metadata": {},
   "source": [
    "### 步骤 4：部署到 AgentCore Runtime\n",
    "\n",
    "使用 AWS CodeBuild 启动部署过程进行容器化和部署。\n",
    "\n",
    "**部署过程：**\n",
    "- 构建 Strands Agents 的容器化版本\n",
    "- 创建所需的 AWS 资源（ECR 存储库、IAM 角色）\n",
    "- 将容器镜像推送到 Amazon ECR\n",
    "- 作为托管的自动扩展服务部署到 AgentCore Runtime"
   ]
  },
  {
   "cell_type": "code",
   "execution_count": 5,
   "id": "130faf98-71ab-428b-9d4d-a4e2fb0692bb",
   "metadata": {},
   "outputs": [
    {
     "name": "stderr",
     "output_type": "stream",
     "text": [
      "🚀 CodeBuild mode: building in cloud (RECOMMENDED - DEFAULT)\n",
      "   • Build ARM64 containers in the cloud with CodeBuild\n",
      "   • No local Docker required\n",
      "💡 Available deployment modes:\n",
      "   • runtime.launch()                           → CodeBuild (current)\n",
      "   • runtime.launch(local=True)                 → Local development\n",
      "   • runtime.launch(local_build=True)           → Local build + cloud deploy (NEW)\n",
      "Starting CodeBuild ARM64 deployment for agent 'strands_claude_getting_started' to account 710299592439 (us-east-1)\n",
      "Starting CodeBuild ARM64 deployment for agent 'strands_claude_getting_started' to account 710299592439 (us-east-1)\n",
      "Setting up AWS resources (ECR repository, execution roles)...\n",
      "Getting or creating ECR repository for agent: strands_claude_getting_started\n",
      "✅ ECR repository available: 710299592439.dkr.ecr.us-east-1.amazonaws.com/bedrock-agentcore-strands_claude_getting_started\n",
      "Getting or creating execution role for agent: strands_claude_getting_started\n",
      "Using AWS region: us-east-1, account ID: 710299592439\n",
      "Role name: AmazonBedrockAgentCoreSDKRuntime-us-east-1-8556fc4504\n"
     ]
    },
    {
     "name": "stdout",
     "output_type": "stream",
     "text": [
      "Repository doesn't exist, creating new ECR repository: bedrock-agentcore-strands_claude_getting_started\n"
     ]
    },
    {
     "name": "stderr",
     "output_type": "stream",
     "text": [
      "Role doesn't exist, creating new execution role: AmazonBedrockAgentCoreSDKRuntime-us-east-1-8556fc4504\n",
      "Starting execution role creation process for agent: strands_claude_getting_started\n",
      "✓ Role creating: AmazonBedrockAgentCoreSDKRuntime-us-east-1-8556fc4504\n",
      "Creating IAM role: AmazonBedrockAgentCoreSDKRuntime-us-east-1-8556fc4504\n",
      "✓ Role created: arn:aws:iam::710299592439:role/AmazonBedrockAgentCoreSDKRuntime-us-east-1-8556fc4504\n",
      "✓ Execution policy attached: BedrockAgentCoreRuntimeExecutionPolicy-strands_claude_getting_started\n",
      "Role creation complete and ready for use with Bedrock AgentCore\n",
      "✅ Execution role available: arn:aws:iam::710299592439:role/AmazonBedrockAgentCoreSDKRuntime-us-east-1-8556fc4504\n",
      "Preparing CodeBuild project and uploading source...\n",
      "Getting or creating CodeBuild execution role for agent: strands_claude_getting_started\n",
      "Role name: AmazonBedrockAgentCoreSDKCodeBuild-us-east-1-8556fc4504\n",
      "CodeBuild role doesn't exist, creating new role: AmazonBedrockAgentCoreSDKCodeBuild-us-east-1-8556fc4504\n",
      "Creating IAM role: AmazonBedrockAgentCoreSDKCodeBuild-us-east-1-8556fc4504\n",
      "✓ Role created: arn:aws:iam::710299592439:role/AmazonBedrockAgentCoreSDKCodeBuild-us-east-1-8556fc4504\n",
      "Attaching inline policy: CodeBuildExecutionPolicy to role: AmazonBedrockAgentCoreSDKCodeBuild-us-east-1-8556fc4504\n",
      "✓ Policy attached: CodeBuildExecutionPolicy\n",
      "Waiting for IAM role propagation...\n",
      "CodeBuild execution role creation complete: arn:aws:iam::710299592439:role/AmazonBedrockAgentCoreSDKCodeBuild-us-east-1-8556fc4504\n",
      "Using .dockerignore with 44 patterns\n",
      "Uploaded source to S3: strands_claude_getting_started/20250828-034317.zip\n",
      "Created CodeBuild project: bedrock-agentcore-strands_claude_getting_started-builder\n",
      "Starting CodeBuild build (this may take several minutes)...\n",
      "Starting CodeBuild monitoring...\n",
      "🔄 QUEUED started (total: 0s)\n",
      "✅ QUEUED completed in 5.0s\n",
      "🔄 PROVISIONING started (total: 5s)\n",
      "✅ PROVISIONING completed in 10.1s\n",
      "🔄 PRE_BUILD started (total: 15s)\n",
      "✅ PRE_BUILD completed in 10.1s\n",
      "🔄 BUILD started (total: 25s)\n",
      "✅ BUILD completed in 60.4s\n",
      "🔄 POST_BUILD started (total: 86s)\n",
      "✅ POST_BUILD completed in 15.1s\n",
      "🔄 COMPLETED started (total: 101s)\n",
      "✅ COMPLETED completed in 0.0s\n",
      "🎉 CodeBuild completed successfully in 1m 40s\n",
      "CodeBuild completed successfully\n",
      "✅ CodeBuild project configuration saved\n",
      "Deploying to Bedrock AgentCore...\n",
      "✅ Agent created/updated: arn:aws:bedrock-agentcore:us-east-1:710299592439:runtime/strands_claude_getting_started-a9Dv1aGGY0\n",
      "Polling for endpoint to be ready...\n",
      "Agent endpoint: arn:aws:bedrock-agentcore:us-east-1:710299592439:runtime/strands_claude_getting_started-a9Dv1aGGY0/runtime-endpoint/DEFAULT\n",
      "Deployment completed successfully - Agent: arn:aws:bedrock-agentcore:us-east-1:710299592439:runtime/strands_claude_getting_started-a9Dv1aGGY0\n",
      "Built with CodeBuild: bedrock-agentcore-strands_claude_getting_started-builder:ae111c48-d456-475c-aba1-b7352c7e0818\n",
      "Deployed to cloud: arn:aws:bedrock-agentcore:us-east-1:710299592439:runtime/strands_claude_getting_started-a9Dv1aGGY0\n",
      "ECR image: 710299592439.dkr.ecr.us-east-1.amazonaws.com/bedrock-agentcore-strands_claude_getting_started\n",
      "🔍 Agent logs available at:\n",
      "   /aws/bedrock-agentcore/runtimes/strands_claude_getting_started-a9Dv1aGGY0-DEFAULT\n",
      "   /aws/bedrock-agentcore/runtimes/strands_claude_getting_started-a9Dv1aGGY0-DEFAULT/runtime-logs\n",
      "💡 Tail logs with: aws logs tail /aws/bedrock-agentcore/runtimes/strands_claude_getting_started-a9Dv1aGGY0-DEFAULT --follow\n",
      "💡 Or view recent logs: aws logs tail /aws/bedrock-agentcore/runtimes/strands_claude_getting_started-a9Dv1aGGY0-DEFAULT --since 1h\n"
     ]
    }
   ],
   "source": [
    "launch_result = agentcore_runtime.launch()"
   ]
  },
  {
   "cell_type": "markdown",
   "id": "verify-deployment",
   "metadata": {},
   "source": [
    "### 步骤 5：验证部署状态\n",
    "\n",
    "监控部署进度并等待运行时准备就绪："
   ]
  },
  {
   "cell_type": "code",
   "execution_count": 6,
   "id": "ce33cae8-101c-404f-830c-e7170c4f9e2a",
   "metadata": {},
   "outputs": [
    {
     "name": "stdout",
     "output_type": "stream",
     "text": [
      "Checking AgentCore Runtime status...\n"
     ]
    },
    {
     "name": "stderr",
     "output_type": "stream",
     "text": [
      "Retrieved Bedrock AgentCore status for: strands_claude_getting_started\n"
     ]
    },
    {
     "name": "stdout",
     "output_type": "stream",
     "text": [
      "Initial status: READY\n",
      "✓ AgentCore Runtime is READY!\n",
      "Final status: READY\n",
      "Strands AgentCore Runtime ID: strands_claude_getting_started-a9Dv1aGGY0\n",
      "Strands AgentCore Runtime ARN: arn:aws:bedrock-agentcore:us-east-1:710299592439:runtime/strands_claude_getting_started-a9Dv1aGGY0\n",
      "ECR Repo for Strands AgentCore Runtime: bedrock-agentcore-strands_claude_getting_started\n",
      "CodeBuild Project for Strands AgentCore Runtime: bedrock-agentcore-strands_claude_getting_started-builder\n"
     ]
    }
   ],
   "source": [
    "import time\n",
    "\n",
    "print(\"Checking AgentCore Runtime status...\")\n",
    "status_response = agentcore_runtime.status()\n",
    "status = status_response.endpoint['status']\n",
    "print(f\"Initial status: {status}\")\n",
    "\n",
    "end_status = ['READY', 'CREATE_FAILED', 'DELETE_FAILED', 'UPDATE_FAILED']\n",
    "while status not in end_status:\n",
    "    print(f\"Status: {status} - waiting...\")\n",
    "    time.sleep(10)\n",
    "    status_response = agentcore_runtime.status()\n",
    "    status = status_response.endpoint['status']\n",
    "\n",
    "if status == 'READY':\n",
    "    print(\"✓ AgentCore Runtime is READY!\")\n",
    "else:\n",
    "    print(f\"⚠ AgentCore Runtime status: {status}\")\n",
    "    \n",
    "print(f\"Final status: {status}\")\n",
    "\n",
    "strands_runtime_id = launch_result.agent_id\n",
    "strands_runtime_arn = launch_result.agent_arn\n",
    "strands_ecr_repo_name = launch_result.ecr_uri.split('/')[1]\n",
    "strands_codebuild_name = launch_result.codebuild_id.split(':')[0]\n",
    "print(f\"Strands AgentCore Runtime ID: {strands_runtime_id}\")\n",
    "print(f\"Strands AgentCore Runtime ARN: {strands_runtime_arn}\")\n",
    "print(f\"ECR Repo for Strands AgentCore Runtime: {strands_ecr_repo_name}\")\n",
    "print(f\"CodeBuild Project for Strands AgentCore Runtime: {strands_codebuild_name}\")"
   ]
  },
  {
   "cell_type": "markdown",
   "id": "test-deployed-agent",
   "metadata": {},
   "source": [
    "## 测试已部署的代理\n",
    "\n",
    "通过 Bedrock AgentCore Runtime API 调用已部署的 Strands Agent，使用各种提示来验证所有集成工具是否正常工作。"
   ]
  },
  {
   "cell_type": "code",
   "execution_count": 7,
   "id": "3ffb4068-4c29-4522-b79d-0db190aed33c",
   "metadata": {},
   "outputs": [
    {
     "name": "stdout",
     "output_type": "stream",
     "text": [
      "\"北京现在天气晴朗，温度是35°C。\\n\"\n"
     ]
    }
   ],
   "source": [
    "import boto3\n",
    "import json\n",
    "import uuid\n",
    "\n",
    "PROMPT = \"北京的天气怎么样？\"\n",
    "\n",
    "agent_runtime_arn = launch_result.agent_arn\n",
    "session_id = str(uuid.uuid4())\n",
    "\n",
    "agentcore_client = boto3.client(\n",
    "    'bedrock-agentcore',\n",
    "    region_name=boto3.session.Session().region_name\n",
    ")\n",
    "\n",
    "boto3_response = agentcore_client.invoke_agent_runtime(\n",
    "    agentRuntimeArn=agent_runtime_arn,\n",
    "    qualifier=\"DEFAULT\",\n",
    "    runtimeUserId=\"123\",\n",
    "    runtimeSessionId=session_id, #Provide same session identifier across multiple requests to maintain conversation context, and with better traceability\n",
    "    payload=json.dumps({\"prompt\": PROMPT})\n",
    ")\n",
    "\n",
    "if \"text/event-stream\" in boto3_response.get(\"contentType\", \"\"):\n",
    "    for line in boto3_response[\"response\"].iter_lines(chunk_size=1):\n",
    "        if line:\n",
    "            line = line.decode(\"utf-8\")\n",
    "            if line.startswith(\"data: \"):\n",
    "                print(line)\n",
    "else:\n",
    "    events = []\n",
    "    for event in boto3_response.get(\"response\", []):\n",
    "        print(event.decode('utf-8'))\n",
    "        events.append(event)"
   ]
  },
  {
   "cell_type": "markdown",
   "id": "d24ca662",
   "metadata": {},
   "source": [
    "### 测试对话历史\n",
    "\n",
    "验证代理使用相同的会话 ID 在多个请求中维护对话上下文："
   ]
  },
  {
   "cell_type": "code",
   "execution_count": 8,
   "id": "02004ab5",
   "metadata": {},
   "outputs": [
    {
     "name": "stdout",
     "output_type": "stream",
     "text": [
      "['\"你询问了北京的天气情况。我查询到北京现在天气晴朗，温度是35°C。\\\\n\"']\n"
     ]
    }
   ],
   "source": [
    "PROMPT = \"我问你什么了？\"\n",
    "\n",
    "boto3_response = agentcore_client.invoke_agent_runtime(\n",
    "    agentRuntimeArn=agent_runtime_arn,\n",
    "    qualifier=\"DEFAULT\",\n",
    "    runtimeUserId=\"123\",\n",
    "    runtimeSessionId=session_id, #Provide same session identifier across multiple requests to maintain conversation context, and with better traceability\n",
    "    payload=json.dumps({\"prompt\": PROMPT})\n",
    ")\n",
    "\n",
    "if \"text/event-stream\" in boto3_response.get(\"contentType\", \"\"):\n",
    "    for line in boto3_response[\"response\"].iter_lines(chunk_size=1):\n",
    "        if line:\n",
    "            line = line.decode(\"utf-8\")\n",
    "            if line.startswith(\"data: \"):\n",
    "                print(line)\n",
    "else:\n",
    "    events = []\n",
    "    for event in boto3_response.get(\"response\", []):\n",
    "        events.append(event.decode('utf-8'))\n",
    "        print(events)"
   ]
  },
  {
   "cell_type": "markdown",
   "id": "dbccecff",
   "metadata": {},
   "source": [
    "### 对话历史和会话管理\n",
    "\n",
    "**Strands Agents 对话管理：**\n",
    "Strands Agents 包含内置的对话管理，默认使用 `SlidingWindowConversationManager` 策略。这会自动维护会话内的对话上下文。\n",
    "\n",
    "**参考：** [Strands Agents 对话管理](https://strandsagents.com/latest/documentation/docs/user-guide/concepts/agents/conversation-management/)\n",
    "\n",
    "**AgentCore Runtime 会话隔离：**\n",
    "- **会话隔离**：每个用户会话都是隔离和安全的\n",
    "- **上下文重用**：对话历史在多次调用中保持\n",
    "- **会话持续时间**：临时会话最长持续 8 小时\n",
    "- **自动清理**：会话在过期后自动清理\n",
    "\n",
    "**参考：** [AgentCore Runtime 会话](https://docs.aws.amazon.com/bedrock-agentcore/latest/devguide/runtime-sessions.html)\n",
    "\n",
    "**长期记忆：**\n",
    "对于超出会话持续时间的持久记忆，请与 Bedrock AgentCore Memory 集成以进行长期对话存储和检索。"
   ]
  },
  {
   "cell_type": "markdown",
   "id": "30d93e17",
   "metadata": {},
   "source": [
    "## Amazon CloudWatch 上的 AgentCore 可观测性\n",
    "\n",
    "### 什么是 Bedrock AgentCore 可观测性？\n",
    "\n",
    "Amazon Bedrock AgentCore 通过 CloudWatch 和 X-Ray 集成提供内置的可观测性。这使得能够监控代理性能、跟踪请求流程和分析对话模式。\n",
    "\n",
    "主要功能：\n",
    "- **会话跟踪**：监控个别对话\n",
    "- **分布式跟踪**：跨组件跟踪请求\n",
    "- **性能指标**：延迟、吞吐量和错误率\n",
    "- **跨度分析**：详细的执行分解\n",
    "\n",
    "了解更多：[AgentCore 可观测性指南](https://docs.aws.amazon.com/bedrock-agentcore/latest/devguide/observability.html)\n",
    "\n",
    "### 查看主仪表板\n",
    "\n",
    "访问 CloudWatch 控制台查看您的 AgentCore 可观测性仪表板：\n",
    "![observability-main-dashboard.png](images/observability-main-dashboard.png)\n",
    "\n",
    "### Session 管理\n",
    "\n",
    "在 `strands_claude_getting_started` 中点击 **DEFAULT** 查看 Session 。这对应了我们的测试会话，包含两个跟踪：\"香港的天气怎么样？\" 和 \"我问你什么了？\"\n",
    "![observability-session-list.png](images/observability-session-list.png)\n",
    "\n",
    "### 会话概览\n",
    "\n",
    "选择一个 Session 以查看总结及 Trace 列表：\n",
    "![observability-session-overview.png](images/observability-session-overview.png)\n",
    "\n",
    "### Trace 分析\n",
    "\n",
    "点击任何 Trace 以检查详细的执行步骤：\n",
    "\n",
    "**Trace 摘要**：\n",
    "![observability-trace-summary.png](images/observability-trace-summary.png)\n",
    "\n",
    "**Trace 详情**：\n",
    "![observability-trace-span-1.png](images/observability-trace-span-1.png)\n",
    "![observability-trace-span-2.png](images/observability-trace-span-2.png)"
   ]
  },
  {
   "cell_type": "markdown",
   "id": "cleanup",
   "metadata": {},
   "source": [
    "## 资源清理（可选）\n",
    "\n",
    "清理已部署的资源："
   ]
  },
  {
   "cell_type": "code",
   "execution_count": 9,
   "id": "4fc99fea",
   "metadata": {},
   "outputs": [
    {
     "name": "stdout",
     "output_type": "stream",
     "text": [
      "Deleting AgentCore Runtime...\n",
      "✓ AgentCore Runtime deletion initiated\n",
      "Deleting ECR repository...\n",
      "✓ ECR repository deleted\n",
      "Deleting CodeBuild Project...\n",
      "✓ CodeBuild Project deleted\n",
      "Deleting Bedrock AgentCore configuration file...\n",
      "✓ .bedrock_agentcore.yaml deleted\n"
     ]
    }
   ],
   "source": [
    "import boto3\n",
    "import os\n",
    "\n",
    "region = boto3.session.Session().region_name\n",
    "\n",
    "agentcore_control_client = boto3.client('bedrock-agentcore-control', region_name=region)\n",
    "ecr_client = boto3.client('ecr',region_name=region)\n",
    "codebuild_client = boto3.client('codebuild',region_name=region)\n",
    "\n",
    "try:\n",
    "    print(\"Deleting AgentCore Runtime...\")\n",
    "    agentcore_control_client.delete_agent_runtime(agentRuntimeId=strands_runtime_id)\n",
    "    print(\"✓ AgentCore Runtime deletion initiated\")\n",
    "\n",
    "    print(\"Deleting ECR repository...\")\n",
    "    ecr_client.delete_repository(repositoryName=strands_ecr_repo_name, force=True)\n",
    "    print(\"✓ ECR repository deleted\")\n",
    "\n",
    "    print(\"Deleting CodeBuild Project...\")\n",
    "    codebuild_client.delete_project(name=strands_codebuild_name)\n",
    "    print(\"✓ CodeBuild Project deleted\")\n",
    "\n",
    "    print(\"Deleting Bedrock AgentCore configuration file...\")\n",
    "    os.remove(\".bedrock_agentcore.yaml\") \n",
    "    print(\"✓ .bedrock_agentcore.yaml deleted\")\n",
    "except Exception as e:\n",
    "    print(f\"❌ Error during cleanup: {e}\")\n",
    "    print(\"You may need to manually clean up some resources.\")"
   ]
  }
 ],
 "metadata": {
  "kernelspec": {
   "display_name": ".venv",
   "language": "python",
   "name": "python3"
  },
  "language_info": {
   "codemirror_mode": {
    "name": "ipython",
    "version": 3
   },
   "file_extension": ".py",
   "mimetype": "text/x-python",
   "name": "python",
   "nbconvert_exporter": "python",
   "pygments_lexer": "ipython3",
   "version": "3.11.13"
  }
 },
 "nbformat": 4,
 "nbformat_minor": 5
}
