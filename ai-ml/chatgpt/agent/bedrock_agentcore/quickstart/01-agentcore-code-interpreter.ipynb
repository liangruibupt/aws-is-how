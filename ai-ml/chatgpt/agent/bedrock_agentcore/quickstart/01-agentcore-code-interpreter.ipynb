{
 "cells": [
  {
   "cell_type": "markdown",
   "id": "main-title",
   "metadata": {},
   "source": [
    "# Strands Agents with Bedrock AgentCore Code Interpreter\n",
    "\n",
    "本研讨会演示如何将 Strands Agents 与 Amazon Bedrock AgentCore Code Interpreter 集成，以创建能够动态执行代码的 AI 代理。\n",
    "\n",
    "## 概述\n",
    "\n",
    "在本实验中，您将：\n",
    "- 了解 Bedrock AgentCore Code Interpreter 功能\n",
    "- 使用 Strands Agents 测试默认 Code Interpreter\n",
    "- 创建具有公共网络访问权限的自定义 Code Interpreter"
   ]
  },
  {
   "cell_type": "markdown",
   "id": "09619786",
   "metadata": {},
   "source": [
    "## 先决条件\n",
    "\n",
    "开始本实验之前，请确保您具备：\n",
    "- 已配置 AWS 凭证（IAM 角色或环境变量）\n",
    "- 已安装所需的 Python 包\n",
    "- 对 Strands Agents 和 Bedrock AgentCore 概念有基本了解\n",
    "\n",
    "如果您没有在假设 IAM 角色的环境中运行，请将您的 AWS 凭证设置为环境变量："
   ]
  },
  {
   "cell_type": "code",
   "execution_count": 1,
   "id": "a8111f9e",
   "metadata": {},
   "outputs": [],
   "source": [
    "import os\n",
    "\n",
    "#os.environ[\"AWS_ACCESS_KEY_ID\"]=<YOUR ACCESS KEY>\n",
    "#os.environ[\"AWS_SECRET_ACCESS_KEY\"]=<YOUR SECRET KEY>\n",
    "#os.environ[\"AWS_SESSION_TOKEN\"]=<OPTIONAL - YOUR SESSION TOKEN IF TEMP CREDENTIAL>\n",
    "#os.environ[\"AWS_REGION\"]=<AWS REGION WITH BEDROCK AGENTCORE AVAILABLE>"
   ]
  },
  {
   "cell_type": "markdown",
   "id": "cd4c88bd",
   "metadata": {},
   "source": [
    "为 Strands Agents 和 Bedrock AgentCore Python SDK 安装所需的包："
   ]
  },
  {
   "cell_type": "code",
   "execution_count": 2,
   "id": "73c848d4",
   "metadata": {},
   "outputs": [],
   "source": [
    "#%pip install -q strands-agents strands-agents-tools bedrock-agentcore"
   ]
  },
  {
   "cell_type": "markdown",
   "id": "c131d5a7",
   "metadata": {},
   "source": [
    "## 什么是 Bedrock AgentCore Code Interpreter？\n",
    "\n",
    "Amazon Bedrock AgentCore Code Interpreter 是一个强大的工具，允许 AI 代理在安全的沙盒环境中动态执行代码。主要优势包括：\n",
    "\n",
    "- **安全执行**：在隔离的沙盒环境中运行 Python 代码\n",
    "- **动态问题解决**：使代理能够执行计算、分析数据和生成可视化\n",
    "- **灵活配置**：支持默认沙盒和自定义网络启用环境\n",
    "- **集成就绪**：与 Strands Agents 和其他 AI 框架无缝集成\n",
    "\n",
    "Code Interpreter 为代理提供了解决需要计算分析、数据处理或数学计算的复杂问题的能力。"
   ]
  },
  {
   "cell_type": "markdown",
   "id": "e65876db",
   "metadata": {},
   "source": [
    "### 使用默认 Code Interpreter 测试 Strands Agent\n",
    "\n",
    "让我们首先使用默认的 AgentCore Code Interpreter 测试 Strands Agent。我们将演示它如何在沙盒环境中生成和执行代码来解决数学问题。"
   ]
  },
  {
   "cell_type": "code",
   "execution_count": 3,
   "id": "69fefd8b",
   "metadata": {},
   "outputs": [
    {
     "name": "stdout",
     "output_type": "stream",
     "text": [
      "<thinking> The user's query is a simple arithmetic problem. I can use the code interpreter tool to execute the calculation. </thinking>\n",
      "\n",
      "Tool #1: code_interpreter\n",
      "<thinking> It seems the session 'math-session' does not exist. I need to initialize a new session before executing the code. </thinking> \n",
      "Tool #2: code_interpreter\n",
      "\n",
      "Tool #3: code_interpreter\n",
      "<thinking> The first session initialization was successful, but the second tool call to execute the code failed because the session was not found. I will try executing the code again in the newly created session. </thinking> \n",
      "Tool #4: code_interpreter\n",
      "<thinking> The code execution was successful, and the result of 2 + 2 is 4. I can now provide the answer to the user. </thinking>\n",
      "\n",
      "The result of 2 + 2 is 4."
     ]
    },
    {
     "data": {
      "text/plain": [
       "AgentResult(stop_reason='end_turn', message={'role': 'assistant', 'content': [{'text': '<thinking> The code execution was successful, and the result of 2 + 2 is 4. I can now provide the answer to the user. </thinking>\\n\\nThe result of 2 + 2 is 4.'}]}, metrics=EventLoopMetrics(cycle_count=4, tool_metrics={'code_interpreter': ToolMetrics(tool={'toolUseId': 'tooluse_kWsHutQLTTGcM8IqGsW49w', 'name': 'code_interpreter', 'input': {'code_interpreter_input': {'action': {'session_name': 'math-session', 'language': 'python', 'code': '2 + 2', 'type': 'executeCode'}}}}, call_count=4, success_count=2, error_count=2, total_time=1.1129376888275146)}, cycle_durations=[1.3124580383300781], traces=[<strands.telemetry.metrics.Trace object at 0xffff575477d0>, <strands.telemetry.metrics.Trace object at 0xffff57c097d0>, <strands.telemetry.metrics.Trace object at 0xffff57550110>, <strands.telemetry.metrics.Trace object at 0xffff57578f10>], accumulated_usage={'inputTokens': 15236, 'outputTokens': 358, 'totalTokens': 15594}, accumulated_metrics={'latencyMs': 7818}), state={})"
      ]
     },
     "execution_count": 3,
     "metadata": {},
     "output_type": "execute_result"
    }
   ],
   "source": [
    "from strands import Agent\n",
    "from strands_tools.code_interpreter import AgentCoreCodeInterpreter\n",
    "\n",
    "agentcore_code_interpreter = AgentCoreCodeInterpreter()\n",
    "\n",
    "# Create a code gen assistant agent\n",
    "agent = Agent(\n",
    "    model=\"us.amazon.nova-pro-v1:0\",  # Optional: Specify the model ID\n",
    "    system_prompt=\"\"\"You are a helpful AI assistant that validates all answers through code execution.\"\"\",\n",
    "    tools=[agentcore_code_interpreter.code_interpreter],\n",
    ")\n",
    "\n",
    "agent(\"2+2=\")"
   ]
  },
  {
   "cell_type": "markdown",
   "id": "be6f0bcc",
   "metadata": {},
   "source": [
    "让我们检查代理循环的详细执行流程，以了解代理如何处理请求和生成响应："
   ]
  },
  {
   "cell_type": "markdown",
   "id": "12d4ebfa",
   "metadata": {},
   "source": [
    "### 了解沙盒环境限制\n",
    "\n",
    "默认 Code Interpreter 在具有网络隔离的沙盒环境中运行。这是一个重要的安全功能，可防止未经授权的网络访问，同时确保代码执行安全。"
   ]
  },
  {
   "cell_type": "markdown",
   "id": "07c4afad",
   "metadata": {},
   "source": [
    "## 创建具有网络访问权限的自定义 Code Interpreter\n",
    "\n",
    "为了启用基于网络的操作，我们将创建一个具有公共网络访问权限的自定义 Code Interpreter。这展示了 AgentCore 平台在不同用例中的灵活性。\n",
    "\n",
    "### 步骤 1：初始化 AgentCore 客户端\n",
    "\n",
    "首先，让我们为控制平面和数据平面操作设置必要的客户端："
   ]
  },
  {
   "cell_type": "code",
   "execution_count": 4,
   "id": "3fd12056",
   "metadata": {},
   "outputs": [],
   "source": [
    "from bedrock_agentcore._utils import endpoints\n",
    "import boto3\n",
    "import json\n",
    "\n",
    "region = boto3.session.Session().region_name\n",
    "\n",
    "data_plane_endpoint = endpoints.get_data_plane_endpoint(region)\n",
    "control_plane_endpoint = endpoints.get_control_plane_endpoint(region)\n",
    "\n",
    "cp_client = boto3.client(\"bedrock-agentcore-control\", \n",
    "                        region_name=region,\n",
    "                        endpoint_url=control_plane_endpoint)\n",
    "\n",
    "dp_client = boto3.client(\"bedrock-agentcore\", \n",
    "                        region_name=region,\n",
    "                        endpoint_url=data_plane_endpoint)"
   ]
  },
  {
   "cell_type": "markdown",
   "id": "b6f1aa41",
   "metadata": {},
   "source": [
    "### 步骤 2：创建自定义 Code Interpreter\n",
    "\n",
    "创建具有公共网络访问权限的自定义 Code Interpreter："
   ]
  },
  {
   "cell_type": "code",
   "execution_count": 5,
   "id": "86a83c65",
   "metadata": {},
   "outputs": [
    {
     "name": "stdout",
     "output_type": "stream",
     "text": [
      "Created interpreter: sampleCodeInterpreter_cdab8e01-iD6hT9cHC7\n"
     ]
    }
   ],
   "source": [
    "import uuid\n",
    "\n",
    "# Create code interpreter\n",
    "unique_name = f\"sampleCodeInterpreter_{uuid.uuid4().hex[:8]}\"\n",
    "interpreter_response = cp_client.create_code_interpreter(\n",
    "    name=unique_name,\n",
    "    description=\"Environment for Code Interpreter sample test\",\n",
    "    #executionRoleArn=iam_role_arn, #Required only if the code interpreter need to access AWS resources\n",
    "    networkConfiguration={\n",
    "        'networkMode': 'PUBLIC'\n",
    "    }\n",
    ")\n",
    "interpreter_id = interpreter_response[\"codeInterpreterId\"]\n",
    "print(f\"Created interpreter: {interpreter_id}\")"
   ]
  },
  {
   "cell_type": "markdown",
   "id": "2487d461",
   "metadata": {},
   "source": [
    "### 步骤 3：创建 Code Interpreter 会话\n",
    "\n",
    "在自定义 Code Interpreter 中创建代码解释器会话："
   ]
  },
  {
   "cell_type": "code",
   "execution_count": 6,
   "id": "8b50ba74",
   "metadata": {},
   "outputs": [
    {
     "name": "stdout",
     "output_type": "stream",
     "text": [
      "Created session: 01K3JR0AE1TSEEYWDYDKPZ7Z5A\n"
     ]
    }
   ],
   "source": [
    "# Create code interpreter session\n",
    "session_response = dp_client.start_code_interpreter_session(\n",
    "    codeInterpreterIdentifier=interpreter_id,\n",
    "    name=\"sampleCodeInterpreterSession\",\n",
    "    sessionTimeoutSeconds=900\n",
    ")\n",
    "session_id = session_response[\"sessionId\"]\n",
    "print(f\"Created session: {session_id}\")"
   ]
  },
  {
   "cell_type": "markdown",
   "id": "08a1f2af",
   "metadata": {},
   "source": [
    "### 步骤 4：测试基本功能\n",
    "\n",
    "让我们通过执行简单的 \"Hello World\" 命令来测试代码解释器会话："
   ]
  },
  {
   "cell_type": "code",
   "execution_count": 7,
   "id": "a14041af",
   "metadata": {},
   "outputs": [
    {
     "name": "stdout",
     "output_type": "stream",
     "text": [
      "{\n",
      "  \"content\": [\n",
      "    {\n",
      "      \"type\": \"text\",\n",
      "      \"text\": \"Hello World\\r\\n\"\n",
      "    }\n",
      "  ],\n",
      "  \"structuredContent\": {\n",
      "    \"stdout\": \"Hello World\\r\\n\",\n",
      "    \"stderr\": \"\",\n",
      "    \"exitCode\": 0,\n",
      "    \"executionTime\": 0.005044460296630859\n",
      "  },\n",
      "  \"isError\": false\n",
      "}\n"
     ]
    }
   ],
   "source": [
    "response = dp_client.invoke_code_interpreter(\n",
    "    codeInterpreterIdentifier=interpreter_id,\n",
    "    sessionId=session_id,\n",
    "    name=\"executeCommand\",\n",
    "    arguments={\n",
    "        'command': \"echo 'Hello World'\"\n",
    "    }\n",
    ")\n",
    "for event in response[\"stream\"]:\n",
    "    print(json.dumps(event[\"result\"], indent=2))"
   ]
  },
  {
   "cell_type": "markdown",
   "id": "415fec31",
   "metadata": {},
   "source": [
    "让我们通过使用 pip 安装 Yahoo Finance Python 包及调用 API 查询亚马逊的股价来验证代码解释器会话是否可以访问互联网："
   ]
  },
  {
   "cell_type": "code",
   "execution_count": 8,
   "id": "967ed315",
   "metadata": {},
   "outputs": [
    {
     "name": "stdout",
     "output_type": "stream",
     "text": [
      "{\n",
      "  \"content\": [\n",
      "    {\n",
      "      \"type\": \"text\",\n",
      "      \"text\": \"227.94000244140625\"\n",
      "    }\n",
      "  ],\n",
      "  \"structuredContent\": {\n",
      "    \"stdout\": \"227.94000244140625\",\n",
      "    \"stderr\": \"\",\n",
      "    \"exitCode\": 0,\n",
      "    \"executionTime\": 0.9467575550079346\n",
      "  },\n",
      "  \"isError\": false\n",
      "}\n"
     ]
    }
   ],
   "source": [
    "response = dp_client.invoke_code_interpreter(\n",
    "    codeInterpreterIdentifier=interpreter_id,\n",
    "    sessionId=session_id,\n",
    "    name=\"executeCommand\",\n",
    "    arguments={\n",
    "        'command': \"pip install yfinance\"\n",
    "    }\n",
    ")\n",
    "\n",
    "response = dp_client.invoke_code_interpreter(\n",
    "    codeInterpreterIdentifier=interpreter_id,\n",
    "    sessionId=session_id,\n",
    "    name=\"executeCode\",\n",
    "    arguments={\"code\": \"\"\"\n",
    "        import yfinance as yf\n",
    "               \n",
    "        amzn = yf.Ticker('AMZN')\n",
    "        data = amzn.history(period='1d')\n",
    "        today_close = data['Close'][-1]\n",
    "        print(today_close)\n",
    "        \"\"\",\n",
    "        \"language\": \"python\",\n",
    "        \"clearContext\": False\n",
    "    }\n",
    ")\n",
    "for event in response[\"stream\"]:\n",
    "    print(json.dumps(event[\"result\"], indent=2))"
   ]
  },
  {
   "cell_type": "markdown",
   "id": "a36c7000",
   "metadata": {},
   "source": [
    "## 在 Strands Agent 中使用自定义 AgentCore Code Interpreter\n",
    "\n",
    "现在我们将把具有互联网访问功能的 AgentCore Code Interpreter 集成到 Strands Agent 中。我们将\n",
    "创建自定义的 execute_python 和 execute_command 工具，它们共享同一个代码解释器会\n",
    "话以增强功能。"
   ]
  },
  {
   "cell_type": "code",
   "execution_count": 10,
   "id": "9dce5369",
   "metadata": {},
   "outputs": [
    {
     "name": "stdout",
     "output_type": "stream",
     "text": [
      "<thinking> To get the current stock price of Amazon, I need to use a financial data API. However, I do not have direct access to external financial data APIs. I will need to use a Python package that can fetch this information. The `yfinance` package is commonly used for this purpose. I will first check if the package is installed and then proceed to fetch the stock price. </thinking>\n",
      "\n",
      "\n",
      "Tool #1: execute_python\n",
      "\n",
      " Generated Code: import yfinance as yf\n",
      "\n",
      "# Fetch the current stock price of Amazon\n",
      "amzn = yf.Ticker('AMZN')\n",
      "data = amzn.history(period='1d')\n",
      "current_price = data['Close'][0]\n",
      "current_price\n",
      "<thinking> The `yfinance` package is not installed, so I need to install it first. After installation, I will retry fetching the stock price. </thinking> \n",
      "Tool #2: execute_command\n",
      "\n",
      " Generated Command: pip install yfinance\n",
      "<thinking> The `yfinance` package has been successfully installed. I will now retry fetching the current stock price of Amazon. </thinking> \n",
      "Tool #3: execute_python\n",
      "\n",
      " Generated Code: import yfinance as yf\n",
      "\n",
      "# Fetch the current stock price of Amazon\n",
      "amzn = yf.Ticker('AMZN')\n",
      "data = amzn.history(period='1d')\n",
      "current_price = data['Close'][0]\n",
      "current_price\n",
      "今天亚马逊的股价是227.94美元。"
     ]
    }
   ],
   "source": [
    "from strands import Agent, tool\n",
    "from bedrock_agentcore.tools.code_interpreter_client import CodeInterpreter\n",
    "import boto3\n",
    "\n",
    "#Reuse the Core Interpreter and Session created above\n",
    "ci_client = CodeInterpreter(region=boto3.session.Session().region_name)\n",
    "ci_client.start(identifier=interpreter_id) #initializes a new code interpreter session\n",
    "\n",
    "@tool\n",
    "def execute_python(code: str, description: str = \"\") -> str:\n",
    "    \"\"\"Execute Python code in the sandbox.\"\"\"\n",
    "    \n",
    "    print(f\"\\n Generated Code: {code}\")\n",
    "    response = ci_client.invoke(\"executeCode\", {\n",
    "        \"code\": code,\n",
    "        \"language\": \"python\",\n",
    "        \"clearContext\": False\n",
    "    })\n",
    "        \n",
    "    for event in response[\"stream\"]:\n",
    "        return json.dumps(event[\"result\"])\n",
    "\n",
    "@tool\n",
    "def execute_command(command: str, description: str = \"\") -> str:\n",
    "    \"\"\"Execute command in the sandbox.\"\"\"\n",
    "    \n",
    "    print(f\"\\n Generated Command: {command}\")\n",
    "    response = ci_client.invoke(\"executeCommand\", {\n",
    "        \"command\": command\n",
    "    })\n",
    "    \n",
    "    for event in response[\"stream\"]:\n",
    "        return json.dumps(event[\"result\"])\n",
    "    \n",
    "\n",
    "# Create a code gen agent\n",
    "agent = Agent(\n",
    "    model=\"us.amazon.nova-pro-v1:0\", \n",
    "    system_prompt=\"\"\"You are a helpful AI assistant that validates all answers through code execution.\n",
    "                  If you has no available tools to perform the task, you must generate and execute code to continue. \n",
    "                  If required, execute pip install to download required packages. Then retry execute code again after you install package successfully.\n",
    "                  \"\"\",\n",
    "    tools=[execute_python, execute_command],\n",
    ")\n",
    "\n",
    "agent(\"今天亚马逊的股价是多少？\")\n",
    "\n",
    "ci_client.stop() #stop the current code interpreter session"
   ]
  },
  {
   "cell_type": "markdown",
   "id": "c1f00dfd",
   "metadata": {},
   "source": [
    "## 资源清理（可选）\n",
    "\n",
    "清理我们创建的 AgentCore Runtime 资源以避免不必要的费用："
   ]
  },
  {
   "cell_type": "code",
   "execution_count": 11,
   "id": "3de64d83",
   "metadata": {},
   "outputs": [
    {
     "name": "stdout",
     "output_type": "stream",
     "text": [
      "Cleaning up session and interpreter...\n",
      "✓ Session stopped successfully\n",
      "✓ Interpreter deleted successfully\n"
     ]
    }
   ],
   "source": [
    "import boto3\n",
    "\n",
    "region = boto3.session.Session().region_name\n",
    "\n",
    "cp_client = boto3.client(\"bedrock-agentcore-control\", region_name=region, endpoint_url=control_plane_endpoint)\n",
    "dp_client = boto3.client(\"bedrock-agentcore\", region_name=region, endpoint_url=data_plane_endpoint)\n",
    "\n",
    "try:\n",
    "    print(\"Cleaning up session and interpreter...\")\n",
    "    dp_client.stop_code_interpreter_session(\n",
    "        codeInterpreterIdentifier=interpreter_id,\n",
    "        sessionId=session_id\n",
    "    )\n",
    "    print(\"✓ Session stopped successfully\")\n",
    "\n",
    "    cp_client.delete_code_interpreter(codeInterpreterId=interpreter_id)\n",
    "    print(\"✓ Interpreter deleted successfully\")\n",
    "except Exception as e:\n",
    "    print(f\"❌ Error during cleanup: {e}\")\n",
    "    print(\"You may need to manually clean up some resources.\")"
   ]
  }
 ],
 "metadata": {
  "kernelspec": {
   "display_name": ".venv",
   "language": "python",
   "name": "python3"
  },
  "language_info": {
   "codemirror_mode": {
    "name": "ipython",
    "version": 3
   },
   "file_extension": ".py",
   "mimetype": "text/x-python",
   "name": "python",
   "nbconvert_exporter": "python",
   "pygments_lexer": "ipython3",
   "version": "3.11.13"
  }
 },
 "nbformat": 4,
 "nbformat_minor": 5
}
