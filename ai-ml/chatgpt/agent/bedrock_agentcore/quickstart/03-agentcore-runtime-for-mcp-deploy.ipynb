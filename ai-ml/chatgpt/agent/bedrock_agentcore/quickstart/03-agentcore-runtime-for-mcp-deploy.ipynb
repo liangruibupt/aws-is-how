{
 "cells": [
  {
   "cell_type": "markdown",
   "id": "main-title",
   "metadata": {},
   "source": [
    "# 在 Bedrock AgentCore Runtime 中部署 MCP 服务器\n",
    "\n",
    "本研讨会演示如何使用 Amazon Bedrock AgentCore Runtime 部署和使用模型上下文协议（MCP）服务器，为 AI 代理实现可扩展和安全的自定义工具部署。\n",
    "\n",
    "## 概述\n",
    "\n",
    "在本实验中，您将：\n",
    "- 创建具有网络搜索功能的自定义 MCP 服务器\n",
    "- 使用 Amazon Cognito 设置身份验证\n",
    "- 将 MCP 服务器部署到 Bedrock AgentCore Runtime\n",
    "- 使用 Strands Agents 测试已部署的服务器\n",
    "- 了解清理程序"
   ]
  },
  {
   "cell_type": "markdown",
   "id": "09619786",
   "metadata": {},
   "source": [
    "## 先决条件\n",
    "\n",
    "开始本实验之前，请确保您具备：\n",
    "- 已配置 AWS 凭证（IAM 角色或环境变量）\n",
    "- 已安装所需的 Python 包\n",
    "- 对 MCP 和 Bedrock AgentCore 概念有基本了解\n",
    "\n",
    "如果您没有在假设 IAM 角色的环境中运行，请将您的 AWS 凭证设置为环境变量："
   ]
  },
  {
   "cell_type": "code",
   "execution_count": 1,
   "id": "0b68362f",
   "metadata": {},
   "outputs": [],
   "source": [
    "import os\n",
    "\n",
    "#os.environ[\"AWS_ACCESS_KEY_ID\"]=<YOUR ACCESS KEY>\n",
    "#os.environ[\"AWS_SECRET_ACCESS_KEY\"]=<YOUR SECRET KEY>\n",
    "#os.environ[\"AWS_SESSION_TOKEN\"]=<OPTIONAL - YOUR SESSION TOKEN IF TEMP CREDENTIAL>\n",
    "#os.environ[\"AWS_REGION\"]=<AWS REGION WITH BEDROCK AGENTCORE AVAILABLE>"
   ]
  },
  {
   "cell_type": "markdown",
   "id": "cd4c88bd",
   "metadata": {},
   "source": [
    "为 MCP 服务器开发、Strands Agents 和 Bedrock AgentCore SDK 安装所需的包："
   ]
  },
  {
   "cell_type": "code",
   "execution_count": 2,
   "id": "85df8338-241f-4c97-bed9-bf598e6d4a44",
   "metadata": {},
   "outputs": [],
   "source": [
    "#%pip install -q ddgs mcp strands-agents strands-agents-tools bedrock-agentcore bedrock-agentcore-starter-toolkit "
   ]
  },
  {
   "cell_type": "markdown",
   "id": "what-is-mcp",
   "metadata": {},
   "source": [
    "## 什么是用于 MCP 的 Bedrock AgentCore Runtime？\n",
    "\n",
    "Amazon Bedrock AgentCore Runtime 允许您将模型上下文协议（MCP）服务器部署为托管的可扩展服务。主要优势包括：\n",
    "\n",
    "- **可扩展性**：根据需求自动扩展\n",
    "- **安全性**：内置身份验证和授权\n",
    "- **托管基础设施**：无需管理服务器或容器\n",
    "- **集成**：与 Bedrock 服务无缝集成\n",
    "\n",
    "MCP 服务器提供 AI 代理可以用来扩展其功能的工具和资源，例如网络搜索、数据库访问或自定义业务逻辑。"
   ]
  },
  {
   "cell_type": "markdown",
   "id": "create-mcp-server",
   "metadata": {},
   "source": [
    "### 创建自定义 MCP 服务器\n",
    "\n",
    "让我们创建一个使用 DuckDuckGo 提供网络搜索功能的简单 MCP 服务器。该服务器将部署到 AgentCore Runtime 以供可扩展使用。"
   ]
  },
  {
   "cell_type": "code",
   "execution_count": 3,
   "id": "11f9a24b-1cd0-46e4-bb68-05daeb29e814",
   "metadata": {},
   "outputs": [
    {
     "name": "stdout",
     "output_type": "stream",
     "text": [
      "Writing mcp_server.py\n"
     ]
    }
   ],
   "source": [
    "%%writefile mcp_server.py\n",
    "from mcp.server.fastmcp import FastMCP\n",
    "from ddgs import DDGS\n",
    "from ddgs.exceptions import RatelimitException, DDGSException\n",
    "\n",
    "mcp = FastMCP(host=\"0.0.0.0\", stateless_http=True)\n",
    "\n",
    "# Define a websearch tool\n",
    "@mcp.tool()\n",
    "def websearch(keywords: str, region: str = \"us-en\", max_results: int | None = None) -> list:\n",
    "    \"\"\"Search the web to get updated information.\n",
    "    Args:\n",
    "        keywords (str): The search query keywords.\n",
    "        region (str): The search region: wt-wt, us-en, uk-en, ru-ru, etc..\n",
    "        max_results (int | None): The maximum number of results to return.\n",
    "    Returns:\n",
    "        List of dictionaries with search results.\n",
    "    \"\"\"\n",
    "    try:\n",
    "        results = DDGS().text(keywords, region=region, max_results=max_results)\n",
    "        return results if results else \"No results found.\"\n",
    "    except RatelimitException:\n",
    "        return \"RatelimitException: Please try again after a short delay.\"\n",
    "    except DDGSException as d:\n",
    "        return f\"DuckDuckGoSearchException: {d}\"\n",
    "    except Exception as e:\n",
    "        return f\"Exception: {e}\"\n",
    "\n",
    "if __name__ == \"__main__\":\n",
    "    mcp.run(transport=\"streamable-http\")"
   ]
  },
  {
   "cell_type": "code",
   "execution_count": 4,
   "id": "703e9437-537a-4f97-b31f-90ed9e382ff0",
   "metadata": {},
   "outputs": [
    {
     "name": "stdout",
     "output_type": "stream",
     "text": [
      "Writing requirements.txt\n"
     ]
    }
   ],
   "source": [
    "%%writefile requirements.txt\n",
    "ddgs\n",
    "mcp\n",
    "bedrock-agentcore"
   ]
  },
  {
   "cell_type": "markdown",
   "id": "local-test",
   "metadata": {},
   "source": [
    "## MCP 服务器的本地测试\n",
    "\n",
    "在部署到 AgentCore Runtime 之前，先在本地测试 MCP 服务器。\n",
    "\n",
    "### 步骤 1：启动 MCP 服务器\n",
    "\n",
    "在终端中运行 MCP 服务器：\n",
    "\n",
    "```bash\n",
    "uv pip install -r requirements.txt\n",
    "uv run mcp_server.py\n",
    "```\n",
    "or\n",
    "```bash\n",
    "pip install -r requirements.txt\n",
    "python mcp_server.py\n",
    "```\n",
    "\n",
    "### 步骤 2：使用 Strands Agent 测试\n",
    "\n",
    "执行以下代码来测试集成："
   ]
  },
  {
   "cell_type": "code",
   "execution_count": 5,
   "id": "352ee559",
   "metadata": {},
   "outputs": [
    {
     "name": "stdout",
     "output_type": "stream",
     "text": [
      "\n",
      "Connecting to MCP Server...\n",
      "Available MCP tools: ['websearch']\n",
      "<thinking> To provide an introduction to Bedrock AgentCore, I need to search for relevant information about it. I will use the websearch tool to find details about Bedrock AgentCore. </thinking>\n",
      "\n",
      "Tool #1: websearch\n",
      "<thinking> Based on the search results, Bedrock AgentCore appears to be a tool or service related to Amazon Bedrock, possibly for developing and managing AI agents or applications. The results mention using Bedrock AgentCore for various purposes, such as creating chat applications, developing promotional video generation agents, and implementing infrastructure as a prompt. I will summarize this information to provide an introduction to Bedrock AgentCore. </thinking>\n",
      "\n",
      "Bedrock AgentCore is a component of Amazon Bedrock, likely used for developing and managing AI agents or applications. It has been mentioned in various contexts, such as creating chat applications, developing promotional video generation agents, and implementing infrastructure as a prompt. Bedrock AgentCore seems to integrate with other AWS services like CloudWatch and Amplify Hosting, and it may use technologies like Next.js for front-end development.<thinking> Based on the search results, Bedrock AgentCore appears to be a tool or service related to Amazon Bedrock, possibly for developing and managing AI agents or applications. The results mention using Bedrock AgentCore for various purposes, such as creating chat applications, developing promotional video generation agents, and implementing infrastructure as a prompt. I will summarize this information to provide an introduction to Bedrock AgentCore. </thinking>\n",
      "\n",
      "Bedrock AgentCore is a component of Amazon Bedrock, likely used for developing and managing AI agents or applications. It has been mentioned in various contexts, such as creating chat applications, developing promotional video generation agents, and implementing infrastructure as a prompt. Bedrock AgentCore seems to integrate with other AWS services like CloudWatch and Amplify Hosting, and it may use technologies like Next.js for front-end development.\n",
      "\n"
     ]
    }
   ],
   "source": [
    "from strands import Agent\n",
    "from strands.tools.mcp import MCPClient\n",
    "from mcp.client.streamable_http import streamablehttp_client\n",
    "\n",
    "# Connect to the web search MCP server\n",
    "print(\"\\nConnecting to MCP Server...\")\n",
    "mcp_url = f\"http://localhost:8000/mcp\"\n",
    "websearch_server = MCPClient(lambda: streamablehttp_client(mcp_url))\n",
    "\n",
    "with websearch_server:\n",
    "    mcp_tools = (websearch_server.list_tools_sync())\n",
    "    print(f\"Available MCP tools: {[tool.tool_name for tool in mcp_tools]}\")\n",
    "\n",
    "    # Create agent with custom MCP tools\n",
    "    agent = Agent(\n",
    "        model=\"us.amazon.nova-pro-v1:0\",  # Optional: Specify the model ID\n",
    "        system_prompt=\"You are a helpful assistant that provides concise responses.\",\n",
    "        tools=mcp_tools,\n",
    "    )\n",
    "\n",
    "    response = agent(\"介绍 Bedrock AgentCore 是甚么\")\n",
    "    print(response) "
   ]
  },
  {
   "cell_type": "markdown",
   "id": "setup-auth",
   "metadata": {},
   "source": [
    "## 在 Bedrock AgentCore Runtime 中部署带身份验证的 MCP 服务器\n",
    "\n",
    "现在我们将配置 MCP 服务器并将其部署到 Bedrock AgentCore Runtime。此过程涉及创建依赖项、配置身份验证和部署服务。\n",
    "![bedrock-agentcore-runtime-launch](images/runtime-launch.png)\n",
    "\n",
    "### 步骤 1：设置 Amazon Cognito 身份验证\n",
    "\n",
    "为已部署的 MCP 服务器创建 Cognito 用户池以实现安全访问。\n",
    "\n",
    "创建的组件\n",
    "- **用户池**：管理用户身份\n",
    "- **应用客户端**：启用应用程序身份验证\n",
    "- **测试用户**：用于测试身份验证流程"
   ]
  },
  {
   "cell_type": "code",
   "execution_count": 6,
   "id": "5167555a",
   "metadata": {},
   "outputs": [
    {
     "name": "stdout",
     "output_type": "stream",
     "text": [
      "Pool id: us-east-1_7FN3X9nNU\n",
      "Discovery URL: https://cognito-idp.us-east-1.amazonaws.com/us-east-1_7FN3X9nNU/.well-known/openid-configuration\n",
      "Client ID: 2c29908qquvjcp9nmn701tehik\n"
     ]
    }
   ],
   "source": [
    "import boto3\n",
    "\n",
    "region = boto3.session.Session().region_name\n",
    "\n",
    "# Initialize Cognito client\n",
    "cognito_client = boto3.client('cognito-idp', region_name=region)\n",
    "\n",
    "# Create User Pool\n",
    "user_pool_response = cognito_client.create_user_pool(\n",
    "    PoolName='MCPServerPool',\n",
    "    Policies={\n",
    "        'PasswordPolicy': {\n",
    "            'MinimumLength': 8\n",
    "        }\n",
    "    }\n",
    ")\n",
    "cognito_pool_id = user_pool_response['UserPool']['Id']\n",
    "\n",
    "# Create App Client\n",
    "app_client_response = cognito_client.create_user_pool_client(\n",
    "    UserPoolId=cognito_pool_id,\n",
    "    ClientName='MCPServerPoolClient',\n",
    "    GenerateSecret=False,\n",
    "    ExplicitAuthFlows=[\n",
    "        'ALLOW_USER_PASSWORD_AUTH',\n",
    "        'ALLOW_REFRESH_TOKEN_AUTH'\n",
    "    ]\n",
    ")\n",
    "cognito_client_id = app_client_response['UserPoolClient']['ClientId']\n",
    "\n",
    "# Create User\n",
    "cognito_client.admin_create_user(\n",
    "    UserPoolId=cognito_pool_id,\n",
    "    Username='testuser',\n",
    "    TemporaryPassword='Temp123!',\n",
    "    MessageAction='SUPPRESS'\n",
    ")\n",
    "\n",
    "# Set Permanent Password\n",
    "cognito_client.admin_set_user_password(\n",
    "    UserPoolId=cognito_pool_id,\n",
    "    Username='testuser',\n",
    "    Password='MyPassword123!',\n",
    "    Permanent=True\n",
    ")\n",
    "\n",
    "\n",
    "# Output the required values\n",
    "print(f\"Pool id: {cognito_pool_id}\")\n",
    "print(f\"Discovery URL: https://cognito-idp.{region}.amazonaws.com/{cognito_pool_id}/.well-known/openid-configuration\")\n",
    "print(f\"Client ID: {cognito_client_id}\")"
   ]
  },
  {
   "cell_type": "markdown",
   "id": "4b53220d",
   "metadata": {},
   "source": [
    "### 步骤 2：配置 Bedrock AgentCore Runtime\n",
    "\n",
    "Set up the Bedrock AgentCore Runtime configuration with automatic resource creation.\n",
    "\n",
    "**Generated Artifacts:**\n",
    "This step creates essential deployment files:\n",
    "- **Dockerfile**: Container configuration for the MCP Server\n",
    "- **.dockerignore**: list the excluded files when docker build\n",
    "- **.bedrock_agentcore.yaml**: Runtime deployment configuration"
   ]
  },
  {
   "cell_type": "code",
   "execution_count": 7,
   "id": "e8cdf5d6-5b9a-4351-b34d-92676080644b",
   "metadata": {},
   "outputs": [
    {
     "name": "stderr",
     "output_type": "stream",
     "text": [
      "Entrypoint parsed: file=/workshop/sample-strands-in-5-minutes/bedrock-agentcore-integration/workshop/cn/03-bedrock-agentcore-runtime-mcp/mcp_server.py, bedrock_agentcore_name=mcp_server\n",
      "Configuring BedrockAgentCore agent: mcp_server_agentcore\n"
     ]
    },
    {
     "name": "stdout",
     "output_type": "stream",
     "text": [
      "Using AWS region: us-east-1\n",
      "Configuring AgentCore Runtime...\n"
     ]
    },
    {
     "name": "stderr",
     "output_type": "stream",
     "text": [
      "Generated .dockerignore\n",
      "Generated Dockerfile: /workshop/sample-strands-in-5-minutes/bedrock-agentcore-integration/workshop/cn/03-bedrock-agentcore-runtime-mcp/Dockerfile\n",
      "Generated .dockerignore: /workshop/sample-strands-in-5-minutes/bedrock-agentcore-integration/workshop/cn/03-bedrock-agentcore-runtime-mcp/.dockerignore\n",
      "Setting 'mcp_server_agentcore' as default agent\n",
      "Bedrock AgentCore configured: /workshop/sample-strands-in-5-minutes/bedrock-agentcore-integration/workshop/cn/03-bedrock-agentcore-runtime-mcp/.bedrock_agentcore.yaml\n"
     ]
    },
    {
     "name": "stdout",
     "output_type": "stream",
     "text": [
      "Configuration completed ✓\n"
     ]
    }
   ],
   "source": [
    "from bedrock_agentcore_starter_toolkit import Runtime\n",
    "import boto3\n",
    "\n",
    "region = boto3.session.Session().region_name\n",
    "print(f\"Using AWS region: {region}\")\n",
    "\n",
    "agentcore_runtime = Runtime()\n",
    "\n",
    "print(\"Configuring AgentCore Runtime...\")\n",
    "response = agentcore_runtime.configure(\n",
    "    entrypoint=\"mcp_server.py\",\n",
    "    auto_create_execution_role=True,\n",
    "    auto_create_ecr=True,\n",
    "    requirements_file=\"requirements.txt\",\n",
    "    region=region,\n",
    "    protocol=\"MCP\",\n",
    "    agent_name=\"mcp_server_agentcore\",\n",
    "    authorizer_configuration={\n",
    "        \"customJWTAuthorizer\": {\n",
    "            \"allowedClients\": [cognito_client_id],\n",
    "            \"discoveryUrl\": f\"https://cognito-idp.{region}.amazonaws.com/{cognito_pool_id}/.well-known/openid-configuration\",\n",
    "        }\n",
    "    }\n",
    ")\n",
    "print(\"Configuration completed ✓\")"
   ]
  },
  {
   "cell_type": "markdown",
   "id": "deploy-runtime",
   "metadata": {},
   "source": [
    "### 步骤 3：部署到 Bedrock AgentCore Runtime\n",
    "\n",
    "使用 AWS CodeBuild 启动部署过程以进行容器化和部署。\n",
    "\n",
    "**部署过程：**\n",
    "- 构建 MCP 服务器的容器化版本\n",
    "- 创建所需的 AWS 资源（ECR 存储库、IAM 角色）\n",
    "- 将容器镜像推送到 Amazon ECR\n",
    "- 作为托管的自动扩展服务部署到 AgentCore Runtime"
   ]
  },
  {
   "cell_type": "code",
   "execution_count": 8,
   "id": "538b3b2e-2ffd-4c00-acd9-b1544aa1563f",
   "metadata": {},
   "outputs": [
    {
     "name": "stderr",
     "output_type": "stream",
     "text": [
      "🚀 CodeBuild mode: building in cloud (RECOMMENDED - DEFAULT)\n",
      "   • Build ARM64 containers in the cloud with CodeBuild\n",
      "   • No local Docker required\n",
      "💡 Available deployment modes:\n",
      "   • runtime.launch()                           → CodeBuild (current)\n",
      "   • runtime.launch(local=True)                 → Local development\n",
      "   • runtime.launch(local_build=True)           → Local build + cloud deploy (NEW)\n",
      "Starting CodeBuild ARM64 deployment for agent 'mcp_server_agentcore' to account 710299592439 (us-east-1)\n",
      "Starting CodeBuild ARM64 deployment for agent 'mcp_server_agentcore' to account 710299592439 (us-east-1)\n",
      "Setting up AWS resources (ECR repository, execution roles)...\n",
      "Getting or creating ECR repository for agent: mcp_server_agentcore\n",
      "✅ ECR repository available: 710299592439.dkr.ecr.us-east-1.amazonaws.com/bedrock-agentcore-mcp_server_agentcore\n",
      "Getting or creating execution role for agent: mcp_server_agentcore\n",
      "Using AWS region: us-east-1, account ID: 710299592439\n",
      "Role name: AmazonBedrockAgentCoreSDKRuntime-us-east-1-7f3ae149b4\n"
     ]
    },
    {
     "name": "stdout",
     "output_type": "stream",
     "text": [
      "Repository doesn't exist, creating new ECR repository: bedrock-agentcore-mcp_server_agentcore\n"
     ]
    },
    {
     "name": "stderr",
     "output_type": "stream",
     "text": [
      "Role doesn't exist, creating new execution role: AmazonBedrockAgentCoreSDKRuntime-us-east-1-7f3ae149b4\n",
      "Starting execution role creation process for agent: mcp_server_agentcore\n",
      "✓ Role creating: AmazonBedrockAgentCoreSDKRuntime-us-east-1-7f3ae149b4\n",
      "Creating IAM role: AmazonBedrockAgentCoreSDKRuntime-us-east-1-7f3ae149b4\n",
      "✓ Role created: arn:aws:iam::710299592439:role/AmazonBedrockAgentCoreSDKRuntime-us-east-1-7f3ae149b4\n",
      "✓ Execution policy attached: BedrockAgentCoreRuntimeExecutionPolicy-mcp_server_agentcore\n",
      "Role creation complete and ready for use with Bedrock AgentCore\n",
      "✅ Execution role available: arn:aws:iam::710299592439:role/AmazonBedrockAgentCoreSDKRuntime-us-east-1-7f3ae149b4\n",
      "Preparing CodeBuild project and uploading source...\n",
      "Getting or creating CodeBuild execution role for agent: mcp_server_agentcore\n",
      "Role name: AmazonBedrockAgentCoreSDKCodeBuild-us-east-1-7f3ae149b4\n",
      "CodeBuild role doesn't exist, creating new role: AmazonBedrockAgentCoreSDKCodeBuild-us-east-1-7f3ae149b4\n",
      "Creating IAM role: AmazonBedrockAgentCoreSDKCodeBuild-us-east-1-7f3ae149b4\n",
      "✓ Role created: arn:aws:iam::710299592439:role/AmazonBedrockAgentCoreSDKCodeBuild-us-east-1-7f3ae149b4\n",
      "Attaching inline policy: CodeBuildExecutionPolicy to role: AmazonBedrockAgentCoreSDKCodeBuild-us-east-1-7f3ae149b4\n",
      "✓ Policy attached: CodeBuildExecutionPolicy\n",
      "Waiting for IAM role propagation...\n",
      "CodeBuild execution role creation complete: arn:aws:iam::710299592439:role/AmazonBedrockAgentCoreSDKCodeBuild-us-east-1-7f3ae149b4\n",
      "Created S3 bucket: bedrock-agentcore-codebuild-sources-710299592439-us-east-1\n",
      "Using .dockerignore with 44 patterns\n",
      "Uploaded source to S3: mcp_server_agentcore/20250828-030321.zip\n",
      "Created CodeBuild project: bedrock-agentcore-mcp_server_agentcore-builder\n",
      "Starting CodeBuild build (this may take several minutes)...\n",
      "Starting CodeBuild monitoring...\n",
      "🔄 QUEUED started (total: 0s)\n",
      "✅ QUEUED completed in 5.0s\n",
      "🔄 PROVISIONING started (total: 5s)\n",
      "✅ PROVISIONING completed in 10.1s\n",
      "🔄 PRE_BUILD started (total: 15s)\n",
      "✅ PRE_BUILD completed in 10.1s\n",
      "🔄 BUILD started (total: 25s)\n",
      "✅ BUILD completed in 30.2s\n",
      "🔄 POST_BUILD started (total: 55s)\n",
      "✅ POST_BUILD completed in 10.1s\n",
      "🔄 COMPLETED started (total: 66s)\n",
      "✅ COMPLETED completed in 0.0s\n",
      "🎉 CodeBuild completed successfully in 1m 5s\n",
      "CodeBuild completed successfully\n",
      "✅ CodeBuild project configuration saved\n",
      "Deploying to Bedrock AgentCore...\n",
      "✅ Agent created/updated: arn:aws:bedrock-agentcore:us-east-1:710299592439:runtime/mcp_server_agentcore-qsyNr2G414\n",
      "Polling for endpoint to be ready...\n",
      "Agent endpoint: arn:aws:bedrock-agentcore:us-east-1:710299592439:runtime/mcp_server_agentcore-qsyNr2G414/runtime-endpoint/DEFAULT\n",
      "Deployment completed successfully - Agent: arn:aws:bedrock-agentcore:us-east-1:710299592439:runtime/mcp_server_agentcore-qsyNr2G414\n",
      "Built with CodeBuild: bedrock-agentcore-mcp_server_agentcore-builder:27872bd0-eb47-408a-9f3c-330926f101f1\n",
      "Deployed to cloud: arn:aws:bedrock-agentcore:us-east-1:710299592439:runtime/mcp_server_agentcore-qsyNr2G414\n",
      "ECR image: 710299592439.dkr.ecr.us-east-1.amazonaws.com/bedrock-agentcore-mcp_server_agentcore\n",
      "🔍 Agent logs available at:\n",
      "   /aws/bedrock-agentcore/runtimes/mcp_server_agentcore-qsyNr2G414-DEFAULT\n",
      "   /aws/bedrock-agentcore/runtimes/mcp_server_agentcore-qsyNr2G414-DEFAULT/runtime-logs\n",
      "💡 Tail logs with: aws logs tail /aws/bedrock-agentcore/runtimes/mcp_server_agentcore-qsyNr2G414-DEFAULT --follow\n",
      "💡 Or view recent logs: aws logs tail /aws/bedrock-agentcore/runtimes/mcp_server_agentcore-qsyNr2G414-DEFAULT --since 1h\n"
     ]
    }
   ],
   "source": [
    "launch_result = agentcore_runtime.launch()"
   ]
  },
  {
   "cell_type": "markdown",
   "id": "cbc46255",
   "metadata": {},
   "source": [
    "### 验证部署状态\n",
    "\n",
    "检查部署状态并等待运行时准备就绪："
   ]
  },
  {
   "cell_type": "code",
   "execution_count": 9,
   "id": "5b406c83-3e70-4865-afc6-0617e8ed8e1b",
   "metadata": {},
   "outputs": [
    {
     "name": "stdout",
     "output_type": "stream",
     "text": [
      "Checking AgentCore Runtime status...\n"
     ]
    },
    {
     "name": "stderr",
     "output_type": "stream",
     "text": [
      "Retrieved Bedrock AgentCore status for: mcp_server_agentcore\n"
     ]
    },
    {
     "name": "stdout",
     "output_type": "stream",
     "text": [
      "Initial status: READY\n",
      "✓ AgentCore Runtime is READY!\n",
      "Final status: READY\n",
      "MCP AgentCore Runtime ID: mcp_server_agentcore-qsyNr2G414\n",
      "MCP AgentCore Runtime ARN: arn:aws:bedrock-agentcore:us-east-1:710299592439:runtime/mcp_server_agentcore-qsyNr2G414\n",
      "ECR Repo for MCP AgentCore Runtime: bedrock-agentcore-mcp_server_agentcore\n",
      "CodeBuild Project for MCP AgentCore Runtime: bedrock-agentcore-mcp_server_agentcore-builder\n"
     ]
    }
   ],
   "source": [
    "import time\n",
    "\n",
    "print(\"Checking AgentCore Runtime status...\")\n",
    "status_response = agentcore_runtime.status()\n",
    "status = status_response.endpoint['status']\n",
    "print(f\"Initial status: {status}\")\n",
    "\n",
    "end_status = ['READY', 'CREATE_FAILED', 'DELETE_FAILED', 'UPDATE_FAILED']\n",
    "while status not in end_status:\n",
    "    print(f\"Status: {status} - waiting...\")\n",
    "    time.sleep(10)\n",
    "    status_response = agentcore_runtime.status()\n",
    "    status = status_response.endpoint['status']\n",
    "\n",
    "if status == 'READY':\n",
    "    print(\"✓ AgentCore Runtime is READY!\")\n",
    "else:\n",
    "    print(f\"⚠ AgentCore Runtime status: {status}\")\n",
    "    \n",
    "print(f\"Final status: {status}\")\n",
    "\n",
    "mcp_runtime_id = launch_result.agent_id\n",
    "mcp_runtime_arn = launch_result.agent_arn\n",
    "mcp_ecr_repo_name = launch_result.ecr_uri.split('/')[1]\n",
    "mcp_codebuild_name = launch_result.codebuild_id.split(':')[0]\n",
    "print(f\"MCP AgentCore Runtime ID: {mcp_runtime_id}\")\n",
    "print(f\"MCP AgentCore Runtime ARN: {mcp_runtime_arn}\")\n",
    "print(f\"ECR Repo for MCP AgentCore Runtime: {mcp_ecr_repo_name}\")\n",
    "print(f\"CodeBuild Project for MCP AgentCore Runtime: {mcp_codebuild_name}\")"
   ]
  },
  {
   "cell_type": "markdown",
   "id": "test-deployed",
   "metadata": {},
   "source": [
    "### 使用 Strands Agent 测试已部署的 MCP 服务器作为工具\n",
    "\n",
    "现在让我们通过 Bedrock AgentCore Runtime 端点连接到已部署的 MCP 服务器并进行适当的身份验证来测试它。"
   ]
  },
  {
   "cell_type": "code",
   "execution_count": 10,
   "id": "e36048ef",
   "metadata": {},
   "outputs": [
    {
     "name": "stdout",
     "output_type": "stream",
     "text": [
      "eyJraWQiOiJmd2xuN0pFSGp1REdISkJTdWJXaEFzYnpOd3Zoa1E1bGRjZlErdVVcL2Zndz0iLCJhbGciOiJSUzI1NiJ9.eyJzdWIiOiJhNGU4OTQ4OC1jMDMxLTcwMmUtMmJkMy1kZWNlNWQwNTY5ZDEiLCJpc3MiOiJodHRwczpcL1wvY29nbml0by1pZHAudXMtZWFzdC0xLmFtYXpvbmF3cy5jb21cL3VzLWVhc3QtMV83Rk4zWDluTlUiLCJjbGllbnRfaWQiOiIyYzI5OTA4cXF1dmpjcDlubW43MDF0ZWhpayIsIm9yaWdpbl9qdGkiOiI2NGYyMjViZC1jYmQwLTQ3YjUtYmYzOC1hNTg1MzVlMGQxMTMiLCJldmVudF9pZCI6ImY5ZmFkN2JjLWRkMWYtNDFhYi04ZGEzLTJlMGViMGE0MjljNiIsInRva2VuX3VzZSI6ImFjY2VzcyIsInNjb3BlIjoiYXdzLmNvZ25pdG8uc2lnbmluLnVzZXIuYWRtaW4iLCJhdXRoX3RpbWUiOjE3NTYzNTAzNjMsImV4cCI6MTc1NjM1Mzk2MywiaWF0IjoxNzU2MzUwMzYzLCJqdGkiOiI4NmRlNTNmNS1jOTAxLTQ1NzctOTdlYy1mZjg5NjZkZjNhNWYiLCJ1c2VybmFtZSI6InRlc3R1c2VyIn0.Hx3f_USrL-sCun23lYuaIYihq5OInYOxWipwrlLt5CZ4XIMbx_OoSN6My40y7hL5jUV_ee0BfGUUz-WjwPjiaLjkLJjoWwEyKYaN9bl7qhzbrVKamACIirszAIdPPWQzEyQMgqpjGABjx6IeEqYIa7TRbZ6hG6FE2SGKFBhROml5_Z6XDlQt0WTdPQm7AfOADhWBfreCildhwO8E2LFGnVkoAI2mZhpzBaUTk4SiUsTDavhDnuF4cv1IQjSQx8-FPjJk7v3IJbv27cOKf26GEE2K7yheSoh6csWQ9Y3l3dR-5boiWCgLRyG1sBY0A5hHDCr6YCBc3XvX9tMxjuUZGQ\n"
     ]
    }
   ],
   "source": [
    "import boto3\n",
    "\n",
    "region = boto3.session.Session().region_name\n",
    "\n",
    "# Get bearer token (access token) from Cognito Auth \n",
    "cognito_client = boto3.client('cognito-idp', region_name=boto3.session.Session().region_name)\n",
    "auth_response = cognito_client.initiate_auth(\n",
    "    ClientId=cognito_client_id,\n",
    "    AuthFlow='USER_PASSWORD_AUTH',\n",
    "    AuthParameters={\n",
    "        'USERNAME': 'testuser',\n",
    "        'PASSWORD': 'MyPassword123!'\n",
    "    }\n",
    ")\n",
    "bearer_token = auth_response['AuthenticationResult']['AccessToken']\n",
    "print(bearer_token)"
   ]
  },
  {
   "cell_type": "code",
   "execution_count": 12,
   "id": "a6e6cd23-af2e-4bd5-b4a1-32c7d89f19fb",
   "metadata": {},
   "outputs": [
    {
     "name": "stdout",
     "output_type": "stream",
     "text": [
      "\n",
      "Connecting to MCP Server...\n"
     ]
    },
    {
     "name": "stdout",
     "output_type": "stream",
     "text": [
      "Available tools: ['websearch']\n",
      "<thinking> To introduce Bedrock AgentCore, I need to search for relevant information about it. I will use the websearch tool to find information about Bedrock AgentCore. </thinking>\n",
      "\n",
      "Tool #1: websearch\n",
      "Bedrock AgentCore 是由亚马逊提供的一项服务，旨在帮助开发者安全、大规模地部署和运行高效的人工智能代理。它提供了专为动态代理工作负载设计的基础设施、增强代理功能的强大工具，以及实际部署所需的基本控制。Bedrock AgentCore 旨在加速人工智能代理"
     ]
    },
    {
     "name": "stderr",
     "output_type": "stream",
     "text": [
      "Session termination failed: 404\n"
     ]
    },
    {
     "name": "stdout",
     "output_type": "stream",
     "text": [
      "进入生产环境，提供所需的规模、可靠性和安全性。Bedrock AgentCore 是由亚马逊提供的一项服务，旨在帮助开发者安全、大规模地部署和运行高效的人工智能代理。它提供了专为动态代理工作负载设计的基础设施、增强代理功能的强大工具，以及实际部署所需的基本控制。Bedrock AgentCore 旨在加速人工智能代理进入生产环境，提供所需的规模、可靠性和安全性。\n",
      "\n"
     ]
    }
   ],
   "source": [
    "from strands import Agent\n",
    "from strands.tools.mcp import MCPClient\n",
    "from mcp.client.streamable_http import streamablehttp_client\n",
    "#import region\n",
    "\n",
    "region = boto3.session.Session().region_name\n",
    "\n",
    "mcp_runtime_arn = launch_result.agent_arn\n",
    "encoded_arn = mcp_runtime_arn.replace(':', '%3A').replace('/', '%2F')\n",
    "\n",
    "# Connect to the Web Search MCP server\n",
    "print(\"\\nConnecting to MCP Server...\")\n",
    "mcp_url = f\"https://bedrock-agentcore.{region}.amazonaws.com/runtimes/{encoded_arn}/invocations?qualifier=DEFAULT\"\n",
    "headers = {\n",
    "    \"Authorization\": f\"Bearer {bearer_token}\",\n",
    "    #\"Content-Type\": \"application/json\"\n",
    "}\n",
    "websearch_server = MCPClient(lambda: streamablehttp_client(mcp_url, headers))\n",
    "\n",
    "with websearch_server:\n",
    "    mcp_tools = (websearch_server.list_tools_sync())\n",
    "    print(f\"Available tools: {[tool.tool_name for tool in mcp_tools]}\")\n",
    "\n",
    "    # Create agent with custom MCP tools\n",
    "    agent = Agent(\n",
    "        model=\"us.amazon.nova-pro-v1:0\",  # Optional: Specify the model ID\n",
    "        system_prompt=\"You are a helpful assistant that provides concise responses.\",\n",
    "        tools=mcp_tools,\n",
    "    )\n",
    "\n",
    "    response = agent(\"介绍 Bedrock AgentCore 是甚么\")\n",
    "    print(response) "
   ]
  },
  {
   "cell_type": "markdown",
   "id": "6a29d5a6",
   "metadata": {},
   "source": [
    "Let's examine the detailed execution flow of the agent loop to understand how the agent processes requests and generates responses:"
   ]
  },
  {
   "cell_type": "code",
   "execution_count": 13,
   "id": "f4438701-c52b-4a87-a9ee-85cf51f4352b",
   "metadata": {},
   "outputs": [
    {
     "name": "stdout",
     "output_type": "stream",
     "text": [
      "Agent Loop Detail\n",
      "-----------------\n",
      "Agent Loop Length: 4)\n",
      "\n",
      "User-Assistant Conversation:\n",
      "{'role': 'user', 'content': [{'text': '介绍 Bedrock AgentCore 是甚么'}]}\n",
      "{'role': 'assistant', 'content': [{'text': '<thinking> To introduce Bedrock AgentCore, I need to search for relevant information about it. I will use the websearch tool to find information about Bedrock AgentCore. </thinking>\\n'}, {'toolUse': {'toolUseId': 'tooluse_RPt_Mw76QO2S3tGfXTPAsw', 'name': 'websearch', 'input': {'keywords': 'Bedrock AgentCore', 'max_results': '5', 'region': 'us-en'}}}]}\n",
      "{'role': 'user', 'content': [{'toolResult': {'status': 'success', 'toolUseId': 'tooluse_RPt_Mw76QO2S3tGfXTPAsw', 'content': [{'text': '{\\n  \"title\": \"Amazon Web Services Amazon Bedrock AgentCore (Preview) - AWS\",\\n  \"href\": \"https://aws.amazon.com/bedrock/agentcore/\",\\n  \"body\": \"1 week ago - Amazon Bedrock AgentCore enables you to deploy and operate highly capable AI agents securely, at scale . It offers infrastructure purpose-built for dynamic agent workloads, powerful tools to enhance agents, and essential controls for real-world deployment.\"\\n}'}, {'text': '{\\n  \"title\": \"GitHub GitHub - awslabs/amazon-bedrock-agentcore-samples: Amazon Bedrock Agentcore accelerates AI agents into production with the scale, reliability, and security, critical to real-world deployment.\",\\n  \"href\": \"https://github.com/awslabs/amazon-bedrock-agentcore-samples\",\\n  \"body\": \"July 16, 2025 - Tools: Amazon Bedrock AgentCore provides two built-in tools to simplify your agentic AI application development : Amazon Bedrock AgentCore Code Interpreter tool enables AI agents to write and execute code securely, enhancing their accuracy and expanding their ability to solve complex end-to-end ...\"\\n}'}, {'text': '{\\n  \"title\": \"Strands Agents Amazon Bedrock AgentCore - Strands Agents\",\\n  \"href\": \"https://strandsagents.com/latest/documentation/docs/user-guide/deploy/deploy_to_bedrock_agentcore/\",\\n  \"body\": \"July 13, 2025 - AgentCore Runtime, using AgentCore ... ID, and Okta, as well as popular OAuth providers such as Google and GitHub. It supports all authentication methods, from OAuth tokens and API keys to IAM roles , so developers don\\'t have to build custom security infrastructure. ⚠️ Important: ...\"\\n}'}, {'text': '{\\n  \"title\": \"DEV Community Amazon Bedrock AgentCore Runtime - Part 2 Deploy the agent with the AgentCore Runtime Starter Toolkit - DEV Community\",\\n  \"href\": \"https://dev.to/aws-heroes/amazon-bedrock-agentcore-runtime-part-2-deploy-the-agent-with-the-agentcore-runtime-starter-3706\",\\n  \"body\": \"3 days ago - Introduction In the part 1 of the series, we gave the introduction to the Amazon Bedrock ...\"\\n}'}, {'text': '{\\n  \"title\": \"GitHub GitHub - aws/bedrock-agentcore-starter-toolkit: CLI toolkit for deploying AI agents to Amazon Bedrock AgentCore. Zero infrastructure management with built-in gateway and memory integrations.\",\\n  \"href\": \"https://github.com/aws/bedrock-agentcore-starter-toolkit\",\\n  \"body\": \"July 17, 2025 - Amazon Bedrock AgentCore enables you to deploy and operate highly effective agents securely, at scale using any framework and model . With Amazon Bedrock AgentCore, developers can accelerate AI agents into production with the scale, reliability, and security, critical to real-world deployment.\"\\n}'}]}}]}\n",
      "{'role': 'assistant', 'content': [{'text': 'Bedrock AgentCore 是由亚马逊提供的一项服务，旨在帮助开发者安全、大规模地部署和运行高效的人工智能代理。它提供了专为动态代理工作负载设计的基础设施、增强代理功能的强大工具，以及实际部署所需的基本控制。Bedrock AgentCore 旨在加速人工智能代理进入生产环境，提供所需的规模、可靠性和安全性。'}]}\n"
     ]
    }
   ],
   "source": [
    "print(\"Agent Loop Detail\")\n",
    "print(\"-----------------\")\n",
    "\n",
    "print(f\"Agent Loop Length: {len(agent.messages)})\")\n",
    "print(\"\\nUser-Assistant Conversation:\")\n",
    "for message in agent.messages:\n",
    "    print(message)"
   ]
  },
  {
   "cell_type": "markdown",
   "id": "4315b653",
   "metadata": {},
   "source": [
    "## 资源清理（可选）\n",
    "\n",
    "清理已部署的资源："
   ]
  },
  {
   "cell_type": "code",
   "execution_count": 14,
   "id": "a45bb7e0",
   "metadata": {},
   "outputs": [
    {
     "name": "stdout",
     "output_type": "stream",
     "text": [
      "Deleting AgentCore Runtime...\n",
      "✓ AgentCore Runtime deletion initiated\n",
      "Deleting ECR repository...\n",
      "✓ ECR repository deleted\n",
      "Deleting CodeBuild Project...\n",
      "✓ CodeBuild Project deleted\n",
      "Deleting Cognito User Pool...\n",
      "✓ Cognito User Pool deleted\n",
      "Deleting Bedrock AgentCore configuration file...\n",
      "✓ .bedrock_agentcore.yaml deleted\n"
     ]
    }
   ],
   "source": [
    "import boto3\n",
    "import os\n",
    "\n",
    "region = boto3.session.Session().region_name\n",
    "\n",
    "agentcore_control_client = boto3.client('bedrock-agentcore-control', region_name=region)\n",
    "ecr_client = boto3.client('ecr',region_name=region)\n",
    "codebuild_client = boto3.client('codebuild',region_name=region)\n",
    "cognito_client = boto3.client('cognito-idp', region_name=region)\n",
    "\n",
    "try:\n",
    "    print(\"Deleting AgentCore Runtime...\")\n",
    "    agentcore_control_client.delete_agent_runtime(agentRuntimeId=mcp_runtime_id)\n",
    "    print(\"✓ AgentCore Runtime deletion initiated\")\n",
    "\n",
    "    print(\"Deleting ECR repository...\")\n",
    "    ecr_client.delete_repository(repositoryName=mcp_ecr_repo_name, force=True)\n",
    "    print(\"✓ ECR repository deleted\")\n",
    "\n",
    "    print(\"Deleting CodeBuild Project...\")\n",
    "    codebuild_client.delete_project(name=mcp_codebuild_name)\n",
    "    print(\"✓ CodeBuild Project deleted\")\n",
    "\n",
    "    print(\"Deleting Cognito User Pool...\")\n",
    "    cognito_client.delete_user_pool(UserPoolId=cognito_pool_id)\n",
    "    print(\"✓ Cognito User Pool deleted\")\n",
    "\n",
    "    print(\"Deleting Bedrock AgentCore configuration file...\")\n",
    "    os.remove(\".bedrock_agentcore.yaml\") \n",
    "    print(\"✓ .bedrock_agentcore.yaml deleted\")\n",
    "except Exception as e:\n",
    "    print(f\"❌ Error during cleanup: {e}\")\n",
    "    print(\"You may need to manually clean up some resources.\")"
   ]
  }
 ],
 "metadata": {
  "kernelspec": {
   "display_name": ".venv",
   "language": "python",
   "name": "python3"
  },
  "language_info": {
   "codemirror_mode": {
    "name": "ipython",
    "version": 3
   },
   "file_extension": ".py",
   "mimetype": "text/x-python",
   "name": "python",
   "nbconvert_exporter": "python",
   "pygments_lexer": "ipython3",
   "version": "3.11.13"
  }
 },
 "nbformat": 4,
 "nbformat_minor": 5
}
