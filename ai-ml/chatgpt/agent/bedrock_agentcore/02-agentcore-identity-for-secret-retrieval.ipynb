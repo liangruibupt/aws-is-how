{
 "cells": [
  {
   "cell_type": "markdown",
   "id": "main-title",
   "metadata": {},
   "source": [
    "# 使用 Bedrock AgentCore Identity 保护凭证\n",
    "\n",
    "本研讨会演示如何将 Strands Agents 与 Amazon Bedrock AgentCore Identity 集成，以在构建 AI 代理时安全地管理外部服务的 API 密钥和凭证。\n",
    "\n",
    "## 概述\n",
    "\n",
    "在本实验中，您将：\n",
    "- 了解安全凭证管理挑战\n",
    "- 理解 Bedrock AgentCore Identity 功能\n",
    "- 为外部服务创建 API 密钥凭证提供程序\n",
    "- 在 AI 代理中测试安全凭证检索\n",
    "- 探索凭证管理的最佳实践"
   ]
  },
  {
   "cell_type": "markdown",
   "id": "09619786",
   "metadata": {},
   "source": [
    "## 先决条件\n",
    "\n",
    "开始本实验之前，请确保您具备：\n",
    "- 已配置 AWS 凭证（IAM 角色或环境变量）\n",
    "- 已安装所需的 Python 包\n",
    "- 对 Strands Agents 和 Bedrock AgentCore 概念有基本了解\n",
    "- 用于测试的外部 API 密钥（例如 Exa API 密钥）\n",
    "\n",
    "如果您没有在假设 IAM 角色的环境中运行，请将您的 AWS 凭证设置为环境变量："
   ]
  },
  {
   "cell_type": "code",
   "execution_count": null,
   "id": "9ddff137",
   "metadata": {},
   "outputs": [],
   "source": [
    "import os\n",
    "\n",
    "#os.environ[\"AWS_ACCESS_KEY_ID\"]=<YOUR ACCESS KEY>\n",
    "#os.environ[\"AWS_SECRET_ACCESS_KEY\"]=<YOUR SECRET KEY>\n",
    "#os.environ[\"AWS_SESSION_TOKEN\"]=<OPTIONAL - YOUR SESSION TOKEN IF TEMP CREDENTIAL>\n",
    "#os.environ[\"AWS_REGION\"]=<AWS REGION WITH BEDROCK AGENTCORE AVAILABLE>"
   ]
  },
  {
   "cell_type": "markdown",
   "id": "cd4c88bd",
   "metadata": {},
   "source": [
    "为 Strands Agents 和 Bedrock AgentCore Python SDK 安装所需的包："
   ]
  },
  {
   "cell_type": "code",
   "execution_count": 2,
   "id": "50921df1",
   "metadata": {},
   "outputs": [],
   "source": [
    "#%pip install -q strands-agents strands-agents-tools bedrock-agentcore"
   ]
  },
  {
   "cell_type": "markdown",
   "id": "53e1a5c3",
   "metadata": {},
   "source": [
    "## 获取 Exa API 密钥以连接远程 Exa MCP\n",
    "\n",
    "在本实验中，我们将与 [远程 Exa MCP](https://docs.exa.ai/reference/exa-mcp) 交互，通过 Exa 搜索 API 执行实时网络搜索，这需要 Exa API 密钥来连接。\n",
    "\n",
    "Exa MCP 服务器 URL：```https://mcp.exa.ai/mcp?exaApiKey=your-exa-api-key```\n",
    "\n",
    "要获取 Exa API 密钥，请前往 [Exa 登录页面](https://dashboard.exa.ai/login) 使用您的电子邮件注册。\n",
    "\n",
    "然后前往 Exa 仪表板中的 [API 密钥部分](https://dashboard.exa.ai/api-keys) 创建 API 密钥。将 API 密钥复制到下面代码中的 `EXA_API_KEY`..."
   ]
  },
  {
   "cell_type": "markdown",
   "id": "e65876db",
   "metadata": {},
   "source": [
    "## 了解凭证管理挑战\n",
    "\n",
    "### 演示不安全的 API 密钥使用\n",
    "\n",
    "让我们首先演示在没有适当凭证管理的情况下尝试使用外部服务（Exa 搜索）时会发生什么。这将显示硬编码或无效 API 密钥所带来的安全风险和身份验证失败。"
   ]
  },
  {
   "cell_type": "code",
   "execution_count": 18,
   "id": "47a48d50-3db5-4c1e-84fc-9c6f51acfe8b",
   "metadata": {},
   "outputs": [
    {
     "name": "stdout",
     "output_type": "stream",
     "text": [
      "\n",
      "Connecting to MCP Server...\n",
      "Available tools: ['web_search_exa', 'company_research_exa', 'crawling_exa', 'linkedin_search_exa', 'deep_researcher_start', 'deep_researcher_check']\n"
     ]
    },
    {
     "name": "stdout",
     "output_type": "stream",
     "text": [
      "<thinking> To answer the user's question about Amazon Bedrock AgentCore, I need to gather information about what it is and its key features. Since I don't have direct access to Amazon's internal documentation or specific product details that may not be publicly available, I will use the available tools to search for this information. The most appropriate tool for this task is `web_search_exa`, which can perform a web search to find relevant information about Amazon Bedrock AgentCore. </thinking>\n",
      "\n",
      "Tool #1: web_search_exa\n",
      "Amazon Bedrock AgentCore 是一种允许您安全地以大规模部署和操作高度功能强大的 AI 代理的服务。它提供了为动态代理工作负载而构建的基础设施、增强代理的强大工具以及实际部署所必需的控制。AgentCore 服务可以一起或独立使用，并与任何框架（包括 CrewAI、LangGraph、LlamaIndex 和 Strands Agents）以及 Amazon Bedrock 内部或外部的任何基础模型一起使用，从而为您提供最大的灵活性。AgentCore 消除了构建专门代理基础设施的繁重工作，使您能够加快代理投入生产的速度。\n",
      "\n",
      "Amazon Bedrock AgentCore 的重要功能包括：\n",
      "\n",
      "1. **部署代理**：使用 Amazon Bedrock 内部或外部的任何框架、协议或模型，以安全的方式部署和扩展动态 AI 代理。受益于完整的会话隔离和行业领先的对长时间运行工作负载（最长 8 小时）的支持，从而实现复杂的多步骤代理任务。通过与现有身份提供商的原生集成，跨服务无缝管理代理身份和访问，实现自动化身份验证和权限委派。\n",
      "\n",
      "2. **增强代理**：通过在交互之间保持代理知识的持久内存，实现智能、个性化的体验。使用网关轻松将代理连接到现有工具和服务，将它们转换为代理就绪功能，只需最少的代码。使用强大的内置工具增强 AI 代理，包括安全的浏览器运行时（帮助代理执行复杂的基于 Web 的工作流程）和代码解释器（安全执行代码以执行生成可视化等任务）。\n",
      "\n",
      "3. **监控生产**：通过 Amazon CloudWatch 提供的全面可观察性仪表板，深入了解代理的性能，实现实时可见性。跟踪关键指标（如令牌使用、延迟、会话持续时间和错误率）以支持最佳操作。通过整个代理工作流程的可见性调试问题、审核代理决策并支持合规性。与现有监控系统无缝集成。Amazon Bedrock AgentCore 是一种允许您安全地以大规模部署和操作高度功能强大的 AI 代理的服务。它提供了为动态代理工作负载而构建的基础设施、增强代理的强大工具以及实际部署所必需的控制。AgentCore 服务可以一起或独立使用，并与任何框架（包括 CrewAI、LangGraph、LlamaIndex 和 Strands Agents）以及 Amazon Bedrock 内部或外部的任何基础模型一起使用，从而为您提供最大的灵活性。AgentCore 消除了构建专门代理基础设施的繁重工作，使您能够加快代理投入生产的速度。\n",
      "\n",
      "Amazon Bedrock AgentCore 的重要功能包括：\n",
      "\n",
      "1. **部署代理**：使用 Amazon Bedrock 内部或外部的任何框架、协议或模型，以安全的方式部署和扩展动态 AI 代理。受益于完整的会话隔离和行业领先的对长时间运行工作负载（最长 8 小时）的支持，从而实现复杂的多步骤代理任务。通过与现有身份提供商的原生集成，跨服务无缝管理代理身份和访问，实现自动化身份验证和权限委派。\n",
      "\n",
      "2. **增强代理**：通过在交互之间保持代理知识的持久内存，实现智能、个性化的体验。使用网关轻松将代理连接到现有工具和服务，将它们转换为代理就绪功能，只需最少的代码。使用强大的内置工具增强 AI 代理，包括安全的浏览器运行时（帮助代理执行复杂的基于 Web 的工作流程）和代码解释器（安全执行代码以执行生成可视化等任务）。\n",
      "\n",
      "3. **监控生产**：通过 Amazon CloudWatch 提供的全面可观察性仪表板，深入了解代理的性能，实现实时可见性。跟踪关键指标（如令牌使用、延迟、会话持续时间和错误率）以支持最佳操作。通过整个代理工作流程的可见性调试问题、审核代理决策并支持合规性。与现有监控系统无缝集成。\n",
      "\n"
     ]
    }
   ],
   "source": [
    "from strands import Agent\n",
    "from strands.tools.mcp import MCPClient\n",
    "from mcp.client.streamable_http import streamablehttp_client\n",
    "\n",
    "# !-------- UPDATE THE EXA API KEY HERE  --------!\n",
    "EXA_API_KEY = os.environ.get('EXA_API_KEY')\n",
    "\n",
    "# Connect to the weather MCP server\n",
    "print(\"\\nConnecting to MCP Server...\")\n",
    "exa_server = MCPClient(lambda: streamablehttp_client(f\"https://mcp.exa.ai/mcp?exaApiKey={EXA_API_KEY}\"))\n",
    "\n",
    "with exa_server:\n",
    "    # Combine all tools - they all work the same way!\n",
    "    mcp_tools = (\n",
    "        exa_server.list_tools_sync()\n",
    "    )\n",
    "\n",
    "    print(f\"Available tools: {[tool.tool_name for tool in mcp_tools]}\")\n",
    "    \n",
    "    # Create agent with Exa MCP tools\n",
    "    agent = Agent(model=\"us.amazon.nova-pro-v1:0\",\n",
    "                  system_prompt=\"You are a helpful assistant that provides concise responses.\",\n",
    "                  tools=mcp_tools)\n",
    "\n",
    "    response = agent(\"介绍 Amazon Bedrock AgentCore是甚么? 包含哪些重要的功能?\")\n",
    "    print(response)"
   ]
  },
  {
   "cell_type": "markdown",
   "id": "c131d5a7",
   "metadata": {},
   "source": [
    "## 什么是 Bedrock AgentCore Identity？\n",
    "\n",
    "Amazon Bedrock AgentCore Identity 为需要访问外部服务的 AI 代理提供安全的凭证管理。主要优势包括：\n",
    "\n",
    "- **安全存储**：在 AWS Secrets Manager 中存储 API 密钥、令牌和凭证\n",
    "- **运行时检索**：在运行时提供安全的凭证访问，无需硬编码\n",
    "- **访问控制**：与 AWS IAM 集成，实现细粒度访问权限\n",
    "- **审计跟踪**：维护凭证访问日志以进行安全监控\n",
    "- **轮换支持**：支持自动凭证轮换和生命周期管理\n",
    "\n",
    "此服务消除了在应用程序代码中硬编码敏感凭证的需要，降低了安全风险并改善了合规性。"
   ]
  },
  {
   "cell_type": "markdown",
   "id": "create-provider",
   "metadata": {},
   "source": [
    "## 创建安全凭证管理\n",
    "\n",
    "### 步骤 1：创建 API 密钥凭证提供程序\n",
    "\n",
    "现在我们将使用 Bedrock AgentCore Identity 创建一个 API 密钥凭证提供程序。这会将 Exa API 密钥安全地存储在 AWS Secrets Manager 中，并提供一种托管方式来访问它，而无需在代码中暴露凭证。"
   ]
  },
  {
   "cell_type": "code",
   "execution_count": 19,
   "id": "4dc7ef09-7a69-4bc9-aa50-8d8703e67573",
   "metadata": {},
   "outputs": [
    {
     "name": "stdout",
     "output_type": "stream",
     "text": [
      "Created AgentCore Identity API Key Credential Provider.\n",
      "{'ResponseMetadata': {'RequestId': '0c09228d-4413-478c-88a5-0ea37ed08352', 'HTTPStatusCode': 200, 'HTTPHeaders': {'date': 'Tue, 26 Aug 2025 11:07:20 GMT', 'content-type': 'application/json', 'content-length': '326', 'connection': 'keep-alive', 'x-amzn-requestid': '0c09228d-4413-478c-88a5-0ea37ed08352', 'x-amzn-remapped-x-amzn-requestid': '8b5efb24-590d-4a07-8c0c-81b536fb1bc1', 'x-amzn-remapped-content-length': '326', 'x-amzn-remapped-connection': 'keep-alive', 'x-amz-apigw-id': 'P6RIaHNDIAMEZ4A=', 'x-amzn-trace-id': 'Root=1-68ad9568-760a1b285960a67b490baca0', 'x-amzn-remapped-date': 'Tue, 26 Aug 2025 11:07:20 GMT'}, 'RetryAttempts': 0}, 'apiKeySecretArn': {'secretArn': 'arn:aws:secretsmanager:us-east-1:710299592439:secret:bedrock-agentcore-identity!default/apikey/exa-apikey-provider-zQM2QJ'}, 'name': 'exa-apikey-provider', 'credentialProviderArn': 'arn:aws:bedrock-agentcore:us-east-1:710299592439:token-vault/default/apikeycredentialprovider/exa-apikey-provider'}\n"
     ]
    }
   ],
   "source": [
    "from bedrock_agentcore.services.identity import IdentityClient\n",
    "import boto3\n",
    "\n",
    "# !-------- UPDATE THE EXA API KEY HERE  --------!\n",
    "EXA_API_KEY = os.environ.get('EXA_API_KEY') \n",
    "\n",
    "region = boto3.session.Session().region_name\n",
    "\n",
    "#Configure API Key Provider\n",
    "identity_client = IdentityClient(region=region)\n",
    "\n",
    "try:\n",
    "    api_key_provider = identity_client.create_api_key_credential_provider({\n",
    "        \"name\": \"exa-apikey-provider\",\n",
    "        \"apiKey\": EXA_API_KEY # Replace it with the API key you obtain from the external application vendor, e.g., OpenAI\n",
    "    })\n",
    "    print(\"Created AgentCore Identity API Key Credential Provider.\")\n",
    "    print(api_key_provider)\n",
    "except Exception as e:\n",
    "    print(\"AgentCore Identity API Key Credential Provider already exist.\")"
   ]
  },
  {
   "cell_type": "markdown",
   "id": "secure-test",
   "metadata": {},
   "source": [
    "### 步骤 2：测试安全凭证检索\n",
    "\n",
    "现在让我们使用安全凭证检索来测试我们的代理。`@requires_api_key` 装饰器会在运行时自动从凭证提供程序检索 API 密钥，确保我们的代码中没有硬编码的秘密，同时保持安全最佳实践。"
   ]
  },
  {
   "cell_type": "code",
   "execution_count": 20,
   "id": "ce2ff8a0-b17d-4fe2-8e6c-b75e660730d2",
   "metadata": {},
   "outputs": [
    {
     "name": "stdout",
     "output_type": "stream",
     "text": [
      "Created a workload identity\n",
      "Created an user id\n",
      "received api key for async func: e2152bee-f383-4ac8-a6b9-46d247234031\n",
      "\n",
      "Connecting to MCP Server...\n",
      "Available tools: ['web_search_exa', 'company_research_exa', 'crawling_exa', 'linkedin_search_exa', 'deep_researcher_start', 'deep_researcher_check']\n",
      "<thinking> To introduce Bedrock AgentCore, I need to gather information about it. Since I don't have prior knowledge about Bedrock AgentCore, I will use the web_search_exa tool to search for information about it. </thinking>\n",
      "\n",
      "Tool #1: web_search_exa\n",
      "Bedrock AgentCore 是亚马逊推出的一项服务，旨在帮助开发者部署和运营高性能的 AI 代理，确保其在生产环境中的安全性、可靠性和可扩展性。它提供了专门为动态代理工作负载设计的基础设施，强大的工具来增强代理能力，以及必要的控制措施以确保可信的运营。AgentCore 服务可以单独或组合使用，并与任何框架（包括 CrewAI、LangGraph、LlamaIndex 和 Strands Agents）以及任何基础模型（无论是在 Amazon Bedrock 内部还是外部）兼容，提供了极大的灵活性。AgentCore 消除了构建专门代理基础设施的繁重工作，使您能够加速代理的上线。其主要功能包括：\n",
      "\n",
      "1. **安全部署代理**：使用任何框架、协议或模型在 Amazon Bedrock 内部或外部安全地部署和扩展动态 AI 代理。受益于完全的会话隔离和行业领先的对长时间运行工作负载（最长 8 小时）的支持，使复杂的多步骤代理任务成为可能。通过与现有身份提供商的原生集成，跨服务无缝管理代理身份和访问，实现自动身份验证和权限委派。\n",
      "\n",
      "2. **增强代理功能**：通过持久内存维持代理在交互之间的知识，实现智能化、个性化的体验。使用网关轻松将代理连接到现有工具和服务，将它们转换为代理就绪的功能，只需最少的代码。使用强大的内置工具（如安全浏览器运行时和代码解释器）增强 AI 代理。\n",
      "\n",
      "3. **生产监控**：通过 Amazon CloudWatch 提供的全面可观察性仪表板，实时了解代理的性能。跟踪关键指标（如令牌使用、延迟、会话持续时间和错误率）以支持最佳运营。通过对整个代理工作流程的可见性，调试问题、审计代理决策并支持合规性。与现有监控系统无缝集成。Bedrock AgentCore 是亚马逊推出的一项服务，旨在帮助开发者部署和运营高性能的 AI 代理，确保其在生产环境中的安全性、可靠性和可扩展性。它提供了专门为动态代理工作负载设计的基础设施，强大的工具来增强代理能力，以及必要的控制措施以确保可信的运营。AgentCore 服务可以单独或组合使用，并与任何框架（包括 CrewAI、LangGraph、LlamaIndex 和 Strands Agents）以及任何基础模型（无论是在 Amazon Bedrock 内部还是外部）兼容，提供了极大的灵活性。AgentCore 消除了构建专门代理基础设施的繁重工作，使您能够加速代理的上线。其主要功能包括：\n",
      "\n",
      "1. **安全部署代理**：使用任何框架、协议或模型在 Amazon Bedrock 内部或外部安全地部署和扩展动态 AI 代理。受益于完全的会话隔离和行业领先的对长时间运行工作负载（最长 8 小时）的支持，使复杂的多步骤代理任务成为可能。通过与现有身份提供商的原生集成，跨服务无缝管理代理身份和访问，实现自动身份验证和权限委派。\n",
      "\n",
      "2. **增强代理功能**：通过持久内存维持代理在交互之间的知识，实现智能化、个性化的体验。使用网关轻松将代理连接到现有工具和服务，将它们转换为代理就绪的功能，只需最少的代码。使用强大的内置工具（如安全浏览器运行时和代码解释器）增强 AI 代理。\n",
      "\n",
      "3. **生产监控**：通过 Amazon CloudWatch 提供的全面可观察性仪表板，实时了解代理的性能。跟踪关键指标（如令牌使用、延迟、会话持续时间和错误率）以支持最佳运营。通过对整个代理工作流程的可见性，调试问题、审计代理决策并支持合规性。与现有监控系统无缝集成。\n",
      "\n"
     ]
    }
   ],
   "source": [
    "from bedrock_agentcore.identity.auth import requires_api_key\n",
    "from strands import Agent\n",
    "from strands.tools.mcp import MCPClient\n",
    "from mcp.client.streamable_http import streamablehttp_client\n",
    "\n",
    "@requires_api_key(provider_name=\"exa-apikey-provider\")\n",
    "def need_api_key(*, api_key: str):\n",
    "    print(f'received api key for async func: {api_key}')\n",
    "    return api_key\n",
    "\n",
    "EXA_API_KEY = need_api_key()\n",
    "\n",
    "# Connect to the EXA MCP server\n",
    "print(\"\\nConnecting to MCP Server...\")\n",
    "exa_server = MCPClient(lambda: streamablehttp_client(f\"https://mcp.exa.ai/mcp?exaApiKey={EXA_API_KEY}\"))\n",
    "\n",
    "with exa_server:\n",
    "    # Combine all tools - they all work the same way!\n",
    "    mcp_tools = (\n",
    "        exa_server.list_tools_sync()\n",
    "    )\n",
    "\n",
    "    print(f\"Available tools: {[tool.tool_name for tool in mcp_tools]}\")\n",
    "    \n",
    "    # Create agent with Exa MCP tools\n",
    "    agent = Agent(model=\"us.amazon.nova-pro-v1:0\",\n",
    "                  system_prompt=\"You are a helpful assistant that provides concise responses.\",\n",
    "                  tools=mcp_tools)\n",
    "\n",
    "    response = agent(\"介绍 Bedrock AgentCore 是甚么\")\n",
    "    print(response)"
   ]
  },
  {
   "cell_type": "markdown",
   "id": "b80ad21e",
   "metadata": {},
   "source": [
    "让我们检查代理循环的详细执行流程，以了解代理如何处理请求并生成响应："
   ]
  },
  {
   "cell_type": "code",
   "execution_count": 21,
   "id": "3a463338",
   "metadata": {},
   "outputs": [
    {
     "name": "stdout",
     "output_type": "stream",
     "text": [
      "Agent Loop Detail\n",
      "-----------------\n",
      "Agent Loop Length: 4)\n",
      "\n",
      "User-Assistant Conversation:\n",
      "{'role': 'user', 'content': [{'text': '介绍 Bedrock AgentCore 是甚么'}]}\n",
      "{'role': 'assistant', 'content': [{'text': \"<thinking> To introduce Bedrock AgentCore, I need to gather information about it. Since I don't have prior knowledge about Bedrock AgentCore, I will use the web_search_exa tool to search for information about it. </thinking>\\n\"}, {'toolUse': {'toolUseId': 'tooluse_EJwTd21TRqmy5-R2kuL4hQ', 'name': 'web_search_exa', 'input': {'query': 'Bedrock AgentCore'}}}]}\n",
      "{'role': 'user', 'content': [{'toolResult': {'status': 'success', 'toolUseId': 'tooluse_EJwTd21TRqmy5-R2kuL4hQ', 'content': [{'text': '{\\n  \"requestId\": \"44150f9862c43244b651c3218b68b2bf\",\\n  \"autopromptString\": \"Bedrock AgentCore\",\\n  \"resolvedSearchType\": \"neural\",\\n  \"results\": [\\n    {\\n      \"id\": \"https://aws.amazon.com/bedrock/agentcore/\",\\n      \"title\": \"Amazon Bedrock AgentCore (Preview) - AWS\",\\n      \"url\": \"https://aws.amazon.com/bedrock/agentcore/\",\\n      \"publishedDate\": \"2025-08-20T18:08:46.000Z\",\\n      \"author\": \"\",\\n      \"text\": \"[Skip to main content](https://aws.amazon.com/aws.amazon.com#aws-page-content-main)\\\\n\\\\nAmazon Bedrock\\\\n\\\\n- [Overview](https://aws.amazon.com/bedrock/)\\\\n\\\\n- Capabilities\\\\n\\\\n- [AgentCore](https://aws.amazon.com/bedrock/agentcore/)\\\\n\\\\n- Pricing\\\\n\\\\n- FAQs\\\\n\\\\n- More\\\\n\\\\n\\\\n- [Generative AI](https://aws.amazon.com/ai/generative-ai/)›\\\\n- [Amazon Bedrock](https://aws.amazon.com/bedrock/)›\\\\n- [AgentCore](https://aws.amazon.com/bedrock/agentcore/)\\\\n\\\\n# Amazon Bedrock AgentCore (Preview)\\\\n\\\\nDeploy and operate AI agents securely at scale - using any framework and model\\\\n\\\\n[Get started with the AgentCore toolkit](https://github.com/aws/bedrock-agentcore-starter-toolkit)\\\\n\\\\n[Access the AgentCore Console](https://us-west-2.console.aws.amazon.com/bedrock-agentcore/home?region=us-west-2)\\\\n\\\\n## What is Amazon Bedrock AgentCore?\\\\n\\\\nAmazon Bedrock AgentCore enables you to deploy and operate highly capable AI agents securely, at scale. It offers infrastructure purpose-built for dynamic agent workloads, powerful tools to enhance agents, and essential controls for real-world deployment. AgentCore services can be used together or independently and work with any framework including CrewAI, LangGraph, LlamaIndex, and Strands Agents, as well as any foundation model in or outside of Amazon Bedrock, giving you ultimate flexibility. AgentCore eliminates the undifferentiated heavy lifting of building specialized agent infrastructure, so you can accelerate agents to production.\\\\n\\\\nPlay\\\\n\\\\n## Bedrock AgentCore Capabilities\\\\n\\\\n- Deploy\\\\n- Enhance\\\\n- Monitor\\\\n\\\\n### Deploy agents securely at scale\\\\n\\\\nDeploy and scale dynamic AI agents securely using any framework, protocol, or model in or outside of Amazon Bedrock. Benefit from complete session isolation and\\xa0industry leading support for long-running workloads up to 8 hours, enabling complex, multi-step agent tasks. Manage agent identity and access seamlessly across your services with native integration to your existing identity providers for automated authentication and permission delegation.\\\\n\\\\n### Enhance agents with tools and memory\\\\n\\\\nEnable intelligent, personalized experiences with persistent memory that maintains agent knowledge across interactions. Easily connect agents to your existing tools and services with a gateway that transforms them into agent-ready capabilities with minimal code. Enhance your AI agents with powerful built-in tools including a secure browser runtime to help agents execute complex web-based workflows and a code interpreter to securely execute code for tasks such as generating visualizations.\\\\n\\\\n### Monitor in production\\\\n\\\\nGain deep operational insights with real-time visibility into your agents\\' performance through comprehensive observability dashboards powered by Amazon CloudWatch. Track key metrics such as token usage, latency, session duration, and error rates to support optimal operations. Debug issues, audit agent decisions, and support compliance with visibility into the entire agent workflow. Integrates seamlessly with your existing monitoring \",\\n      \"favicon\": \"https://a0.awsstatic.com/libra-css/images/site/fav/favicon.ico\"\\n    },\\n    {\\n      \"id\": \"https://aws.amazon.com/about-aws/whats-new/2025/07/amazon-bedrock-agentcore-preview/\",\\n      \"title\": \"What\\'s New at AWS - Cloud Innovation & News\",\\n      \"url\": \"https://aws.amazon.com/about-aws/whats-new/2025/07/amazon-bedrock-agentcore-preview/\",\\n      \"publishedDate\": \"2025-08-20T18:31:43.000Z\",\\n      \"author\": \"\",\\n      \"text\": \"[Skip to main content](https://aws.amazon.com/aws.amazon.com#aws-page-content-main)\\\\n\\\\n# Amazon Bedrock AgentCore now available in preview\\\\n\\\\nPosted on:\\\\nJul 16, 2025\\\\n\\\\nAmazon Bedrock AgentCore enables developers to deploy and operate AI agents with the scale, reliability, and security critical to real-world applications. It provides purpose-built infrastructure to scale agents securely, powerful tools to enhance agent capabilities, and essential controls to ensure trustworthy operations. AgentCore services are modular and composable, allowing them to be used together or independently. They work with any model—in or outside of Amazon Bedrock—and any open-source agent framework, eliminating the trade-off between open-source flexibility and enterprise-grade security.\\\\n\\\\nAmazon Bedrock AgentCore include services and tools that address the barriers to moving agents from proof of concept to production. AgentCore Runtime provides complete session isolation with low latency and supports long-running workloads up to 8 hours. AgentCore Memory enables agents to maintain both short-term and long-term memory across interactions with zero infrastructure management. AgentCore Gateway simplifies tool integration and discoverability, enabling developers to convert existing APIs and services into Model Context Protocol (MCP)-compatible tools with minimal code. AgentCore Browser Tool provides a secure, cloud-based browser runtime so agents can interact with web-based services and perform complex web tasks. AgentCore Code Interpreter offers a secure, sandbox environment so agents can execute code across multiple languages. AgentCore Observability provides real-time visibility into end-to-end agent execution and key operational metrics through dashboards powered by Amazon CloudWatch and is OpenTelemetry compatible. AgentCore Identity allows users to invoke agents by integrating with existing identity providers such as Amazon Cognito, Microsoft Entra ID, and Okta and enables agents to then securely access AWS resources and third-party tools and services.\\\\n\\\\nThe preview of Amazon Bedrock AgentCore is currently available in US East (N. Virginia), US West (Oregon), Asia Pacific (Sydney), and Europe (Frankfurt). Learn more about Amazon Bedrock AgentCore and it’s services in the [News Blog](https://aws.amazon.com/blogs/aws/introducing-amazon-bedrock-agentcore-securely-deploy-and-operate-ai-agents-at-any-scale/) and explore in-depth implementation details in the [AgentCore documentation](https://docs.aws.amazon.com/bedrock-agentcore/). For pricing information, visit the [Amazon Bedrock AgentCore Pricing](https://aws.amazon.com/bedrock/agentcore/pricing/).\",\\n      \"favicon\": \"https://a0.awsstatic.com/libra-css/images/site/fav/favicon.ico\"\\n    },\\n    {\\n      \"id\": \"https://dev.to/alifar/amazon-bedrocks-agentcore-how-it-powers-the-next-generation-of-ai-agents-2ea0\",\\n      \"title\": \"Amazon Bedrock’s AgentCore: How It Powers the Next Generation of AI Agents\",\\n      \"url\": \"https://dev.to/alifar/amazon-bedrocks-agentcore-how-it-powers-the-next-generation-of-ai-agents-2ea0\",\\n      \"publishedDate\": \"2025-08-22T07:08:29.000Z\",\\n      \"author\": \"Ali Farhat\",\\n      \"text\": \"If you\\'ve been exploring AI tools and agentic workflows, Amazon Bedrock\\'s AgentCore should be on your radar. Announced quietly, AgentCore provides the backend infrastructure to deploy AI agents that are secure, observable, and production-ready—without having to build everything from scratch.\\\\n\\\\nIn this breakdown, we’ll cover:\\\\n\\\\n- What [AgentCore](https://scalevise.com/resources/amazon-bedrock-agentcore-ai-agents/) is\\\\n- Why it’s a game-changer for enterprise AI\\\\n- How it compares to tools like OpenAI Assistants or LangChain\\\\n- What it means for developers and business teams\\\\n\\\\n## What Is AgentCore?\\\\n\\\\n**AgentCore** is a new capability in Amazon Bedrock that enables developers to build multi-step, [goal-driven AI agents](https://scalevise.com/resources/ai-agents/) that interact with tools, APIs, and workflows.\\\\n\\\\nUnlike traditional prompt-based AI, AgentCore agents:\\\\n\\\\n- Orchestrate tool usage\\\\n- Maintain memory and state across steps\\\\n- Can be customized with guardrails and access policies\\\\n- Operate within your AWS infrastructure (including permissions, IAM roles, and [security protocols](https://scalevise.com/resources/ai-gdpr-privacy-security-businesses/))\\\\n\\\\nThis moves AI agents from experimental demos into real enterprise systems.\\\\n\\\\nSee: [Agentcore Pricing](https://scalevise.com/resources/agentcore-bedrock-pricing-self-hosting/)\\\\n\\\\n## Key Features of AgentCore\\\\n\\\\n| Feature | Description |\\\\n| --- | --- |\\\\n| Tool Orchestration | Use multiple tools (APIs, databases, functions) in sequence |\\\\n| Secure Context Handling | Integrated with IAM, access controls, audit logging |\\\\n| Memory and State | Persistent reasoning across steps, not just reactive prompts |\\\\n| AWS Native | Seamlessly integrates with S3, Lambda, DynamoDB, and more |\\\\n| Observability | Full visibility into decisions, tool calls, and execution flow |\\\\n\\\\n## How AgentCore Differs from OpenAI Assistants\\\\n\\\\n| Feature | AgentCore (Amazon Bedrock) | OpenAI Assistants |\\\\n| --- | --- | --- |\\\\n| Hosting | Within your AWS environment | Hosted by OpenAI |\\\\n| Security & Access | IAM roles, VPC, encryption | Basic API keys and auth |\\\\n| Tool Use | Supports Lambda, APIs, and Bedrock | Requires function definitions |\\\\n| Observability | CloudWatch, tracing, logging | Limited logs |\\\\n| Agent Memory | Native support across sessions | Still evolving |\\\\n\\\\n## 🔍 Real-World Use Cases\\\\n\\\\nHere are a few scenarios where AgentCore can create massive operational advantages:\\\\n\\\\n- **Automated IT Helpdesk**: AI agent receives a support ticket, checks internal knowledge base, runs diagnostic API calls via Lambda, and updates the ticketing system.\\\\n\\\\n- **AI Finance Assistant**: Monitors budgets in DynamoDB, sends alerts via SNS, generates reports through S3 and triggers monthly summaries using Bedrock agents.\\\\n\\\\n- **HR Onboarding Flow**: Gathers employee data, creates user accounts, assigns training materials, and books intro calls—powered end-to-end by AgentCore and AWS Step Functions.\\\\n\\\\n\\\\nThese use cases highlight how you can build powerful, role-specific workflo\",\\n      \"image\": \"https://media2.dev.to/dynamic/image/width=1000,height=500,fit=cover,gravity=auto,format=auto/https%3A%2F%2Fdev-to-uploads.s3.amazonaws.com%2Fuploads%2Farticles%2Fwdae3f05f81gvhcp4xiy.png\",\\n      \"favicon\": \"https://media2.dev.to/dynamic/image/width%3D32%2Cheight%3D%2Cfit%3Dscale-down%2Cgravity%3Dauto%2Cformat%3Dauto/https%3A//dev-to-uploads.s3.amazonaws.com/uploads/articles/8j7kvp660rqzt99zui8e.png\"\\n    },\\n    {\\n      \"id\": \"https://aws.amazon.com/blogs/machine-learning/introducing-the-amazon-bedrock-agentcore-code-interpreter/\",\\n      \"title\": \"Introducing the Amazon Bedrock AgentCore Code Interpreter | Amazon Web Services\",\\n      \"url\": \"https://aws.amazon.com/blogs/machine-learning/introducing-the-amazon-bedrock-agentcore-code-interpreter/\",\\n      \"publishedDate\": \"2025-08-06T15:38:02.000Z\",\\n      \"author\": \"\",\\n      \"text\": \"[Skip to Main Content](https://aws.amazon.com/aws.amazon.com#aws-page-content-main)\\\\n\\\\n## [Artificial Intelligence](https://aws.amazon.com/blogs/machine-learning/)\\\\n\\\\n# Introducing the Amazon Bedrock AgentCore Code Interpreter\\\\n\\\\nAI agents have reached a critical inflection point where their ability to generate sophisticated code exceeds the capacity to execute it safely in production environments. Organizations deploying agentic AI face a fundamental dilemma: although large language models (LLMs) can produce complex code scripts, mathematical analyses, and data visualizations, executing this AI-generated code introduces significant security vulnerabilities and operational complexity.\\\\n\\\\nIn this post, we introduce the [Amazon Bedrock AgentCore Code Interpreter](https://docs.aws.amazon.com/bedrock-agentcore/latest/devguide/code-interpreter-tool.html), a fully managed service that enables AI agents to securely execute code in isolated sandbox environments. We discuss how the AgentCore Code Interpreter helps solve challenges around security, scalability, and infrastructure management when deploying AI agents that need computational capabilities. We walk through the service’s key features, demonstrate how it works with practical examples, and show you how to get started with building your own agents using popular frameworks like Strands, LangChain, and LangGraph.\\\\n\\\\n## Security and scalability challenges with AI-generated code\\\\n\\\\nConsider an example where an AI agent needs perform analysis on multi-year sales projections data for a product, to understand anomalies, trends, and seasonality. The analysis should be grounded in logic, repeatable, handle data securely, and scalable over large data and multiple iterations, if needed. Although LLMs excel at understanding and explaining concepts, they lack the ability to directly manipulate data or perform consistent mathematical operations at scale. LLMs alone are often inadequate for complex data analysis tasks like these, due to their inherent limitations in processing large datasets, performing precise calculations, and generating visualizations. This is where code interpretation and execution tools become essential, providing the capability to execute precise calculations, handle large datasets efficiently, and create reproducible analyses through programming languages and specialized libraries. Furthermore, implementing code interpretation capabilities comes with significant considerations. Organizations must maintain secure sandbox environments to help prevent malicious code execution, manage resource allocation, and maintain data privacy. The infrastructure requires regular updates, robust monitoring, and careful scaling strategies to handle increasing demand.\\\\n\\\\nTraditional approaches to code execution in AI systems suffer from several limitations:\\\\n\\\\n- **Security vulnerabilities** – Executing untrusted AI-generated code in production environments exposes organizations to code injection threats, unauthorized system\",\\n      \"image\": \"https://d2908q01vomqb2.cloudfront.net/f1f836cb4ea6efb2a0b1b99f41ad8b103eff4b59/2025/08/01/ml-19403-1120x630.jpg\",\\n      \"favicon\": \"https://a0.awsstatic.com/main/images/site/fav/favicon.ico\"\\n    },\\n    {\\n      \"id\": \"https://aws.amazon.com/blogs/machine-learning/introducing-amazon-bedrock-agentcore-browser-tool/\",\\n      \"title\": \"Introducing Amazon Bedrock AgentCore Browser Tool | Amazon Web Services\",\\n      \"url\": \"https://aws.amazon.com/blogs/machine-learning/introducing-amazon-bedrock-agentcore-browser-tool/\",\\n      \"publishedDate\": \"2025-08-08T17:03:32.000Z\",\\n      \"author\": \"\",\\n      \"text\": \"[Skip to Main Content](https://aws.amazon.com/aws.amazon.com#aws-page-content-main)\\\\n\\\\n## [Artificial Intelligence](https://aws.amazon.com/blogs/machine-learning/)\\\\n\\\\n# Introducing Amazon Bedrock AgentCore Browser Tool\\\\n\\\\nAt AWS Summit New York City 2025, [Amazon Web Services](https://aws.amazon.com/) (AWS) announced the preview of [Amazon Bedrock AgentCore](https://aws.amazon.com/bedrock/agentcore/?trk=e61dee65-4ce8-4738-84db-75305c9cd4fe&sc_channel=el) browser tool, a fully managed, pre-built cloud-based browser. This tool enables [generative AI](https://aws.amazon.com/generative-ai/) agents to interact seamlessly with websites. It addresses two fundamental limitations: first, [foundation models](https://aws.amazon.com/what-is/foundation-models/) (FMs) are trained on large but static datasets and need dynamic access to current information when API access isn’t readily available; second, organizations face significant challenges when attempting to scale web automation with AI for enterprise use cases.\\\\n\\\\nThe development of agentic AI systems is moving toward applications that can execute complex, multistep tasks. For these agents to be effective, they require access to dynamic, real-time data, particularly from websites and web applications that don’t offer APIs or where API integration would be complex. Moreover, as businesses seek to deploy AI-powered automation across their operations, they need solutions that can reliably scale without the operational overhead of managing browser farms or solving complex concurrency issues. The AgentCore Browser Tool provides these capabilities, allowing agents to perform tasks such as automating research, streamlining operations, and interacting with web-based applications—all with the scalability, reliability, and security of the AWS Cloud infrastructure. By providing a fully managed cloud-based browser, AWS addresses the critical need for enterprises to deploy AI automation at scale across thousands of concurrent sessions, supporting use cases from customer service automation to large-scale data collection and analysis, without the traditional complexity and resource constraints of self-managed browser automation frameworks.\\\\n\\\\nIn this post, we introduce the newly announced Amazon Bedrock AgentCore Browser Tool. We explore why organizations need cloud-based browser automation and the limitations it addresses for FMs that require real-time data access. We talk about key use cases and the core capabilities of the AgentCore Browser Tool. We walk through how to get started with the tool.\\\\n\\\\n## Why do you need the cloud-based AgentCore Browser Tool?\\\\n\\\\nTraditional browser automation approaches have typically required significant infrastructure management, security considerations, and development expertise. The introduction of a fully managed, cloud-based browser automation solution addresses several critical needs, including simplified infrastructure management, enterprise-grade security, global availability and scaling, an\",\\n      \"image\": \"https://d2908q01vomqb2.cloudfront.net/f1f836cb4ea6efb2a0b1b99f41ad8b103eff4b59/2025/08/01/ML-19404-1120x630.jpg\",\\n      \"favicon\": \"https://a0.awsstatic.com/main/images/site/fav/favicon.ico\"\\n    }\\n  ],\\n  \"searchTime\": 5344,\\n  \"costDollars\": {\\n    \"total\": 0.01,\\n    \"search\": {\\n      \"neural\": 0.005\\n    },\\n    \"contents\": {\\n      \"text\": 0.005\\n    }\\n  }\\n}'}]}}]}\n",
      "{'role': 'assistant', 'content': [{'text': 'Bedrock AgentCore 是亚马逊推出的一项服务，旨在帮助开发者部署和运营高性能的 AI 代理，确保其在生产环境中的安全性、可靠性和可扩展性。它提供了专门为动态代理工作负载设计的基础设施，强大的工具来增强代理能力，以及必要的控制措施以确保可信的运营。AgentCore 服务可以单独或组合使用，并与任何框架（包括 CrewAI、LangGraph、LlamaIndex 和 Strands Agents）以及任何基础模型（无论是在 Amazon Bedrock 内部还是外部）兼容，提供了极大的灵活性。AgentCore 消除了构建专门代理基础设施的繁重工作，使您能够加速代理的上线。其主要功能包括：\\n\\n1. **安全部署代理**：使用任何框架、协议或模型在 Amazon Bedrock 内部或外部安全地部署和扩展动态 AI 代理。受益于完全的会话隔离和行业领先的对长时间运行工作负载（最长 8 小时）的支持，使复杂的多步骤代理任务成为可能。通过与现有身份提供商的原生集成，跨服务无缝管理代理身份和访问，实现自动身份验证和权限委派。\\n\\n2. **增强代理功能**：通过持久内存维持代理在交互之间的知识，实现智能化、个性化的体验。使用网关轻松将代理连接到现有工具和服务，将它们转换为代理就绪的功能，只需最少的代码。使用强大的内置工具（如安全浏览器运行时和代码解释器）增强 AI 代理。\\n\\n3. **生产监控**：通过 Amazon CloudWatch 提供的全面可观察性仪表板，实时了解代理的性能。跟踪关键指标（如令牌使用、延迟、会话持续时间和错误率）以支持最佳运营。通过对整个代理工作流程的可见性，调试问题、审计代理决策并支持合规性。与现有监控系统无缝集成。'}]}\n"
     ]
    }
   ],
   "source": [
    "print(\"Agent Loop Detail\")\n",
    "print(\"-----------------\")\n",
    "\n",
    "print(f\"Agent Loop Length: {len(agent.messages)})\")\n",
    "print(\"\\nUser-Assistant Conversation:\")\n",
    "for message in agent.messages:\n",
    "    print(message)"
   ]
  },
  {
   "cell_type": "markdown",
   "id": "d1c327e8",
   "metadata": {},
   "source": [
    "## 资源清理（可选）\n",
    "\n",
    "清理已部署的资源："
   ]
  },
  {
   "cell_type": "code",
   "execution_count": 22,
   "id": "8235e5fd",
   "metadata": {},
   "outputs": [
    {
     "name": "stdout",
     "output_type": "stream",
     "text": [
      "Deleting AgentCore Identity...\n",
      "✓ AgentCore Identity deletion initiated\n"
     ]
    }
   ],
   "source": [
    "import boto3\n",
    "\n",
    "region = boto3.session.Session().region_name\n",
    "\n",
    "agentcore_control_client = boto3.client('bedrock-agentcore-control', region_name=region)\n",
    "\n",
    "try:\n",
    "    print(\"Deleting AgentCore Identity...\")\n",
    "    agentcore_control_client.delete_api_key_credential_provider(name=\"exa-apikey-provider\")\n",
    "    print(\"✓ AgentCore Identity deletion initiated\")\n",
    "except Exception as e:\n",
    "    print(f\"❌ Error during cleanup: {e}\")\n",
    "    print(\"You may need to manually clean up some resources.\")"
   ]
  }
 ],
 "metadata": {
  "kernelspec": {
   "display_name": ".venv",
   "language": "python",
   "name": "python3"
  },
  "language_info": {
   "codemirror_mode": {
    "name": "ipython",
    "version": 3
   },
   "file_extension": ".py",
   "mimetype": "text/x-python",
   "name": "python",
   "nbconvert_exporter": "python",
   "pygments_lexer": "ipython3",
   "version": "3.11.13"
  }
 },
 "nbformat": 4,
 "nbformat_minor": 5
}
