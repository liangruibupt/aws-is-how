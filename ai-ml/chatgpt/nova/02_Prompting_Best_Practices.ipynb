{
 "cells": [
  {
   "cell_type": "markdown",
   "id": "0760640c-62b1-40a4-b10a-3ef4e21df4b1",
   "metadata": {},
   "source": [
    "### 02_Prompting Best Practices with Amazon Nova Models\n",
    "\n",
    "The effectiveness of prompts is contingent upon the quality of the information provided and the craftsmanship of the prompt itself. Prompts may encompass instructions, questions, contextual details, inputs, and examples to effectively guide the model and enhance the quality of the results. This document outlines strategies and tactics for optimizing the performance of Amazon Nova Family of Models. The methods presented herein may be employed in various combinations to amplify their effectiveness. We encourage users to engage in experimentation to identify the approaches most suitable for their specific needs. More details on prompt best practices can be found [here](https://docs.aws.amazon.com/nova/latest/userguide/prompting-text-understanding.html)\n",
    "\n",
    "\n",
    "#### Before Starting Prompt Engineering\n",
    "\n",
    "Before starting prompt engineering, it is highly recommended to have following elements in place, so you can iteratively develop the most optimal prompt for your use case:\n",
    "\n",
    "1. **Define your use case**: Define your use case you want to achieve on 4 dimensions\n",
    "    1. What is the Task - Define the task you want to achieve from the model\n",
    "    2. Whats the Role - Define the role model should act like to accomplish that task\n",
    "    3. Whats the Response Style - Define the response structure or style that should be followed based on the consumer of the output. \n",
    "    4. What set of Instructions to be followed:  Define the  set of instructions that model should follow to respond as per the success criteria\n",
    "2. **Success Criteria**: Clearly define the success criteria or evaluation criteria. This can be in the form of a list of bullet points or as specific as some evaluation metrics (Eg: Length checks, BLEU Score, Rouge, Format, Factuality, Faithfulness). The success criteria should clearly reflect the definition of \"good\" that will determine the success of the use case.\n",
    "3. **Draft Prompt**: Finally, a draft prompt is necessary to initiate the iterative process of prompt engineering.\n",
    "\n"
   ]
  },
  {
   "cell_type": "code",
   "execution_count": 1,
   "id": "5aa6fe8d-6d20-44e9-b8a4-80d0ad408c92",
   "metadata": {},
   "outputs": [],
   "source": [
    "%store -r"
   ]
  },
  {
   "cell_type": "code",
   "execution_count": 2,
   "id": "3fd086a4-8506-4db1-b52c-4e953cbf7d95",
   "metadata": {},
   "outputs": [],
   "source": [
    "from IPython.display import display, Markdown, Latex\n",
    "import base64\n",
    "import boto3\n",
    "import json\n",
    "\n",
    "client = boto3.client(\"bedrock-runtime\", region_name=\"us-east-1\")\n",
    "\n",
    "def call_nova(model, \n",
    "              messages, \n",
    "              system_message='',\n",
    "              stream='off',\n",
    "              max_tokens=512, \n",
    "              temp=0.7, \n",
    "              top_p=0.99, \n",
    "              top_k=20,\n",
    "              tools=None,\n",
    "              stop_sequences=[],\n",
    "             verbose=False):\n",
    "    system_list = [{\"text\": system_message}]\n",
    "    inf_params = {\"max_new_tokens\": max_tokens, \"top_p\": top_p, \"top_k\": top_k, \"temperature\": temp, \"stopSequences\":stop_sequences}\n",
    "    request_body = {\"messages\": messages, \n",
    "                    \"system\": system_list, \n",
    "                    \"inferenceConfig\": inf_params\n",
    "                   }\n",
    "    if tools is not None:\n",
    "        tool_config=[]\n",
    "        for tool in tools:\n",
    "            tool_config.append({\"toolSpec\": tool})\n",
    "        request_body['toolConfig'] = {\"tools\":tool_config}\n",
    "    if verbose:\n",
    "        print(\"Request Body\", request_body)\n",
    "    if stream=='off':\n",
    "        response = client.invoke_model(modelId=model, body=json.dumps(request_body))\n",
    "        model_response = json.loads(response[\"body\"].read())\n",
    "        return model_response, model_response[\"output\"][\"message\"][\"content\"][0]['text']\n",
    "    else:\n",
    "        response = client.invoke_model_with_response_stream(modelId=model, body=json.dumps(request_body))\n",
    "        return response[\"body\"]\n",
    "\n",
    "def get_base64_encoded_value(media_path):\n",
    "    with open(media_path, \"rb\") as media_file:\n",
    "        binary_data = media_file.read()\n",
    "        base_64_encoded_data = base64.b64encode(binary_data)\n",
    "        base64_string = base_64_encoded_data.decode('utf-8')\n",
    "        return base64_string\n",
    "\n",
    "def print_output(content_text):\n",
    "    display(Markdown(content_text))\n",
    "\n",
    "def validate_json(json_string):\n",
    "    try:\n",
    "        # Attempt to parse the JSON string\n",
    "        parsed_json = json.loads(json_string)\n",
    "        \n",
    "        # If successful, return the parsed JSON\n",
    "        print(\"Valid JSON\")\n",
    "        return parsed_json\n",
    "    \n",
    "    except json.JSONDecodeError as e:\n",
    "        # If parsing fails, print an error message\n",
    "        print(f\"Invalid JSON: {e}\")\n",
    "        \n",
    "        # Optionally, you can print the location of the error\n",
    "        print(f\"Error at line {e.lineno}, column {e.colno}\")\n",
    "        \n",
    "        # Return None to indicate failure\n",
    "        return None"
   ]
  },
  {
   "cell_type": "markdown",
   "id": "6f739e16-4e82-48c0-9873-309ad6ca8fd5",
   "metadata": {},
   "source": [
    "### Structured Outputs"
   ]
  },
  {
   "cell_type": "markdown",
   "id": "1f4d82fe-4638-48fb-91a3-71f74b7e507b",
   "metadata": {},
   "source": [
    "Sometimes it is essential to make sure that the model only responds in a specific output schema that works best for the downstream use cases (for example, automated workflows where inputs and outputs must always be in a specific format). Amazon Nova models can be instructed to generate responses in a structured way. For example, if the downstream parser expects certain naming of keys in the JSON object, specifying them in an output schema field in your query yields the model to respect that schema. If the need is to be able to parse the schema directly without any preamble, the model can be instructed to output only JSON by saying “Please generate only the JSON output. DO NOT provide any preamble.” at the end of your query. \n",
    "\n",
    "#### Using Prefill to Help the Model Get Started\n",
    "\n",
    "An alternate technique to achieve this efficiently is to nudge the model response via prefilling the assistant content. This technique enables the user to direct the model's actions (putting words in the model's mouth), bypass preambles, and enforce specific output formats such as JSON or XML. For example, by prefilling assistant content with “{” or ```json, you can guide model to skip generating any preamble text and start generating JSON object right away. \n",
    "\n",
    "\n",
    "➡️ If the user is explicitly looking for extracting JSON, one common observed pattern is to prefill it with ``json and add a stop sequence on ```, this ensures that the model outputs a JSON object that can be programmatically parsed.\n"
   ]
  },
  {
   "cell_type": "code",
   "execution_count": 3,
   "id": "ce5e5cde-4344-45a0-8a6f-00ed867088d5",
   "metadata": {},
   "outputs": [],
   "source": [
    "unoptimized_prompt = \"\"\"Provide details about the best selling full-frame cameras in past three years.\n",
    "Answer in JSON format with keys like name, brand, price and a summary.\n",
    "\"\"\"\n",
    "\n",
    "messages = [\n",
    "        {\"role\": \"user\", \"content\": [{\"text\": unoptimized_prompt}]},\n",
    "    ]"
   ]
  },
  {
   "cell_type": "code",
   "execution_count": 4,
   "id": "febb0eb2-a58f-41c9-906d-c0a715df4730",
   "metadata": {},
   "outputs": [
    {
     "name": "stdout",
     "output_type": "stream",
     "text": [
      "\n",
      "[Response Content Text]\n"
     ]
    },
    {
     "data": {
      "text/markdown": [
       "--------"
      ],
      "text/plain": [
       "<IPython.core.display.Markdown object>"
      ]
     },
     "metadata": {},
     "output_type": "display_data"
    },
    {
     "data": {
      "text/markdown": [
       "{\n",
       "    \"rows\": [\n",
       "        {\n",
       "            \"Name\": \"Sony A7 IV\",\n",
       "            \"Brand\": \"Sony\",\n",
       "            \"Price\": \"$2,500\",\n",
       "            \"Summary\": \"The Sony A7 IV is a full-frame mirrorless camera that has been very popular in the past three years. It features a 33-megapixel back-illuminated Exmor R CMOS sensor, 10 fps continuous shooting speed, and 4K video recording. It also has an advanced autofocus system with 759 phase-detection points, making it great for both stills and video.\"\n",
       "        },\n",
       "        {\n",
       "            \"Name\": \"Canon EOS R5\",\n",
       "            \"Brand\": \"Canon\",\n",
       "            \"Price\": \"$3,900\",\n",
       "            \"Summary\": \"The Canon EOS R5 is another popular full-frame mirrorless camera that has been very well-received in the past three years. It features a 45-megapixel full-frame CMOS sensor, 8K video recording, and 12 fps continuous shooting speed with the electronic shutter. It also has an advanced autofocus system with 1053 dual-pixel CMOS AF II points, making it great for both stills and video.\"\n",
       "        },\n",
       "        {\n",
       "            \"Name\": \"Nikon Z7 II\",\n",
       "            \"Brand\": \"Nikon\",\n",
       "            \"Price\": \"$3,000\",\n",
       "            \"Summary\": \"The Nikon Z7 II is a full-frame mirrorless camera that has been very popular in the past three years. It features a 45.7-megapixel back-illuminated CMOS sensor, 10 fps continuous shooting speed, and 4K video recording. It also has an advanced autofocus system with 493 points, making it great for both stills and video.\"\n",
       "        }\n",
       "    ]\n",
       "}"
      ],
      "text/plain": [
       "<IPython.core.display.Markdown object>"
      ]
     },
     "metadata": {},
     "output_type": "display_data"
    },
    {
     "data": {
      "text/markdown": [
       "--------"
      ],
      "text/plain": [
       "<IPython.core.display.Markdown object>"
      ]
     },
     "metadata": {},
     "output_type": "display_data"
    }
   ],
   "source": [
    "model_response, content_text = call_nova(LITE_MODEL_ID, messages)\n",
    "print(\"\\n[Response Content Text]\")\n",
    "print_output(\"--------\")\n",
    "print_output(content_text)\n",
    "print_output(\"--------\")"
   ]
  },
  {
   "cell_type": "markdown",
   "id": "52831b03-b5ac-40ae-aa89-de35df231f61",
   "metadata": {},
   "source": [
    "### Lets add more schema defination with the right data types and use Prefill"
   ]
  },
  {
   "cell_type": "code",
   "execution_count": 5,
   "id": "f00228b3-2a85-4eea-a5c0-8643bc1b68a9",
   "metadata": {},
   "outputs": [
    {
     "name": "stdout",
     "output_type": "stream",
     "text": [
      "\n",
      "[Response Content Text]\n",
      "--------\n",
      "[\n",
      "    {\n",
      "        \"name\": \"Sony Alpha a7 IV\",\n",
      "        \"brand\": \"Sony\",\n",
      "        \"price\": 2500,\n",
      "        \"summary\": \"The Sony Alpha a7 IV is a full-frame mirrorless camera that features a 33-megapixel sensor, 10fps shooting, and 759 phase-detection autofocus points.\"\n",
      "    },\n",
      "    {\n",
      "        \"name\": \"Nikon Z 7II\",\n",
      "        \"brand\": \"Nikon\",\n",
      "        \"price\": 2999,\n",
      "        \"summary\": \"The Nikon Z 7II is a full-frame mirrorless camera that offers a 45.7-megapixel sensor, 4K UHD video recording, and dual Expeed 6 image processors.\"\n",
      "    },\n",
      "    {\n",
      "        \"name\": \"Canon EOS R6\",\n",
      "        \"brand\": \"Canon\",\n",
      "        \"price\": 2499,\n",
      "        \"summary\": \"The Canon EOS R6 is a full-frame mirrorless camera that boasts a 20.1-megapixel sensor, 12fps shooting, and advanced autofocus capabilities.\"\n",
      "    },\n",
      "    {\n",
      "        \"name\": \"Fujifilm GFX 100S\",\n",
      "        \"brand\": \"Fujifilm\",\n",
      "        \"price\": 10000,\n",
      "        \"summary\": \"The Fujifilm GFX 100S is a medium-format mirrorless camera featuring a 102-megapixel sensor, 4K UHD video recording, and a tiltable LCD screen.\"\n",
      "    },\n",
      "    {\n",
      "        \"name\": \"Panasonic Lumix DC-S1R\",\n",
      "        \"brand\": \"Panasonic\",\n",
      "        \"price\": 4500,\n",
      "        \"summary\": \"The Panasonic Lumix DC-S1R is a full-frame mirrorless camera equipped with a 47.3-megapixel sensor, 6.5K video capabilities, and dual ND filters.\"\n",
      "    }\n",
      "]\n",
      "--------\n",
      "Testing valid JSON:\n",
      "Valid JSON\n",
      "[{'name': 'Sony Alpha a7 IV', 'brand': 'Sony', 'price': 2500, 'summary': 'The Sony Alpha a7 IV is a full-frame mirrorless camera that features a 33-megapixel sensor, 10fps shooting, and 759 phase-detection autofocus points.'}, {'name': 'Nikon Z 7II', 'brand': 'Nikon', 'price': 2999, 'summary': 'The Nikon Z 7II is a full-frame mirrorless camera that offers a 45.7-megapixel sensor, 4K UHD video recording, and dual Expeed 6 image processors.'}, {'name': 'Canon EOS R6', 'brand': 'Canon', 'price': 2499, 'summary': 'The Canon EOS R6 is a full-frame mirrorless camera that boasts a 20.1-megapixel sensor, 12fps shooting, and advanced autofocus capabilities.'}, {'name': 'Fujifilm GFX 100S', 'brand': 'Fujifilm', 'price': 10000, 'summary': 'The Fujifilm GFX 100S is a medium-format mirrorless camera featuring a 102-megapixel sensor, 4K UHD video recording, and a tiltable LCD screen.'}, {'name': 'Panasonic Lumix DC-S1R', 'brand': 'Panasonic', 'price': 4500, 'summary': 'The Panasonic Lumix DC-S1R is a full-frame mirrorless camera equipped with a 47.3-megapixel sensor, 6.5K video capabilities, and dual ND filters.'}]\n"
     ]
    }
   ],
   "source": [
    "optimized_prompt = \"\"\"Provide 5 examples of the best selling full-frame cameras in past three years.\n",
    "Follow the Output Schema as described below:\n",
    "Output Schema:\n",
    "{\n",
    "\"name\" : <string, the name of product>,\n",
    "\"brand\" : <string, the name of product>,\n",
    "\"price\" : <integer price>,\n",
    "\"summary\": <string, the product summary>\n",
    "}\n",
    "Only Respond in Valid JSON, without Markdown\n",
    "\"\"\"\n",
    "messages = [\n",
    "        {\"role\": \"user\", \"content\": [{\"text\": optimized_prompt}]},\n",
    "        {\"role\": \"assistant\", \"content\": [{\"text\": \"```json\"}]},\n",
    "    ]\n",
    "\n",
    "model_response, content_text = call_nova(LITE_MODEL_ID,\n",
    "                                         messages,\n",
    "                                         stop_sequences=[\"]\"])\n",
    "print(\"\\n[Response Content Text]\")\n",
    "print(\"--------\")\n",
    "print(content_text)\n",
    "print(\"--------\")\n",
    "\n",
    "print(\"Testing valid JSON:\")\n",
    "parsed_json = validate_json(content_text)\n",
    "if parsed_json:\n",
    "    print(parsed_json)\n"
   ]
  },
  {
   "cell_type": "markdown",
   "id": "4104b5c3-e92f-4891-b032-43dec63b7261",
   "metadata": {},
   "source": [
    "### Few Shot Example\n",
    "\n",
    "Including a few examples of the task within your prompt can help to guide Amazon Nova models to generate responses more aligned with your desired outcome. This technique of providing examples to the model to achieve the desired outcome is called few shot prompting. By including the examples using a structured template, you can enable the models to follow instructions, reduce ambiguity, and enhance the accuracy and quality more reliably. This method also helps in clarifying complex instructions or tasks, making it easier for the models to understand and interpret what is being asked. \n",
    "\n",
    "**How adding examples to the prompt help**:\n",
    "Adding examples can help the model with producing \n",
    "\n",
    "* Consistent responses which are uniform to the style of the examples \n",
    "* Performant responses due to reducing the chance of misinterpreting instructions, and minimizing hallucinations\n",
    "\n",
    "\n",
    "**Characteristics of Good Shots in prompt**:\n",
    "The amount by which model performance improves using few shot prompting will depend on the quality and diversity of your chosen examples. \n",
    "\n",
    "* **Select diverse examples**: The examples chosen should represent the distribution of your expected input/output in terms of diversity (ranging from common use cases to edge cases) to adequately cover relevant use cases. It is important to avoid any biases in your examples, as bias in the inputs can cause outputs to be biased as well.\n",
    "* **Match complexity levels**: The complexity of the examples provided should align with the target task or scenario. It is important to make sure the complexity grade is mapped between expected the input and the chosen example in the prompt.\n",
    "* **Ensure relevance**: The examples selected should be directly relevant to the problem or objective at hand. This ensures consistency and uniformity in responses. \n",
    "\n",
    "➡️ Tip: If the above suggestions not work, it is also recommended to build a RAG-based system that augments the prompt with dynamic selection of shots based on the similarities between a user-input query and an available pool of shots.\n"
   ]
  },
  {
   "cell_type": "code",
   "execution_count": 6,
   "id": "9ec8353e-9dbb-416d-bc8e-0d1fb659e2ba",
   "metadata": {},
   "outputs": [
    {
     "name": "stdout",
     "output_type": "stream",
     "text": [
      "\n",
      "[Response Content Text]\n",
      "--------\n",
      "To classify the given text, I will analyze the sentiment expressed in the text.\n",
      "\n",
      "Text: \"The movie makes users think about their lives with the teenagers while still making audience unclear on the storyline.\"\n",
      "\n",
      "Step 1: Identify positive or negative words\n",
      "In this text, there are no explicitly positive or negative words.\n",
      "\n",
      "Step 2: Analyze the overall sentiment\n",
      "The text states that the movie makes users think about their lives with the teenagers, which could be considered a positive aspect. However, it also mentions that the audience is unclear on the storyline, which is a negative aspect.\n",
      "\n",
      "Step 3: Determine the sentiment class\n",
      "Since the text contains both positive and negative aspects and doesn't lean strongly in either direction, it can be considered as Neutral.\n",
      "\n",
      "Output: Neutral\n",
      "--------\n"
     ]
    }
   ],
   "source": [
    "no_shot = \"\"\"Your task is to Classify the following texts into the appropriate snetiment classes  The categories to classify are: \n",
    "\n",
    "Sentiment Classes:\n",
    "- Positive\n",
    "- Negative\n",
    "-Neutral\n",
    "\n",
    "Query:\n",
    "Input: The movie makes users think about their lives with the teenagers while still making audience unclear on the storyline. \n",
    "\n",
    "\"\"\"\n",
    "\n",
    "messages = [\n",
    "        {\"role\": \"user\", \"content\": [{\"text\": no_shot}]}\n",
    "]\n",
    "\n",
    "model_response, content_text = call_nova(LITE_MODEL_ID,\n",
    "                                         messages)\n",
    "print(\"\\n[Response Content Text]\")\n",
    "print(\"--------\")\n",
    "print(content_text)\n",
    "print(\"--------\")"
   ]
  },
  {
   "cell_type": "markdown",
   "id": "38c6d0cc-431f-4c12-b23e-46d40aa3846e",
   "metadata": {},
   "source": [
    "As you can see there is too much explaination not even asked for, this makes parsing a bit tricky \n",
    "\n",
    "Now lets try adding four shots that conveys the meaning and also forces a more stylistic edit on the response \n",
    "\n",
    "### With adding few shot prompting"
   ]
  },
  {
   "cell_type": "code",
   "execution_count": 7,
   "id": "8bf5cc71-3b2e-4972-b31b-6b8b1a653fae",
   "metadata": {},
   "outputs": [
    {
     "name": "stdout",
     "output_type": "stream",
     "text": [
      "\n",
      "[Response Content Text]\n",
      "--------\n",
      "Output: Neutral\n",
      "\n",
      "Explanation: The text mentions that the movie \"makes users think about their lives\" which is a positive aspect, but it also says the \"audience unclear on the storyline\" which is a negative aspect. Since the text contains both positive and negative elements, it is classified as neutral.\n",
      "--------\n"
     ]
    }
   ],
   "source": [
    "four_shot = \"\"\"Your task is to Classify the following texts into the appropriate sentiment classes  The categories to classify are: \n",
    "\n",
    "Sentiment Classes:\n",
    "- Positive\n",
    "- Negative\n",
    "- Neutral\n",
    "Please refer to some examples mentioned below\n",
    "## Examples:\n",
    "### Example 1 \n",
    "Input: The movie was crazy good! I loved it\n",
    "Output: Positive\n",
    "Explaination: The text said \"good\" and \"loved\" so its positive\n",
    "\n",
    "### Example 2 \n",
    "Input: The movie was scary and I got scared!\n",
    "Output: Neutral\n",
    "Explaination: The text said \"scary\" and \"scared\" which can be both positive and negative depending on people who like scary movies or one who hate\n",
    "\n",
    "\n",
    "### Example 3\n",
    "Input: The movie was pathetic not worth the time or money!\n",
    "Output: Negative\n",
    "Explaination: The text said \"pathetic\" and \"not worth\" which is negative sentiment \n",
    "\n",
    "### Example 4\n",
    "Input: The movie had some plots which were interesting and great while there were some gaps which needed more drama!\n",
    "Output: Neutral\n",
    "Explaination: The text said \"interesting and great\" and \"some gaps\" making it a mixed opinion hence neutral\n",
    "\n",
    "Query:\n",
    "Input: The movie makes users think about their lives with the teenagers while still making audience unclear on the storyline. \n",
    "\"\"\"\n",
    "\n",
    "\n",
    "messages = [\n",
    "        {\"role\": \"user\", \"content\": [{\"text\": four_shot}]}\n",
    "]\n",
    "\n",
    "model_response, content_text = call_nova(LITE_MODEL_ID,\n",
    "                                         messages)\n",
    "print(\"\\n[Response Content Text]\")\n",
    "print(\"--------\")\n",
    "print(content_text)\n",
    "print(\"--------\")"
   ]
  },
  {
   "cell_type": "code",
   "execution_count": 8,
   "id": "c8d273e9-af4e-4875-916e-b349044ec6f9",
   "metadata": {},
   "outputs": [
    {
     "name": "stdout",
     "output_type": "stream",
     "text": [
      "\n",
      "[Response Content Text]\n"
     ]
    },
    {
     "data": {
      "text/markdown": [
       "--------"
      ],
      "text/plain": [
       "<IPython.core.display.Markdown object>"
      ]
     },
     "metadata": {},
     "output_type": "display_data"
    },
    {
     "data": {
      "text/markdown": [
       "# Project Plan for New App Feature Launch\n",
       "\n",
       "## 1. Project Overview\n",
       "- **Project Name**: New App Feature Development\n",
       "- **Project Start Date**: [Insert Start Date]\n",
       "- **Project End Date**: [Insert End Date]\n",
       "- **Project Manager**: [Your Name]\n",
       "- **Team Members**: [List of Team Members]\n",
       "- **Objective**: To develop and launch a new app feature by the end of the project period, ensuring it meets quality standards and user requirements.\n",
       "\n",
       "## 2. Project Scope\n",
       "- **Feature Description**: A brief description of the new feature.\n",
       "- **In-Scope**: \n",
       "  - Frontend design and implementation\n",
       "  - Backend development\n",
       "  - Integration with existing app\n",
       "  - Basic testing and debugging\n",
       "- **Out-of-Scope**: \n",
       "  - Extensive marketing campaigns\n",
       "  - User onboarding materials (beyond basic documentation)\n",
       "  - Post-launch support unless critical bugs are found\n",
       "\n",
       "## 3. Milestones\n",
       "- **Milestone 1: Project Initiation**\n",
       "  - Date: [Insert Date]\n",
       "  - Deliverables: Project Plan, Requirements Documentation, Initial Team Meeting\n",
       "\n",
       "- **Milestone 2: Design Phase Completion**\n",
       "  - Date: [Insert Date]\n",
       "  - Deliverables: Wireframes, Design Mockups, User Flow Diagrams\n",
       "\n",
       "- **Milestone 3: Development Phase Completion**\n",
       "  - Date: [Insert Date]\n",
       "  - Deliverables: Code Base, Integrated Feature, Initial Testing\n",
       "\n",
       "- **Milestone 4: Testing Phase Completion**\n",
       "  - Date: [Insert Date]\n",
       "  - Deliverables: Test Reports, Bug Fixes, User Acceptance Testing (UAT) Completion\n",
       "\n",
       "- **Milestone 5: Launch Preparation**\n",
       "  - Date: [Insert Date]\n",
       "  - Deliverables: Final Deployment Package, Launch Checklist\n",
       "\n",
       "- **Milestone 6: Post-Launch Review**\n",
       "  - Date: [Insert Date]\n",
       "  - Deliverables: Post-Launch Report, Lessons Learned Documentation\n",
       "\n",
       "## 4. Team Roles and Responsibilities\n",
       "- **Project Manager**: Oversees the project, ensures deadlines are met, handles stakeholder communication.\n",
       "- **Product Owner**: Defines feature requirements, prioritizes backlog, liaises with stakeholders.\n",
       "- **Frontend Developer**: Designs and implements the frontend of the feature.\n",
       "- **Backend Developer**: Develops the backend logic and database interactions.\n",
       "- **QA Engineer**: Conducts testing, creates test cases, reports bugs.\n",
       "- **UI/UX Designer**: Creates wireframes and design mockups.\n",
       "\n",
       "## 5. Timeline and Schedule\n",
       "| Phase | Start Date | End Date | Key Activities |\n",
       "|-------|------------|----------|----------------|\n",
       "| Initiation | [Start Date] | [End Date] | Project setup, initial meetings |\n",
       "| Design | [Start Date] | [End Date] | Wireframing, design mockups, user flow |\n",
       "| Development | [Start Date] | [End Date] | Coding, integration, initial testing |\n",
       "| Testing | [Start Date] | [End Date] | QA testing, bug fixing, UAT |\n",
       "| Launch Preparation | [Start Date] | [End Date] | Final checks, deployment preparation |\n",
       "| Post-Launch Review | [Start Date] | [End Date] | Performance review, feedback collection |\n",
       "\n",
       "## 6. Risk Management\n",
       "- **Identified Risks**:\n",
       "  - Delays in design approvals\n",
       "  - Integration issues with existing systems\n",
       "  - Unforeseen bugs in testing\n",
       "- **Mitigation Strategies**:\n",
       "  - Regular check-ins with stakeholders for timely approvals.\n",
       "  - Early integration with existing systems to identify issues early.\n",
       "  - Comprehensive testing plan to catch bugs early.\n",
       "\n",
       "## 7. Communication Plan\n",
       "- **Stakeholder Meetings**: Weekly meetings with key stakeholders to provide updates.\n",
       "- **Team Meetings**: Daily stand-up meetings to track progress and address issues.\n",
       "- **Reporting**: Bi-weekly progress reports to the project sponsor.\n",
       "- **Tools**: Use of project management tools (e.g., Jira, Trello) for task tracking and updates.\n",
       "\n",
       "## 8. Quality Assurance\n",
       "- **Testing Strategy**: \n",
       "  - Unit Testing: Developers to write and execute unit tests.\n",
       "  - Integration Testing: Ensure components work together.\n",
       "  - User Acceptance Testing (UAT): Conducted with a select group of end-users.\n",
       "- **Bug Tracking**: Use Jira or similar tools to log and track bugs.\n",
       "\n",
       "## 9. Budget and Resources\n",
       "- **Budget**: Outline the budget including development costs, testing, and tools.\n",
       "- **Resources**: List resources needed including software licenses, hardware, and third-party services.\n",
       "\n",
       "## 10. Approval and Sign-off\n",
       "- **Project Sponsor**: [Name of Sponsor]\n",
       "- **Approval Process**: Approval required from the project sponsor at each milestone.\n",
       "\n",
       "---\n",
       "\n",
       "By adhering to this project plan, the team should be able to streamline the development process and ensure a timely and successful launch of the new app feature."
      ],
      "text/plain": [
       "<IPython.core.display.Markdown object>"
      ]
     },
     "metadata": {},
     "output_type": "display_data"
    },
    {
     "data": {
      "text/markdown": [
       "--------"
      ],
      "text/plain": [
       "<IPython.core.display.Markdown object>"
      ]
     },
     "metadata": {},
     "output_type": "display_data"
    }
   ],
   "source": [
    "no_cot = \"\"\"You are a project manager for a small software development team tasked with launching a new app feature. \n",
    "You want to streamline the development process and ensure timely delivery. Draft a project plan\n",
    "\"\"\"\n",
    "messages = [\n",
    "        {\"role\": \"user\", \"content\": [{\"text\": no_cot}]}\n",
    "]\n",
    "\n",
    "model_response, content_text = call_nova(LITE_MODEL_ID,\n",
    "                                         messages, max_tokens=1024)\n",
    "print(\"\\n[Response Content Text]\")\n",
    "print_output(\"--------\")\n",
    "print_output(content_text)\n",
    "print_output(\"--------\")\n"
   ]
  },
  {
   "cell_type": "markdown",
   "id": "3801f574-4fd9-4a7d-a4fd-284681af0dbd",
   "metadata": {},
   "source": [
    "The above is great but its too long, and you see it keeps going on more. As mentioned this is for Executives, do we want to keep it this long?\n",
    "\n",
    "\n",
    "Lets now give some guiding questions for model to come up with a draft but first do the thinking\n",
    "\n",
    "\n",
    "### With Guided Chain of Thought"
   ]
  },
  {
   "cell_type": "code",
   "execution_count": 9,
   "id": "b9408b01-9d99-4f9a-984e-c67580ad321d",
   "metadata": {},
   "outputs": [
    {
     "name": "stdout",
     "output_type": "stream",
     "text": [
      "\n",
      "[Response Content Text]\n"
     ]
    },
    {
     "data": {
      "text/markdown": [
       "--------"
      ],
      "text/plain": [
       "<IPython.core.display.Markdown object>"
      ]
     },
     "metadata": {},
     "output_type": "display_data"
    },
    {
     "name": "stdout",
     "output_type": "stream",
     "text": [
      "<thinking>\n",
      "Considering the audience for this project plan is the executive team, it's important to structure the document to be concise, clear, and focused on strategic value, high-level objectives, and potential challenges. The plan should highlight the purpose of the new app feature, the challenges it aims to solve, the key tasks, and milestones, as well as the approach to monitoring progress and ensuring optimization. Starting with a clear statement of purpose and challenges addresses the \"why\" behind the project, which is crucial for executive buy-in and understanding. Outlining tasks and milestones provides a roadmap for the project's execution, while the approach to monitoring and optimizing ensures the project remains on track and adapts to any unforeseen challenges.\n",
      "\n",
      "The first step is to identify the challenges we aim to solve with this app feature. This could include enhancing user engagement, improving the app's functionality, or introducing new features to stay competitive in the market. Each challenge should be directly tied to the strategic goals of the company.\n",
      "\n",
      "Next, we'll detail the tasks needed to be completed, breaking down the development process into manageable phases or activities. This should include planning, design, development, testing, and deployment phases, each with specific tasks and responsibilities.\n",
      "\n",
      "Creating milestones is critical for tracking progress and ensuring the project stays on schedule. These milestones should be significant events or deliverables that mark progress through the project, such as the completion of the design phase, the first beta release, and the final deployment.\n",
      "\n",
      "Finally, we need to outline the approach to monitoring progress and optimizing the process. This includes regular check-ins, performance metrics, and a feedback loop to adjust the project plan as needed.\n",
      "</thinking>\n",
      "<project_plan>\n",
      "**Project Plan for New App Feature Launch**\n",
      "\n",
      "**Objective:**\n",
      "To introduce a new feature in our app aimed at enhancing user engagement and expanding our market reach. This feature will address [specific challenges], such as [challenge 1], [challenge 2], and [challenge 3], aligning with our strategic goal of [strategic goal].\n",
      "\n",
      "**Challenges to Solve:**\n",
      "- [Challenge 1]: Enhance user retention by [specific percentage] through intuitive navigation and personalized content.\n",
      "- [Challenge 2]: Improve app performance metrics, specifically reducing load time by [specific percentage].\n",
      "- [Challenge 3]: Introduce a feature that differentiates our app in the market, such as [feature description].\n",
      "\n",
      "**Tasks to be Completed:**\n",
      "1. **Planning Phase:**\n",
      "   - Define feature requirements and objectives.\n",
      "   - Assemble the development team and assign roles.\n",
      "2. **Design Phase:**\n",
      "   - Develop wireframes and user interface designs.\n",
      "   - Conduct user testing sessions to refine the design.\n",
      "3. **Development Phase:**\n",
      "   - Implement the feature based on the design specifications.\n",
      "   - Conduct unit testing and integration with existing app functionalities.\n",
      "4. **Testing Phase:**\n",
      "   - Perform comprehensive testing, including beta testing with selected users.\n",
      "   - Gather feedback and make necessary adjustments.\n",
      "5. **Deployment Phase:**\n",
      "   - Launch the feature to all users.\n",
      "   - Monitor initial performance and user engagement.\n",
      "\n",
      "**Milestones:**\n",
      "- Completion of the planning phase.\n",
      "- Finalization of the design phase.\n",
      "- Successful beta testing.\n",
      "- Launch of the new feature.\n",
      "\n",
      "**Monitoring Progress and Optimization:**\n",
      "- **Regular Check-ins:** Weekly meetings to review progress and address any issues.\n",
      "- **Performance Metrics:** Track user engagement, app performance, and feature usage.\n",
      "- **Feedback Loop:** Implement a system for collecting user feedback and iterate on the feature based on this feedback.\n",
      "\n",
      "By following this structured approach, we aim to ensure a timely and successful launch of the new app feature, contributing to our overall strategic objectives.\n",
      "</project_plan>\n"
     ]
    },
    {
     "data": {
      "text/markdown": [
       "--------"
      ],
      "text/plain": [
       "<IPython.core.display.Markdown object>"
      ]
     },
     "metadata": {},
     "output_type": "display_data"
    }
   ],
   "source": [
    "guided_cot = \"\"\"You are a project manager for a small software development team tasked with launching a new app feature. \n",
    "You want to streamline the development process and ensure timely delivery.\t\n",
    "Your task is to draft a project plan. \n",
    "\n",
    "But first do some thinking on how you want to structure and go through below questions before starting the draft\n",
    "Please follow these steps:\n",
    "1. Think about who the audience is (this is for CEOs, CTOs and other executives)\n",
    "2. Think about what to start with\n",
    "1. Think about what Challenges you want to solve with this app\n",
    "2. Think about the Tasks that will be needed to be completed\n",
    "3. Create Milestones\n",
    "4. Monitor Progress and Optimize\n",
    "Explain all your thinking in <thinking></thinking> XML Tags and then write the final copy of project plan for executives in <project_plan></project_plan> XML Tag.\n",
    "\n",
    "Output Schema:\n",
    "<thinking>\n",
    "( thoughts to above questions)\n",
    "</thinking>\n",
    "<project_plan>\n",
    "( project plan)\n",
    "</project_plan>\n",
    "\"\"\"\n",
    "messages = [\n",
    "        {\"role\": \"user\", \"content\": [{\"text\": guided_cot}]}\n",
    "]\n",
    "\n",
    "model_response, content_text = call_nova(LITE_MODEL_ID,\n",
    "                                         messages, max_tokens=2048)\n",
    "print(\"\\n[Response Content Text]\")\n",
    "print_output(\"--------\")\n",
    "print(content_text)\n",
    "print_output(\"--------\")"
   ]
  },
  {
   "cell_type": "markdown",
   "id": "36e9d83d-9a9e-49f2-a1dd-36f7ae0221fb",
   "metadata": {},
   "source": [
    "### Next Step\n",
    "\n",
    "Lets move to creating a RAG system using  Bedrock Knowledge Bases"
   ]
  },
  {
   "cell_type": "code",
   "execution_count": null,
   "id": "41b195a5-3ffb-4bc4-aabb-794f28d65034",
   "metadata": {},
   "outputs": [],
   "source": []
  },
  {
   "cell_type": "code",
   "execution_count": null,
   "id": "3e9044b4-83e1-46ed-a8f6-afc135c0ac92",
   "metadata": {},
   "outputs": [],
   "source": []
  }
 ],
 "metadata": {
  "kernelspec": {
   "display_name": "Python 3 (ipykernel)",
   "language": "python",
   "name": "python3"
  },
  "language_info": {
   "codemirror_mode": {
    "name": "ipython",
    "version": 3
   },
   "file_extension": ".py",
   "mimetype": "text/x-python",
   "name": "python",
   "nbconvert_exporter": "python",
   "pygments_lexer": "ipython3",
   "version": "3.11.11"
  }
 },
 "nbformat": 4,
 "nbformat_minor": 5
}
