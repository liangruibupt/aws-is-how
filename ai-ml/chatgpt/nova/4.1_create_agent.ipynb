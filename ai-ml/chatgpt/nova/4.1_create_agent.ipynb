{
 "cells": [
  {
   "cell_type": "markdown",
   "metadata": {
    "pycharm": {
     "name": "#%% md\n"
    }
   },
   "source": [
    "# Agents for Amazon Bedrock - create agent\n",
    "\n",
    "This notebook provides sample code for building an Agent for Amazon Bedrock that has an Action Group attached to it.\n",
    "\n",
    "### Use Case\n",
    "Now that we have a data soruce and RAG setup, we also need some useful actions or tools that can perform basic booking in this app. For this we will create a Hotel Booking assistant that allows customers to create, delete or get reservation information. The architecture looks as following:\n",
    "\n",
    "![Agent Architecture](images/MM-Agents.gif)\n",
    "\n",
    "### Notebook Walk-through\n",
    "\n",
    "In this notebook we will:\n",
    "- Choose our Agent's underline foundation model\n",
    "- Create a dynamoDB table to store the reservation details\n",
    "- Create a lambda function that handles the restaurant bookings\n",
    "- Create an agent\n",
    "- Create an action group and associate it with the agent\n",
    "- Test the agent invocation\n",
    "\n",
    "\n",
    "### Next Steps: \n",
    "In the next lab, we will add a Knowledge Base to our agent and work with Prompt Attributes to provide extra information to an agent invocation call\n"
   ]
  },
  {
   "cell_type": "markdown",
   "metadata": {
    "pycharm": {
     "name": "#%% md\n"
    }
   },
   "source": [
    "### Pre-requisites\n",
    "This notebook requires permissions to:\n",
    "- create and delete Amazon IAM roles\n",
    "- create lambda functions\n",
    "- create dynamoDB tables\n",
    "- access Amazon Bedrock\n",
    "\n",
    "If running on SageMaker Studio, you should add the following managed policies to your role:\n",
    "- IAMFullAccess\n",
    "- AWSLambda_FullAccess\n",
    "- AmazonBedrockFullAccess\n",
    "- AmazonDynamoDBFullAccess\n",
    "\n",
    "<div class=\"alert alert-block alert-info\">\n",
    "<b>Note:</b> Please make sure to enable `Anthropic Haiku 3` and `Amazon Nova Pro`, `Amazon Titan Embedding` model access in Amazon Bedrock Console, as the notebook will use these 3 model for testing the agent once its created.\n",
    "</div>\n"
   ]
  },
  {
   "cell_type": "markdown",
   "metadata": {
    "pycharm": {
     "name": "#%% md\n"
    }
   },
   "source": [
    "## Setup\n",
    "Before running the rest of this notebook, you'll need to run the cells below to ensure necessary libraries are installed"
   ]
  },
  {
   "cell_type": "markdown",
   "metadata": {
    "pycharm": {
     "name": "#%% md\n"
    }
   },
   "source": [
    "Let's now import the necessary libraries and initiate the required boto3 clients"
   ]
  },
  {
   "cell_type": "code",
   "execution_count": 19,
   "metadata": {
    "pycharm": {
     "name": "#%%\n"
    }
   },
   "outputs": [
    {
     "name": "stdout",
     "output_type": "stream",
     "text": [
      "The autoreload extension is already loaded. To reload it, use:\n",
      "  %reload_ext autoreload\n"
     ]
    },
    {
     "data": {
      "text/plain": [
       "<module 'agent' from '/home/sagemaker-user/amazon-nova-samples/multimodal-understanding/workshop/agent.py'>"
      ]
     },
     "execution_count": 19,
     "metadata": {},
     "output_type": "execute_result"
    }
   ],
   "source": [
    "import time\n",
    "import boto3\n",
    "import logging\n",
    "import ipywidgets as widgets\n",
    "import uuid\n",
    "\n",
    "%load_ext autoreload\n",
    "%autoreload 2\n",
    "\n",
    "# from agent import create_agent_role, create_lambda_role\n",
    "# from agent import create_dynamodb, create_lambda, invoke_agent_helper\n",
    "import agent\n",
    "import importlib\n",
    "importlib.reload(agent)\n"
   ]
  },
  {
   "cell_type": "code",
   "execution_count": 12,
   "metadata": {},
   "outputs": [],
   "source": [
    "%store -r"
   ]
  },
  {
   "cell_type": "code",
   "execution_count": 13,
   "metadata": {
    "pycharm": {
     "name": "#%%\n"
    }
   },
   "outputs": [
    {
     "data": {
      "text/plain": [
       "('us-west-2', '710299592439')"
      ]
     },
     "execution_count": 13,
     "metadata": {},
     "output_type": "execute_result"
    }
   ],
   "source": [
    "#Clients\n",
    "region_name = 'us-west-2'\n",
    "s3_client = boto3.client('s3', region_name=region_name)\n",
    "sts_client = boto3.client('sts', region_name=region_name)\n",
    "session = boto3.session.Session(region_name=region_name)\n",
    "bedrock_agent_client = session.client('bedrock-agent', \n",
    "                                            region_name=region_name)\n",
    "bedrock_agent_runtime_client = boto3.client('bedrock-agent-runtime', \n",
    "                                            region_name=region_name)\n",
    "account_id = boto3.client(\"sts\").get_caller_identity()[\"Account\"]\n",
    "\n",
    "logging.basicConfig(format='[%(asctime)s] p%(process)s {%(filename)s:%(lineno)d} %(levelname)s - %(message)s', level=logging.INFO)\n",
    "logger = logging.getLogger(__name__)\n",
    "region_name, account_id"
   ]
  },
  {
   "cell_type": "markdown",
   "metadata": {
    "pycharm": {
     "name": "#%% md\n"
    }
   },
   "source": [
    "### Setting up Agent's information\n",
    "\n",
    "We will now set the variables that define our agent:\n",
    "\n",
    "- **agent_name**: provides the name of the agent to be created, in this case `booking-agent`\n",
    "- **agent_description**: the description of the agent used to display the agents list on the console. This description is **not** part of the agent's prompts\n",
    "- **agent_instruction**: the instructions of what the agent should and should not do. This description is part of the agent's prompt and is used during the agent's invocation\n",
    "- **agent_action_group_name**: the action group name used on the definition of the agent's action, in this case `HotelBookingsActionGroup`.\n",
    "- **agent_action_group_description:**: the description of the action group name used on the UI to list the action groups. This description is **not** used by the agent's prompts"
   ]
  },
  {
   "cell_type": "code",
   "execution_count": 5,
   "metadata": {
    "pycharm": {
     "name": "#%%\n"
    }
   },
   "outputs": [],
   "source": [
    "suffix = f\"{region_name}-{account_id}\"\n",
    "agent_name = 'hotel-booking-agent'\n",
    "agent_bedrock_allow_policy_name = f\"{agent_name}-ba\"\n",
    "agent_role_name = f'AmazonBedrockExecutionRoleForAgents_{agent_name}'\n",
    "\n",
    "agent_description = \"Agent is in charge of hotel bookings\"\n",
    "agent_instruction = \"\"\"\n",
    "You are a ABC Grand Hotel Booking agent, one of the key chain of hotels Hosting Amazon Reinvent 2024 helping clients retrieve information about the hotel,\n",
    "create a new booking or cancel an existing booking\n",
    "\"\"\"\n",
    "\n",
    "agent_action_group_description = \"\"\"\n",
    "Actions for getting Hotel booking information, create a new hotel booking or delete an existing booking\"\"\"\n",
    "\n",
    "agent_action_group_name = \"HotelBookingsActionGroup\""
   ]
  },
  {
   "cell_type": "markdown",
   "metadata": {
    "pycharm": {
     "name": "#%% md\n"
    }
   },
   "source": [
    "### Select Foundation Model\n",
    "Use this dropdown menu to select the underline model of your agent. You can find more information about the supported foundation models [here](https://docs.aws.amazon.com/bedrock/latest/userguide/agents-supported.html)"
   ]
  },
  {
   "cell_type": "code",
   "execution_count": 8,
   "metadata": {
    "pycharm": {
     "name": "#%%\n"
    }
   },
   "outputs": [
    {
     "data": {
      "application/vnd.jupyter.widget-view+json": {
       "model_id": "cfe1da1f4a5a423f866c977642ba9f56",
       "version_major": 2,
       "version_minor": 0
      },
      "text/plain": [
       "Dropdown(description='FM:', index=1, options=(('Amazon Nova Pro', 'us.amazon.nova-pro-v1:0'), ('Amazon Nova Li…"
      ]
     },
     "execution_count": 8,
     "metadata": {},
     "output_type": "execute_result"
    }
   ],
   "source": [
    "cross_region_inference = True\n",
    "\n",
    "if cross_region_inference == True:\n",
    "    agent_foundation_model_selector = widgets.Dropdown(\n",
    "        options=[\n",
    "            ('Amazon Nova Pro', 'us.amazon.nova-pro-v1:0'),\n",
    "            ('Amazon Nova Lite', 'us.amazon.nova-lite-v1:0'),\n",
    "            ('Claude 3 Haiku', 'anthropic.claude-3-haiku-20240307-v1:0')\n",
    "        ],\n",
    "        value='us.amazon.nova-lite-v1:0',\n",
    "        description='FM:',\n",
    "        disabled=False,\n",
    "    )\n",
    "else:\n",
    "    agent_foundation_model_selector = widgets.Dropdown(\n",
    "        options=[\n",
    "            ('Amazon Nova Pro', 'amazon.nova-pro-v1:0'),\n",
    "            ('Amazon Nova Lite', 'amazon.nova-lite-v1:0'),\n",
    "            ('Claude 3 Haiku', 'anthropic.claude-3-haiku-20240307-v1:0')\n",
    "        ],\n",
    "        value='amazon.nova-lite-v1:0',\n",
    "        description='FM:',\n",
    "        disabled=False,\n",
    "    )\n",
    "agent_foundation_model_selector"
   ]
  },
  {
   "cell_type": "markdown",
   "metadata": {
    "pycharm": {
     "name": "#%% md\n"
    }
   },
   "source": [
    "Let's confirm that the model has been selected correctly"
   ]
  },
  {
   "cell_type": "code",
   "execution_count": 33,
   "metadata": {
    "pycharm": {
     "name": "#%%\n"
    }
   },
   "outputs": [
    {
     "data": {
      "text/plain": [
       "'arn:aws:bedrock:us-west-2:710299592439:inference-profile/us.amazon.nova-lite-v1:0'"
      ]
     },
     "execution_count": 33,
     "metadata": {},
     "output_type": "execute_result"
    }
   ],
   "source": [
    "agent_foundation_model = agent_foundation_model_selector.value    \n",
    "agent_foundation_model\n",
    "\n",
    "agent_foundation_model_instance_profile = f'arn:aws:bedrock:{region_name}:{account_id}:inference-profile/{agent_foundation_model}'\n",
    "agent_foundation_model_instance_profile"
   ]
  },
  {
   "cell_type": "markdown",
   "metadata": {
    "pycharm": {
     "name": "#%% md\n"
    }
   },
   "source": [
    "### Creating DynamoDB table\n",
    "\n",
    "Let's now create an [Amazon DynamoDB](https://aws.amazon.com/dynamodb/) table called `hotel_bookings`. This table will store information about the reservations, including a `booking_id`, reservation `date`, the `name` of the person doing the reservation, the `hour` of the reservation and the number of guests as `num_guests`. To do so, we use the `create_dynamodb` function from the `agent.py` file. This function will support the creation of the table and its requirements (IAM roles and permissions)."
   ]
  },
  {
   "cell_type": "code",
   "execution_count": 20,
   "metadata": {
    "pycharm": {
     "name": "#%%\n"
    }
   },
   "outputs": [
    {
     "name": "stdout",
     "output_type": "stream",
     "text": [
      "Creating table hotel_bookings...\n",
      "Table hotel_bookings created successfully!\n"
     ]
    }
   ],
   "source": [
    "table_name = 'hotel_bookings'\n",
    "create_dynamodb(table_name)"
   ]
  },
  {
   "cell_type": "markdown",
   "metadata": {
    "pycharm": {
     "name": "#%% md\n"
    }
   },
   "source": [
    "### Creating Lambda Function\n",
    "\n",
    "Next we will create the [AWS Lambda](https://aws.amazon.com/lambda/) function that executes the actions for our agent. This lambda function will have 3 actions:\n",
    "* ```get_booking_details(booking_id)```: returns the details of a booking based on the booking id\n",
    "* ```create_booking(date, name, hour, num_guests)```: creates a new booking for the restaurant\n",
    "* ```delete_booking(booking_id)```: deletes an existent booking based on the booking id\n",
    "\n",
    "\n",
    "The `lambda_handler` receives the `event` from the agent and the `event` contains information about the `function` to be executed and its `parameters`. \n",
    "\n",
    "A `functionResponse` is returned by the lambda function with the response body having a `TEXT` field.\n",
    "\n",
    "You can find more information on how to set your agent lambda function [here](https://docs.aws.amazon.com/bedrock/latest/userguide/agents-lambda.html).\n",
    "\n",
    "Let's first write the code of the lambda function to the `lambda_function.py` file"
   ]
  },
  {
   "cell_type": "code",
   "execution_count": 21,
   "metadata": {},
   "outputs": [
    {
     "name": "stdout",
     "output_type": "stream",
     "text": [
      "lambda_function.py has been successfully created \n"
     ]
    }
   ],
   "source": [
    "code = f\"\"\"\\\n",
    "import json\n",
    "import uuid\n",
    "import boto3\n",
    "\n",
    "dynamodb = boto3.resource('dynamodb')\n",
    "table = dynamodb.Table('{table_name}')  # Dynamically inject the value of tab\n",
    "\n",
    "\n",
    "def get_named_parameter(event, name):\n",
    "    \\\"\\\"\\\"\n",
    "    Get a parameter from the lambda event\n",
    "    \\\"\\\"\\\"\n",
    "    return next(item for item in event['parameters'] if item['name'] == name)['value']\n",
    "\n",
    "\n",
    "def get_booking_details(booking_id):\n",
    "    \\\"\\\"\\\"\n",
    "    Retrieve details of a hotel booking\n",
    "    \n",
    "    Args:\n",
    "        booking_id (string): The ID of the booking to retrieve\n",
    "    \\\"\\\"\\\"\n",
    "    try:\n",
    "        response = table.get_item(Key={{'booking_id': booking_id}})\n",
    "        if 'Item' in response:\n",
    "            return response['Item']\n",
    "        else:\n",
    "            return {{'message': f'No booking found with ID {{booking_id}}'}}\n",
    "    except Exception as e:\n",
    "        return {{'error': str(e)}}\n",
    "\n",
    "\n",
    "\n",
    "\n",
    "def create_booking(date, name, hour, num_guests):\n",
    "    \\\"\\\"\\\"\n",
    "    Create a new hotel booking\n",
    "    \n",
    "    Args:\n",
    "        date (string): The date of the booking\n",
    "        name (string): Name to identify your reservation\n",
    "        hour (string): The hour of the booking\n",
    "        num_guests (integer): The number of guests for the booking\n",
    "    \\\"\\\"\\\"\n",
    "    try:\n",
    "        booking_id = str(uuid.uuid4())[:8]\n",
    "        table.put_item(\n",
    "            Item={{\n",
    "                'booking_id': booking_id,\n",
    "                'date': date,\n",
    "                'name': name,\n",
    "                'hour': hour,\n",
    "                'num_guests': num_guests\n",
    "            }}\n",
    "        )\n",
    "        return {{'booking_id': booking_id}}\n",
    "    except Exception as e:\n",
    "        return {{'error': str(e)}}\n",
    "\n",
    "\n",
    "\n",
    "\n",
    "def delete_booking(booking_id):\n",
    "    \\\"\\\"\\\"\n",
    "    Delete an existing hotel booking\n",
    "    \n",
    "    Args:\n",
    "        booking_id (str): The ID of the booking to delete\n",
    "    \\\"\\\"\\\"\n",
    "    try:\n",
    "        response = table.delete_item(Key={{'booking_id': booking_id}})\n",
    "        if response['ResponseMetadata']['HTTPStatusCode'] == 200:\n",
    "            return {{'message': f'Booking with ID {{booking_id}} deleted successfully'}}\n",
    "        else:\n",
    "            return {{'message': f'Failed to delete booking with ID {{booking_id}}'}}\n",
    "    except Exception as e:\n",
    "        return {{'error': str(e)}}\n",
    "\n",
    "\n",
    "\n",
    "\n",
    "def lambda_handler(event, context):\n",
    "    # Get the action group used during the invocation of the lambda function\n",
    "    actionGroup = event.get('actionGroup', '')\n",
    "    \n",
    "    # Name of the function that should be invoked\n",
    "    function = event.get('function', '')\n",
    "    \n",
    "    # Parameters to invoke function with\n",
    "    parameters = event.get('parameters', [])\n",
    "\n",
    "\n",
    "\n",
    "\n",
    "    if function == 'get_booking_details':\n",
    "        booking_id = get_named_parameter(event, \"booking_id\")\n",
    "        if booking_id:\n",
    "            response = str(get_booking_details(booking_id))\n",
    "            responseBody = {{'TEXT': {{'body': json.dumps(response)}}}}\n",
    "        else:\n",
    "            responseBody = {{'TEXT': {{'body': 'Missing booking_id parameter'}}}}\n",
    "\n",
    "\n",
    "\n",
    "\n",
    "    elif function == 'create_booking':\n",
    "        date = get_named_parameter(event, \"date\")\n",
    "        name = get_named_parameter(event, \"name\")\n",
    "        hour = get_named_parameter(event, \"hour\")\n",
    "        num_guests = get_named_parameter(event, \"num_guests\")\n",
    "\n",
    "\n",
    "\n",
    "\n",
    "        if date and hour and num_guests:\n",
    "            response = str(create_booking(date, name, hour, num_guests))\n",
    "            responseBody = {{'TEXT': {{'body': json.dumps(response)}}}}\n",
    "        else:\n",
    "            responseBody = {{'TEXT': {{'body': 'Missing required parameters'}}}}\n",
    "\n",
    "\n",
    "\n",
    "\n",
    "    elif function == 'delete_booking':\n",
    "        booking_id = get_named_parameter(event, \"booking_id\")\n",
    "        if booking_id:\n",
    "            response = str(delete_booking(booking_id))\n",
    "            responseBody = {{'TEXT': {{'body': json.dumps(response)}}}}\n",
    "        else:\n",
    "            responseBody = {{'TEXT': {{'body': 'Missing booking_id parameter'}}}}\n",
    "\n",
    "\n",
    "\n",
    "\n",
    "    else:\n",
    "        responseBody = {{'TEXT': {{'body': 'Invalid function'}}}}\n",
    "\n",
    "\n",
    "\n",
    "\n",
    "    action_response = {{\n",
    "        'actionGroup': actionGroup,\n",
    "        'function': function,\n",
    "        'functionResponse': {{\n",
    "            'responseBody': responseBody\n",
    "        }}\n",
    "    }}\n",
    "\n",
    "\n",
    "\n",
    "\n",
    "    function_response = {{'response': action_response, 'messageVersion': event['messageVersion']}}\n",
    "    print(\"Response: {{}}\".format(function_response))\n",
    "\n",
    "\n",
    "\n",
    "\n",
    "    return function_response\n",
    "\"\"\"\n",
    "\n",
    "\n",
    "# Write the dynamically generated content to a file\n",
    "with open(\"lambda_function.py\", \"w\") as file:\n",
    "    file.write(code)\n",
    "\n",
    "\n",
    "print(\"lambda_function.py has been successfully created \")\n"
   ]
  },
  {
   "cell_type": "markdown",
   "metadata": {
    "pycharm": {
     "name": "#%% md\n"
    }
   },
   "source": [
    "Next we create the function requirements for IAM role and policies using the support function `create_lambda_role` and create the lambda using the support function `create_lambda` both from the `agent.py` file"
   ]
  },
  {
   "cell_type": "code",
   "execution_count": 22,
   "metadata": {
    "pycharm": {
     "name": "#%%\n"
    }
   },
   "outputs": [],
   "source": [
    "lambda_iam_role = create_lambda_role(agent_name, table_name)"
   ]
  },
  {
   "cell_type": "code",
   "execution_count": 23,
   "metadata": {
    "pycharm": {
     "name": "#%%\n"
    }
   },
   "outputs": [],
   "source": [
    "lambda_function_name = f'{agent_name}-lambda'"
   ]
  },
  {
   "cell_type": "code",
   "execution_count": 24,
   "metadata": {
    "pycharm": {
     "name": "#%%\n"
    }
   },
   "outputs": [],
   "source": [
    "lambda_function = create_lambda(lambda_function_name, lambda_iam_role)"
   ]
  },
  {
   "cell_type": "markdown",
   "metadata": {
    "pycharm": {
     "name": "#%% md\n"
    }
   },
   "source": [
    "### Creating Agent\n",
    "\n",
    "Now that we have created the dynamoDB table and lambda function, let's create our Agent. \n",
    "\n",
    "To do so, we first need to create an agent role and its required policies. Let's do so using the `create_agent_role` function from the `agent.py` file."
   ]
  },
  {
   "cell_type": "code",
   "execution_count": 25,
   "metadata": {
    "pycharm": {
     "name": "#%%\n"
    }
   },
   "outputs": [],
   "source": [
    "agent_role = create_agent_role(agent_name, agent_foundation_model)"
   ]
  },
  {
   "cell_type": "code",
   "execution_count": 26,
   "metadata": {
    "pycharm": {
     "name": "#%%\n"
    }
   },
   "outputs": [
    {
     "data": {
      "text/plain": [
       "{'Role': {'Path': '/',\n",
       "  'RoleName': 'AmazonBedrockExecutionRoleForAgents_hotel-booking-agent',\n",
       "  'RoleId': 'AROA2KYJHU33WJJW5CHSV',\n",
       "  'Arn': 'arn:aws:iam::710299592439:role/AmazonBedrockExecutionRoleForAgents_hotel-booking-agent',\n",
       "  'CreateDate': datetime.datetime(2025, 2, 7, 11, 5, 42, tzinfo=tzlocal()),\n",
       "  'AssumeRolePolicyDocument': {'Version': '2012-10-17',\n",
       "   'Statement': [{'Effect': 'Allow',\n",
       "     'Principal': {'Service': 'bedrock.amazonaws.com'},\n",
       "     'Action': 'sts:AssumeRole'}]}},\n",
       " 'ResponseMetadata': {'RequestId': 'bc51f5fe-7bde-4360-baad-d30dba769735',\n",
       "  'HTTPStatusCode': 200,\n",
       "  'HTTPHeaders': {'date': 'Fri, 07 Feb 2025 11:05:42 GMT',\n",
       "   'x-amzn-requestid': 'bc51f5fe-7bde-4360-baad-d30dba769735',\n",
       "   'content-type': 'text/xml',\n",
       "   'content-length': '865'},\n",
       "  'RetryAttempts': 0}}"
      ]
     },
     "execution_count": 26,
     "metadata": {},
     "output_type": "execute_result"
    }
   ],
   "source": [
    "agent_role"
   ]
  },
  {
   "cell_type": "markdown",
   "metadata": {
    "pycharm": {
     "name": "#%% md\n"
    }
   },
   "source": [
    "With the Agent IAM role created, we can now use the boto3 function [`create_agent`](https://boto3.amazonaws.com/v1/documentation/api/latest/reference/services/bedrock-agent/client/create_agent.html) to create our agent. \n",
    "\n",
    "On the agent creation, all you need to provide is the agent name, foundation model and instruction. We will associate an action group to the agent once it has been created"
   ]
  },
  {
   "cell_type": "code",
   "execution_count": 36,
   "metadata": {
    "pycharm": {
     "name": "#%%\n"
    }
   },
   "outputs": [
    {
     "data": {
      "text/plain": [
       "{'ResponseMetadata': {'RequestId': '81ce6066-c43f-4858-80e6-32f2edb4175d',\n",
       "  'HTTPStatusCode': 202,\n",
       "  'HTTPHeaders': {'date': 'Fri, 07 Feb 2025 11:29:23 GMT',\n",
       "   'content-type': 'application/json',\n",
       "   'content-length': '839',\n",
       "   'connection': 'keep-alive',\n",
       "   'x-amzn-requestid': '81ce6066-c43f-4858-80e6-32f2edb4175d',\n",
       "   'x-amz-apigw-id': 'FnI2-HTsPHcEr4g=',\n",
       "   'x-amzn-trace-id': 'Root=1-67a5ee92-31ef1efc1eb411bf3094b593'},\n",
       "  'RetryAttempts': 0},\n",
       " 'agent': {'agentArn': 'arn:aws:bedrock:us-west-2:710299592439:agent/WOTFRWMOH8',\n",
       "  'agentCollaboration': 'DISABLED',\n",
       "  'agentId': 'WOTFRWMOH8',\n",
       "  'agentName': 'hotel-booking-agent',\n",
       "  'agentResourceRoleArn': 'arn:aws:iam::710299592439:role/AmazonBedrockExecutionRoleForAgents_hotel-booking-agent',\n",
       "  'agentStatus': 'CREATING',\n",
       "  'createdAt': datetime.datetime(2025, 2, 7, 11, 29, 22, 798640, tzinfo=tzlocal()),\n",
       "  'description': 'Agent is in charge of hotel bookings',\n",
       "  'foundationModel': 'arn:aws:bedrock:us-west-2:710299592439:inference-profile/us.amazon.nova-lite-v1:0',\n",
       "  'idleSessionTTLInSeconds': 1800,\n",
       "  'instruction': '\\nYou are a ABC Grand Hotel Booking agent, one of the key chain of hotels Hosting Amazon Reinvent 2024 helping clients retrieve information about the hotel,\\ncreate a new booking or cancel an existing booking\\n',\n",
       "  'orchestrationType': 'DEFAULT',\n",
       "  'updatedAt': datetime.datetime(2025, 2, 7, 11, 29, 22, 798640, tzinfo=tzlocal())}}"
      ]
     },
     "execution_count": 36,
     "metadata": {},
     "output_type": "execute_result"
    }
   ],
   "source": [
    "agent_role\n",
    "response = bedrock_agent_client.create_agent(\n",
    "    agentName=agent_name,\n",
    "    agentResourceRoleArn=agent_role['Role']['Arn'],\n",
    "    description=agent_description,\n",
    "    idleSessionTTLInSeconds=1800,\n",
    "    foundationModel=agent_foundation_model_instance_profile,\n",
    "    instruction=agent_instruction,\n",
    ")\n",
    "response"
   ]
  },
  {
   "cell_type": "markdown",
   "metadata": {
    "pycharm": {
     "name": "#%% md\n"
    }
   },
   "source": [
    "Now that our agent has been created, we will retrieve the `agentId`. It will be used to associate the action group to the agent in our next step."
   ]
  },
  {
   "cell_type": "code",
   "execution_count": 37,
   "metadata": {
    "pycharm": {
     "name": "#%%\n"
    }
   },
   "outputs": [
    {
     "name": "stdout",
     "output_type": "stream",
     "text": [
      "The agent id is: WOTFRWMOH8\n"
     ]
    }
   ],
   "source": [
    "agent_id = response['agent']['agentId']\n",
    "print(\"The agent id is:\",agent_id)"
   ]
  },
  {
   "cell_type": "markdown",
   "metadata": {},
   "source": [
    "We can also go to the Console at Bedrock > Agents and see our agent should be coming up\n",
    "![images/agent/agent_start.png](images/agent/agent_start.png)"
   ]
  },
  {
   "cell_type": "markdown",
   "metadata": {
    "pycharm": {
     "name": "#%% md\n"
    }
   },
   "source": [
    "#### Create Agent Action Group\n",
    "\n",
    "now that we have created the agent, let's create an [Action Group](https://docs.aws.amazon.com/bedrock/latest/userguide/agents-action-create.html) and associate with the agent. The action group will allow our agent to execute the booking tasks. To do so, we will \"inform\" our agent about the existent functionalities using a [function schema](https://docs.aws.amazon.com/bedrock/latest/userguide/agents-action-function.html) defined in `JSON` format.\n",
    "\n",
    "The function schema requires the function `name`, `description` and `parameters` to be provided. Each parameter has a parameter name, description, type and a boolean flag indicating if the parameter is required.\n",
    "\n",
    "Let's define the functions `JSON` as `agent_functions`"
   ]
  },
  {
   "cell_type": "code",
   "execution_count": 38,
   "metadata": {
    "pycharm": {
     "name": "#%%\n"
    }
   },
   "outputs": [],
   "source": [
    "agent_functions = [\n",
    "    {\n",
    "        'name': 'get_booking_details',\n",
    "        'description': 'Retrieve details of a the hotel booking',\n",
    "        'parameters': {\n",
    "            \"booking_id\": {\n",
    "                \"description\": \"The ID of the booking to retrieve\",\n",
    "                \"required\": True,\n",
    "                \"type\": \"string\"\n",
    "            }\n",
    "        }\n",
    "    },\n",
    "    {\n",
    "        'name': 'create_booking',\n",
    "        'description': 'Create a new hotel booking',\n",
    "        'parameters': {\n",
    "            \"date\": {\n",
    "                \"description\": \"The date of the booking in the format YYYY-MM-DD\",\n",
    "                \"required\": True,\n",
    "                \"type\": \"string\"\n",
    "            },\n",
    "            \"name\": {\n",
    "                \"description\": \"Name to idenfity your reservation\",\n",
    "                \"required\": True,\n",
    "                \"type\": \"string\"\n",
    "            },\n",
    "            \"hour\": {\n",
    "                \"description\": \"The hour of the booking in the format HH:MM\",\n",
    "                \"required\": True,\n",
    "                \"type\": \"string\"\n",
    "            },\n",
    "            \"num_guests\": {\n",
    "                \"description\": \"The number of guests for the booking\",\n",
    "                \"required\": True,\n",
    "                \"type\": \"integer\"\n",
    "            }\n",
    "        }\n",
    "    },\n",
    "    {\n",
    "        'name': 'delete_booking',\n",
    "        'description': 'Delete an existing hotel booking',\n",
    "        'parameters': {\n",
    "            \"booking_id\": {\n",
    "                \"description\": \"The ID of the booking to delete\",\n",
    "                \"required\": True,\n",
    "                \"type\": \"string\"\n",
    "            }\n",
    "        }\n",
    "    },\n",
    "]"
   ]
  },
  {
   "cell_type": "markdown",
   "metadata": {
    "pycharm": {
     "name": "#%% md\n"
    }
   },
   "source": [
    "Now we can use the [`create_agent_action_group`](https://boto3.amazonaws.com/v1/documentation/api/latest/reference/services/bedrock-agent/client/create_agent_action_group.html) function from the boto3 SDK to create the action group"
   ]
  },
  {
   "cell_type": "code",
   "execution_count": 39,
   "metadata": {
    "pycharm": {
     "name": "#%%\n"
    }
   },
   "outputs": [],
   "source": [
    "# Pause to make sure agent is created\n",
    "time.sleep(30)\n",
    "\n",
    "# Now, we can configure and create an action group here:\n",
    "agent_action_group_response = bedrock_agent_client.create_agent_action_group(\n",
    "    agentId=agent_id,\n",
    "    agentVersion='DRAFT',\n",
    "    actionGroupExecutor={\n",
    "        'lambda': lambda_function['FunctionArn']\n",
    "    },\n",
    "    actionGroupName=agent_action_group_name,\n",
    "    functionSchema={\n",
    "        'functions': agent_functions\n",
    "    },\n",
    "    description=agent_action_group_description\n",
    ")"
   ]
  },
  {
   "cell_type": "code",
   "execution_count": 40,
   "metadata": {
    "pycharm": {
     "name": "#%%\n"
    }
   },
   "outputs": [
    {
     "data": {
      "text/plain": [
       "{'ResponseMetadata': {'RequestId': 'f3943430-eb2f-421d-b1ec-df70cebe07c1',\n",
       "  'HTTPStatusCode': 200,\n",
       "  'HTTPHeaders': {'date': 'Fri, 07 Feb 2025 11:32:27 GMT',\n",
       "   'content-type': 'application/json',\n",
       "   'content-length': '1491',\n",
       "   'connection': 'keep-alive',\n",
       "   'x-amzn-requestid': 'f3943430-eb2f-421d-b1ec-df70cebe07c1',\n",
       "   'x-amz-apigw-id': 'FnJT1Ex1PHcEIrw=',\n",
       "   'x-amzn-trace-id': 'Root=1-67a5ef4b-395c4b11216073977f4bac2c'},\n",
       "  'RetryAttempts': 0},\n",
       " 'agentActionGroup': {'actionGroupExecutor': {'lambda': 'arn:aws:lambda:us-west-2:710299592439:function:hotel-booking-agent-lambda'},\n",
       "  'actionGroupId': 'K9D6SGLLLH',\n",
       "  'actionGroupName': 'HotelBookingsActionGroup',\n",
       "  'actionGroupState': 'ENABLED',\n",
       "  'agentId': 'WOTFRWMOH8',\n",
       "  'agentVersion': 'DRAFT',\n",
       "  'createdAt': datetime.datetime(2025, 2, 7, 11, 32, 27, 459162, tzinfo=tzlocal()),\n",
       "  'description': '\\nActions for getting Hotel booking information, create a new hotel booking or delete an existing booking',\n",
       "  'functionSchema': {'functions': [{'description': 'Retrieve details of a the hotel booking',\n",
       "     'name': 'get_booking_details',\n",
       "     'parameters': {'booking_id': {'description': 'The ID of the booking to retrieve',\n",
       "       'required': True,\n",
       "       'type': 'string'}},\n",
       "     'requireConfirmation': 'DISABLED'},\n",
       "    {'description': 'Create a new hotel booking',\n",
       "     'name': 'create_booking',\n",
       "     'parameters': {'date': {'description': 'The date of the booking in the format YYYY-MM-DD',\n",
       "       'required': True,\n",
       "       'type': 'string'},\n",
       "      'hour': {'description': 'The hour of the booking in the format HH:MM',\n",
       "       'required': True,\n",
       "       'type': 'string'},\n",
       "      'name': {'description': 'Name to idenfity your reservation',\n",
       "       'required': True,\n",
       "       'type': 'string'},\n",
       "      'num_guests': {'description': 'The number of guests for the booking',\n",
       "       'required': True,\n",
       "       'type': 'integer'}},\n",
       "     'requireConfirmation': 'DISABLED'},\n",
       "    {'description': 'Delete an existing hotel booking',\n",
       "     'name': 'delete_booking',\n",
       "     'parameters': {'booking_id': {'description': 'The ID of the booking to delete',\n",
       "       'required': True,\n",
       "       'type': 'string'}},\n",
       "     'requireConfirmation': 'DISABLED'}]},\n",
       "  'updatedAt': datetime.datetime(2025, 2, 7, 11, 32, 27, 459162, tzinfo=tzlocal())}}"
      ]
     },
     "execution_count": 40,
     "metadata": {},
     "output_type": "execute_result"
    }
   ],
   "source": [
    "agent_action_group_response"
   ]
  },
  {
   "cell_type": "markdown",
   "metadata": {
    "pycharm": {
     "name": "#%% md\n"
    }
   },
   "source": [
    "#### Allowing bedrock to invoke lambda function\n",
    "\n",
    "The last requirement is to add the [resource-based policy](https://docs.aws.amazon.com/bedrock/latest/userguide/agents-permissions.html#agents-permissions-lambda) to allow bedrock to invoke the action group lambda function."
   ]
  },
  {
   "cell_type": "code",
   "execution_count": 42,
   "metadata": {
    "pycharm": {
     "name": "#%%\n"
    }
   },
   "outputs": [
    {
     "name": "stdout",
     "output_type": "stream",
     "text": [
      "{'ResponseMetadata': {'RequestId': '0cf781ea-cf59-4a07-961a-0e25ebcf475b', 'HTTPStatusCode': 201, 'HTTPHeaders': {'date': 'Fri, 07 Feb 2025 11:33:32 GMT', 'content-type': 'application/json', 'content-length': '367', 'connection': 'keep-alive', 'x-amzn-requestid': '0cf781ea-cf59-4a07-961a-0e25ebcf475b'}, 'RetryAttempts': 0}, 'Statement': '{\"Sid\":\"allow_bedrock_WOTFRWMOH8_2\",\"Effect\":\"Allow\",\"Principal\":{\"Service\":\"bedrock.amazonaws.com\"},\"Action\":\"lambda:InvokeFunction\",\"Resource\":\"arn:aws:lambda:us-west-2:710299592439:function:hotel-booking-agent-lambda\",\"Condition\":{\"ArnLike\":{\"AWS:SourceArn\":\"arn:aws:bedrock:us-west-2:710299592439:agent/WOTFRWMOH8\"}}}'}\n"
     ]
    }
   ],
   "source": [
    "# Create allow to invoke permission on lambda\n",
    "lambda_client = boto3.client('lambda', region_name=region_name)\n",
    "try:\n",
    "    response = lambda_client.add_permission(\n",
    "        FunctionName=lambda_function_name,\n",
    "        StatementId=f'allow_bedrock_{agent_id}_2',\n",
    "        Action='lambda:InvokeFunction',\n",
    "        Principal='bedrock.amazonaws.com', \n",
    "        SourceArn=f\"arn:aws:bedrock:{region_name}:{account_id}:agent/{agent_id}\",\n",
    "    )\n",
    "    print(response)\n",
    "except Exception as e:\n",
    "    print(e)"
   ]
  },
  {
   "cell_type": "markdown",
   "metadata": {
    "pycharm": {
     "name": "#%% md\n"
    }
   },
   "source": [
    "#### Preparing agent\n",
    "\n",
    "Before invoking the agent we need to prepare it. Preparing your agent will package all its components, including the security configurations. It will bring the agent into a state where it can be tested in runtime. We will use the [`prepare_agent`](https://boto3.amazonaws.com/v1/documentation/api/latest/reference/services/bedrock-agent/client/prepare_agent.html) function from the boto3 sdk to prepare our agent."
   ]
  },
  {
   "cell_type": "code",
   "execution_count": 43,
   "metadata": {
    "pycharm": {
     "name": "#%%\n"
    }
   },
   "outputs": [
    {
     "name": "stdout",
     "output_type": "stream",
     "text": [
      "{'ResponseMetadata': {'RequestId': '514173a7-6a70-4a0e-9f2b-6546b40d9414', 'HTTPStatusCode': 202, 'HTTPHeaders': {'date': 'Fri, 07 Feb 2025 11:33:46 GMT', 'content-type': 'application/json', 'content-length': '119', 'connection': 'keep-alive', 'x-amzn-requestid': '514173a7-6a70-4a0e-9f2b-6546b40d9414', 'x-amz-apigw-id': 'FnJgNGrXPHcEezw=', 'x-amzn-trace-id': 'Root=1-67a5ef9a-5fec64b56de98a79346d88a5'}, 'RetryAttempts': 0}, 'agentId': 'WOTFRWMOH8', 'agentStatus': 'PREPARING', 'agentVersion': 'DRAFT', 'preparedAt': datetime.datetime(2025, 2, 7, 11, 33, 46, 937482, tzinfo=tzlocal())}\n"
     ]
    }
   ],
   "source": [
    "response = bedrock_agent_client.prepare_agent(\n",
    "    agentId=agent_id\n",
    ")\n",
    "print(response)\n",
    "# Pause to make sure agent is prepared\n",
    "time.sleep(30)"
   ]
  },
  {
   "cell_type": "markdown",
   "metadata": {
    "pycharm": {
     "name": "#%% md\n"
    }
   },
   "source": [
    "### Invoking Agent\n",
    "\n",
    "Now that our Agent is ready to be used, let's test it. To do so we will use the [`invoke_agent`](https://boto3.amazonaws.com/v1/documentation/api/latest/reference/services/bedrock-agent-runtime/client/invoke_agent.html) function from the boto3 Bedrock runtime client.\n",
    "\n",
    "To invoke an agent, you have to refer to its alias. You can create a new alias, or you can use the test alias to invoke your `DRAFT` agent. The test alias used to invoke the draft agent is `TSTALIASID` and it will work with any agent. \n",
    "\n",
    "\n",
    "We will use the support function called `invoke_agent_helper` from the `agents.py` support file to allow us to invoke the agent with or without trace enabled and with or without session state. We will getinto more details about those concepts in the `4.3_invoke_agent.ipynb` notebook."
   ]
  },
  {
   "cell_type": "code",
   "execution_count": 44,
   "metadata": {
    "pycharm": {
     "name": "#%%\n"
    }
   },
   "outputs": [],
   "source": [
    "alias_id = 'TSTALIASID'"
   ]
  },
  {
   "cell_type": "code",
   "execution_count": 45,
   "metadata": {
    "pycharm": {
     "name": "#%%\n"
    }
   },
   "outputs": [
    {
     "name": "stdout",
     "output_type": "stream",
     "text": [
      "Hi John, I can help you with that. Could you please provide me with the check-in date and the name to identify your reservation? \n",
      "CPU times: user 5.83 ms, sys: 3.77 ms, total: 9.6 ms\n",
      "Wall time: 2.05 s\n"
     ]
    }
   ],
   "source": [
    "%%time\n",
    "session_id:str = str(uuid.uuid1())\n",
    "query = \"Hi, I am Amazon Reinvent'24 Participant, John. I want to create a hotel booking for 2 people, with check-in time of 8pm on the 5th of May 2024.\"\n",
    "response = invoke_agent_helper(query, session_id, agent_id, alias_id)\n",
    "print(response)\n"
   ]
  },
  {
   "cell_type": "markdown",
   "metadata": {
    "pycharm": {
     "name": "#%% md\n"
    }
   },
   "source": [
    "### Next Steps\n",
    "\n",
    "Before moving to the next notebook, let's store a couple of variables to continue working the the same notebook.\n",
    "\n",
    "Next we will update our agent to associate a knowledge base containing the menus for our restaurant. We will then test the agent invocations and clean up all the created resources."
   ]
  },
  {
   "cell_type": "code",
   "execution_count": 46,
   "metadata": {
    "pycharm": {
     "name": "#%%\n"
    },
    "tags": []
   },
   "outputs": [
    {
     "name": "stdout",
     "output_type": "stream",
     "text": [
      "Stored 'agent_id' (str)\n",
      "Stored 'agent_role' (dict)\n",
      "Stored 'lambda_iam_role' (dict)\n",
      "Stored 'agent_name' (str)\n",
      "Stored 'suffix' (str)\n",
      "Stored 'region_name' (str)\n",
      "Stored 'agent_foundation_model' (str)\n",
      "Stored 'account_id' (str)\n",
      "Stored 'alias_id' (str)\n",
      "Stored 'table_name' (str)\n",
      "Stored 'lambda_function' (dict)\n",
      "Stored 'lambda_function_name' (str)\n",
      "Stored 'agent_action_group_response' (dict)\n",
      "Stored 'agent_functions' (list)\n"
     ]
    }
   ],
   "source": [
    "%store agent_id\n",
    "%store agent_role\n",
    "%store lambda_iam_role\n",
    "%store agent_name\n",
    "%store suffix\n",
    "%store region_name\n",
    "%store agent_foundation_model\n",
    "%store account_id\n",
    "%store alias_id\n",
    "%store table_name\n",
    "%store lambda_function\n",
    "%store lambda_function_name\n",
    "%store agent_action_group_response\n",
    "%store agent_functions"
   ]
  },
  {
   "cell_type": "code",
   "execution_count": null,
   "metadata": {},
   "outputs": [],
   "source": []
  },
  {
   "cell_type": "code",
   "execution_count": null,
   "metadata": {},
   "outputs": [],
   "source": []
  }
 ],
 "metadata": {
  "availableInstances": [
   {
    "_defaultOrder": 0,
    "_isFastLaunch": true,
    "category": "General purpose",
    "gpuNum": 0,
    "hideHardwareSpecs": false,
    "memoryGiB": 4,
    "name": "ml.t3.medium",
    "vcpuNum": 2
   },
   {
    "_defaultOrder": 1,
    "_isFastLaunch": false,
    "category": "General purpose",
    "gpuNum": 0,
    "hideHardwareSpecs": false,
    "memoryGiB": 8,
    "name": "ml.t3.large",
    "vcpuNum": 2
   },
   {
    "_defaultOrder": 2,
    "_isFastLaunch": false,
    "category": "General purpose",
    "gpuNum": 0,
    "hideHardwareSpecs": false,
    "memoryGiB": 16,
    "name": "ml.t3.xlarge",
    "vcpuNum": 4
   },
   {
    "_defaultOrder": 3,
    "_isFastLaunch": false,
    "category": "General purpose",
    "gpuNum": 0,
    "hideHardwareSpecs": false,
    "memoryGiB": 32,
    "name": "ml.t3.2xlarge",
    "vcpuNum": 8
   },
   {
    "_defaultOrder": 4,
    "_isFastLaunch": true,
    "category": "General purpose",
    "gpuNum": 0,
    "hideHardwareSpecs": false,
    "memoryGiB": 8,
    "name": "ml.m5.large",
    "vcpuNum": 2
   },
   {
    "_defaultOrder": 5,
    "_isFastLaunch": false,
    "category": "General purpose",
    "gpuNum": 0,
    "hideHardwareSpecs": false,
    "memoryGiB": 16,
    "name": "ml.m5.xlarge",
    "vcpuNum": 4
   },
   {
    "_defaultOrder": 6,
    "_isFastLaunch": false,
    "category": "General purpose",
    "gpuNum": 0,
    "hideHardwareSpecs": false,
    "memoryGiB": 32,
    "name": "ml.m5.2xlarge",
    "vcpuNum": 8
   },
   {
    "_defaultOrder": 7,
    "_isFastLaunch": false,
    "category": "General purpose",
    "gpuNum": 0,
    "hideHardwareSpecs": false,
    "memoryGiB": 64,
    "name": "ml.m5.4xlarge",
    "vcpuNum": 16
   },
   {
    "_defaultOrder": 8,
    "_isFastLaunch": false,
    "category": "General purpose",
    "gpuNum": 0,
    "hideHardwareSpecs": false,
    "memoryGiB": 128,
    "name": "ml.m5.8xlarge",
    "vcpuNum": 32
   },
   {
    "_defaultOrder": 9,
    "_isFastLaunch": false,
    "category": "General purpose",
    "gpuNum": 0,
    "hideHardwareSpecs": false,
    "memoryGiB": 192,
    "name": "ml.m5.12xlarge",
    "vcpuNum": 48
   },
   {
    "_defaultOrder": 10,
    "_isFastLaunch": false,
    "category": "General purpose",
    "gpuNum": 0,
    "hideHardwareSpecs": false,
    "memoryGiB": 256,
    "name": "ml.m5.16xlarge",
    "vcpuNum": 64
   },
   {
    "_defaultOrder": 11,
    "_isFastLaunch": false,
    "category": "General purpose",
    "gpuNum": 0,
    "hideHardwareSpecs": false,
    "memoryGiB": 384,
    "name": "ml.m5.24xlarge",
    "vcpuNum": 96
   },
   {
    "_defaultOrder": 12,
    "_isFastLaunch": false,
    "category": "General purpose",
    "gpuNum": 0,
    "hideHardwareSpecs": false,
    "memoryGiB": 8,
    "name": "ml.m5d.large",
    "vcpuNum": 2
   },
   {
    "_defaultOrder": 13,
    "_isFastLaunch": false,
    "category": "General purpose",
    "gpuNum": 0,
    "hideHardwareSpecs": false,
    "memoryGiB": 16,
    "name": "ml.m5d.xlarge",
    "vcpuNum": 4
   },
   {
    "_defaultOrder": 14,
    "_isFastLaunch": false,
    "category": "General purpose",
    "gpuNum": 0,
    "hideHardwareSpecs": false,
    "memoryGiB": 32,
    "name": "ml.m5d.2xlarge",
    "vcpuNum": 8
   },
   {
    "_defaultOrder": 15,
    "_isFastLaunch": false,
    "category": "General purpose",
    "gpuNum": 0,
    "hideHardwareSpecs": false,
    "memoryGiB": 64,
    "name": "ml.m5d.4xlarge",
    "vcpuNum": 16
   },
   {
    "_defaultOrder": 16,
    "_isFastLaunch": false,
    "category": "General purpose",
    "gpuNum": 0,
    "hideHardwareSpecs": false,
    "memoryGiB": 128,
    "name": "ml.m5d.8xlarge",
    "vcpuNum": 32
   },
   {
    "_defaultOrder": 17,
    "_isFastLaunch": false,
    "category": "General purpose",
    "gpuNum": 0,
    "hideHardwareSpecs": false,
    "memoryGiB": 192,
    "name": "ml.m5d.12xlarge",
    "vcpuNum": 48
   },
   {
    "_defaultOrder": 18,
    "_isFastLaunch": false,
    "category": "General purpose",
    "gpuNum": 0,
    "hideHardwareSpecs": false,
    "memoryGiB": 256,
    "name": "ml.m5d.16xlarge",
    "vcpuNum": 64
   },
   {
    "_defaultOrder": 19,
    "_isFastLaunch": false,
    "category": "General purpose",
    "gpuNum": 0,
    "hideHardwareSpecs": false,
    "memoryGiB": 384,
    "name": "ml.m5d.24xlarge",
    "vcpuNum": 96
   },
   {
    "_defaultOrder": 20,
    "_isFastLaunch": false,
    "category": "General purpose",
    "gpuNum": 0,
    "hideHardwareSpecs": true,
    "memoryGiB": 0,
    "name": "ml.geospatial.interactive",
    "supportedImageNames": [
     "sagemaker-geospatial-v1-0"
    ],
    "vcpuNum": 0
   },
   {
    "_defaultOrder": 21,
    "_isFastLaunch": true,
    "category": "Compute optimized",
    "gpuNum": 0,
    "hideHardwareSpecs": false,
    "memoryGiB": 4,
    "name": "ml.c5.large",
    "vcpuNum": 2
   },
   {
    "_defaultOrder": 22,
    "_isFastLaunch": false,
    "category": "Compute optimized",
    "gpuNum": 0,
    "hideHardwareSpecs": false,
    "memoryGiB": 8,
    "name": "ml.c5.xlarge",
    "vcpuNum": 4
   },
   {
    "_defaultOrder": 23,
    "_isFastLaunch": false,
    "category": "Compute optimized",
    "gpuNum": 0,
    "hideHardwareSpecs": false,
    "memoryGiB": 16,
    "name": "ml.c5.2xlarge",
    "vcpuNum": 8
   },
   {
    "_defaultOrder": 24,
    "_isFastLaunch": false,
    "category": "Compute optimized",
    "gpuNum": 0,
    "hideHardwareSpecs": false,
    "memoryGiB": 32,
    "name": "ml.c5.4xlarge",
    "vcpuNum": 16
   },
   {
    "_defaultOrder": 25,
    "_isFastLaunch": false,
    "category": "Compute optimized",
    "gpuNum": 0,
    "hideHardwareSpecs": false,
    "memoryGiB": 72,
    "name": "ml.c5.9xlarge",
    "vcpuNum": 36
   },
   {
    "_defaultOrder": 26,
    "_isFastLaunch": false,
    "category": "Compute optimized",
    "gpuNum": 0,
    "hideHardwareSpecs": false,
    "memoryGiB": 96,
    "name": "ml.c5.12xlarge",
    "vcpuNum": 48
   },
   {
    "_defaultOrder": 27,
    "_isFastLaunch": false,
    "category": "Compute optimized",
    "gpuNum": 0,
    "hideHardwareSpecs": false,
    "memoryGiB": 144,
    "name": "ml.c5.18xlarge",
    "vcpuNum": 72
   },
   {
    "_defaultOrder": 28,
    "_isFastLaunch": false,
    "category": "Compute optimized",
    "gpuNum": 0,
    "hideHardwareSpecs": false,
    "memoryGiB": 192,
    "name": "ml.c5.24xlarge",
    "vcpuNum": 96
   },
   {
    "_defaultOrder": 29,
    "_isFastLaunch": true,
    "category": "Accelerated computing",
    "gpuNum": 1,
    "hideHardwareSpecs": false,
    "memoryGiB": 16,
    "name": "ml.g4dn.xlarge",
    "vcpuNum": 4
   },
   {
    "_defaultOrder": 30,
    "_isFastLaunch": false,
    "category": "Accelerated computing",
    "gpuNum": 1,
    "hideHardwareSpecs": false,
    "memoryGiB": 32,
    "name": "ml.g4dn.2xlarge",
    "vcpuNum": 8
   },
   {
    "_defaultOrder": 31,
    "_isFastLaunch": false,
    "category": "Accelerated computing",
    "gpuNum": 1,
    "hideHardwareSpecs": false,
    "memoryGiB": 64,
    "name": "ml.g4dn.4xlarge",
    "vcpuNum": 16
   },
   {
    "_defaultOrder": 32,
    "_isFastLaunch": false,
    "category": "Accelerated computing",
    "gpuNum": 1,
    "hideHardwareSpecs": false,
    "memoryGiB": 128,
    "name": "ml.g4dn.8xlarge",
    "vcpuNum": 32
   },
   {
    "_defaultOrder": 33,
    "_isFastLaunch": false,
    "category": "Accelerated computing",
    "gpuNum": 4,
    "hideHardwareSpecs": false,
    "memoryGiB": 192,
    "name": "ml.g4dn.12xlarge",
    "vcpuNum": 48
   },
   {
    "_defaultOrder": 34,
    "_isFastLaunch": false,
    "category": "Accelerated computing",
    "gpuNum": 1,
    "hideHardwareSpecs": false,
    "memoryGiB": 256,
    "name": "ml.g4dn.16xlarge",
    "vcpuNum": 64
   },
   {
    "_defaultOrder": 35,
    "_isFastLaunch": false,
    "category": "Accelerated computing",
    "gpuNum": 1,
    "hideHardwareSpecs": false,
    "memoryGiB": 61,
    "name": "ml.p3.2xlarge",
    "vcpuNum": 8
   },
   {
    "_defaultOrder": 36,
    "_isFastLaunch": false,
    "category": "Accelerated computing",
    "gpuNum": 4,
    "hideHardwareSpecs": false,
    "memoryGiB": 244,
    "name": "ml.p3.8xlarge",
    "vcpuNum": 32
   },
   {
    "_defaultOrder": 37,
    "_isFastLaunch": false,
    "category": "Accelerated computing",
    "gpuNum": 8,
    "hideHardwareSpecs": false,
    "memoryGiB": 488,
    "name": "ml.p3.16xlarge",
    "vcpuNum": 64
   },
   {
    "_defaultOrder": 38,
    "_isFastLaunch": false,
    "category": "Accelerated computing",
    "gpuNum": 8,
    "hideHardwareSpecs": false,
    "memoryGiB": 768,
    "name": "ml.p3dn.24xlarge",
    "vcpuNum": 96
   },
   {
    "_defaultOrder": 39,
    "_isFastLaunch": false,
    "category": "Memory Optimized",
    "gpuNum": 0,
    "hideHardwareSpecs": false,
    "memoryGiB": 16,
    "name": "ml.r5.large",
    "vcpuNum": 2
   },
   {
    "_defaultOrder": 40,
    "_isFastLaunch": false,
    "category": "Memory Optimized",
    "gpuNum": 0,
    "hideHardwareSpecs": false,
    "memoryGiB": 32,
    "name": "ml.r5.xlarge",
    "vcpuNum": 4
   },
   {
    "_defaultOrder": 41,
    "_isFastLaunch": false,
    "category": "Memory Optimized",
    "gpuNum": 0,
    "hideHardwareSpecs": false,
    "memoryGiB": 64,
    "name": "ml.r5.2xlarge",
    "vcpuNum": 8
   },
   {
    "_defaultOrder": 42,
    "_isFastLaunch": false,
    "category": "Memory Optimized",
    "gpuNum": 0,
    "hideHardwareSpecs": false,
    "memoryGiB": 128,
    "name": "ml.r5.4xlarge",
    "vcpuNum": 16
   },
   {
    "_defaultOrder": 43,
    "_isFastLaunch": false,
    "category": "Memory Optimized",
    "gpuNum": 0,
    "hideHardwareSpecs": false,
    "memoryGiB": 256,
    "name": "ml.r5.8xlarge",
    "vcpuNum": 32
   },
   {
    "_defaultOrder": 44,
    "_isFastLaunch": false,
    "category": "Memory Optimized",
    "gpuNum": 0,
    "hideHardwareSpecs": false,
    "memoryGiB": 384,
    "name": "ml.r5.12xlarge",
    "vcpuNum": 48
   },
   {
    "_defaultOrder": 45,
    "_isFastLaunch": false,
    "category": "Memory Optimized",
    "gpuNum": 0,
    "hideHardwareSpecs": false,
    "memoryGiB": 512,
    "name": "ml.r5.16xlarge",
    "vcpuNum": 64
   },
   {
    "_defaultOrder": 46,
    "_isFastLaunch": false,
    "category": "Memory Optimized",
    "gpuNum": 0,
    "hideHardwareSpecs": false,
    "memoryGiB": 768,
    "name": "ml.r5.24xlarge",
    "vcpuNum": 96
   },
   {
    "_defaultOrder": 47,
    "_isFastLaunch": false,
    "category": "Accelerated computing",
    "gpuNum": 1,
    "hideHardwareSpecs": false,
    "memoryGiB": 16,
    "name": "ml.g5.xlarge",
    "vcpuNum": 4
   },
   {
    "_defaultOrder": 48,
    "_isFastLaunch": false,
    "category": "Accelerated computing",
    "gpuNum": 1,
    "hideHardwareSpecs": false,
    "memoryGiB": 32,
    "name": "ml.g5.2xlarge",
    "vcpuNum": 8
   },
   {
    "_defaultOrder": 49,
    "_isFastLaunch": false,
    "category": "Accelerated computing",
    "gpuNum": 1,
    "hideHardwareSpecs": false,
    "memoryGiB": 64,
    "name": "ml.g5.4xlarge",
    "vcpuNum": 16
   },
   {
    "_defaultOrder": 50,
    "_isFastLaunch": false,
    "category": "Accelerated computing",
    "gpuNum": 1,
    "hideHardwareSpecs": false,
    "memoryGiB": 128,
    "name": "ml.g5.8xlarge",
    "vcpuNum": 32
   },
   {
    "_defaultOrder": 51,
    "_isFastLaunch": false,
    "category": "Accelerated computing",
    "gpuNum": 1,
    "hideHardwareSpecs": false,
    "memoryGiB": 256,
    "name": "ml.g5.16xlarge",
    "vcpuNum": 64
   },
   {
    "_defaultOrder": 52,
    "_isFastLaunch": false,
    "category": "Accelerated computing",
    "gpuNum": 4,
    "hideHardwareSpecs": false,
    "memoryGiB": 192,
    "name": "ml.g5.12xlarge",
    "vcpuNum": 48
   },
   {
    "_defaultOrder": 53,
    "_isFastLaunch": false,
    "category": "Accelerated computing",
    "gpuNum": 4,
    "hideHardwareSpecs": false,
    "memoryGiB": 384,
    "name": "ml.g5.24xlarge",
    "vcpuNum": 96
   },
   {
    "_defaultOrder": 54,
    "_isFastLaunch": false,
    "category": "Accelerated computing",
    "gpuNum": 8,
    "hideHardwareSpecs": false,
    "memoryGiB": 768,
    "name": "ml.g5.48xlarge",
    "vcpuNum": 192
   },
   {
    "_defaultOrder": 55,
    "_isFastLaunch": false,
    "category": "Accelerated computing",
    "gpuNum": 8,
    "hideHardwareSpecs": false,
    "memoryGiB": 1152,
    "name": "ml.p4d.24xlarge",
    "vcpuNum": 96
   },
   {
    "_defaultOrder": 56,
    "_isFastLaunch": false,
    "category": "Accelerated computing",
    "gpuNum": 8,
    "hideHardwareSpecs": false,
    "memoryGiB": 1152,
    "name": "ml.p4de.24xlarge",
    "vcpuNum": 96
   },
   {
    "_defaultOrder": 57,
    "_isFastLaunch": false,
    "category": "Accelerated computing",
    "gpuNum": 0,
    "hideHardwareSpecs": false,
    "memoryGiB": 32,
    "name": "ml.trn1.2xlarge",
    "vcpuNum": 8
   },
   {
    "_defaultOrder": 58,
    "_isFastLaunch": false,
    "category": "Accelerated computing",
    "gpuNum": 0,
    "hideHardwareSpecs": false,
    "memoryGiB": 512,
    "name": "ml.trn1.32xlarge",
    "vcpuNum": 128
   },
   {
    "_defaultOrder": 59,
    "_isFastLaunch": false,
    "category": "Accelerated computing",
    "gpuNum": 0,
    "hideHardwareSpecs": false,
    "memoryGiB": 512,
    "name": "ml.trn1n.32xlarge",
    "vcpuNum": 128
   }
  ],
  "instance_type": "ml.t3.medium",
  "kernelspec": {
   "display_name": "Python 3 (ipykernel)",
   "language": "python",
   "name": "python3"
  },
  "language_info": {
   "codemirror_mode": {
    "name": "ipython",
    "version": 3
   },
   "file_extension": ".py",
   "mimetype": "text/x-python",
   "name": "python",
   "nbconvert_exporter": "python",
   "pygments_lexer": "ipython3",
   "version": "3.11.11"
  }
 },
 "nbformat": 4,
 "nbformat_minor": 4
}
