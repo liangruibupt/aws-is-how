{
 "cells": [
  {
   "cell_type": "markdown",
   "id": "370936fa",
   "metadata": {},
   "source": [
    "# Introduction\n",
    "\n",
    "Welcome to the Amazon Nova Reel Workshop! In this hands-on session, we'll explore the powerful capabilities of Amazon's video generation foundation model. You'll experience how **OctankFashion**, a fictional clothing brand, uses the model to create videos for use in their marketing and advertising campaigns.\n",
    "\n",
    "## Use Case\n",
    "\n",
    "OctankFashion would like to incorporate more rich video content into their marketing and advertising. They find traditional video production to be both too time-consuming and cost prohibitive, having to rent equipment, hire a video production agency, and pay for travel to on-location shoots. They will apply Nova Reel to tasks including:\n",
    "\n",
    "1. Creating an evocative lifestyle video of their new line of summer t-shirts.\n",
    "2. Turning one of their existing marketing images into full motion video.\n",
    "\n",
    "## Workshop Objectives\n",
    "\n",
    "By the end of this workshop, you will:\n",
    "\n",
    "1. Understand the key features of Amazon Nova Reel model.\n",
    "2. Learn how to use these features for marketing and advertising use cases.\n",
    "3. Gain hands-on experience with the Amazon Bedrock API for video generation tasks.\n",
    "\n",
    "## Features We'll Use\n",
    "\n",
    "During the workshop, we'll leverage the following features of Amazon Nova Reel:\n",
    "\n",
    "1. Text-to-Video\n",
    "2. Image-to-Video\n",
    "\n",
    "<div class=\"alert alert-block alert-warning\">\n",
    "<b>Prerequisites:</b> Please run the prerequiresites <b>00-prerequisites.ipynb</b> first before proceeding.\n",
    "</div>\n"
   ]
  },
  {
   "cell_type": "markdown",
   "id": "6900600a",
   "metadata": {},
   "source": [
    "### Introduction to text-to-video\n",
    "\n",
    "With Nova Reel's text-to-video capability, you can create a video from a simple text prompt describing your intended subject, environment, camera motion, and more.\n",
    "\n",
    "Run the cell below to create an instance of the Bedrock Runtime client which we'll use later.\n"
   ]
  },
  {
   "cell_type": "code",
   "execution_count": 15,
   "id": "81929247",
   "metadata": {},
   "outputs": [],
   "source": [
    "import boto3\n",
    "import video_gen_util\n",
    "\n",
    "boto3.setup_default_session(region_name=\"us-east-1\")\n",
    "session = boto3.Session()\n",
    "sts_client = session.client(\"sts\")\n",
    "\n",
    "bedrock_runtime = boto3.client(\"bedrock-runtime\")"
   ]
  },
  {
   "cell_type": "markdown",
   "id": "04b4d957",
   "metadata": {},
   "source": [
    "#### Setting up storage\n",
    "\n",
    "Generating a video takes some time - approximately 3-4 minutes to produce a 6 second video. To accomodate this execution time, the Bedrock Runtime introduces a new asynchronous invocation API. You start generating a video by calling the `start_async_invoke()` method on the Bedrock Runtime client. When the generation job completes, Bedrock automatically saves the generated video to an S3 bucket you specify.\n",
    "\n",
    "Run the cell below to automatically create a new S3 bucket in your account which we will use as a destination for your videos. (If you already have an existing bucket you'd like to use, edit the `s3_destination_bucket` variable to use that bucket's ID)\n"
   ]
  },
  {
   "cell_type": "code",
   "execution_count": 3,
   "id": "36e425f2",
   "metadata": {},
   "outputs": [],
   "source": [
    "region = session.region_name\n",
    "account_id = sts_client.get_caller_identity()[\"Account\"]\n",
    "\n",
    "create_new_bucket = False\n",
    "\n",
    "if create_new_bucket == True:\n",
    "    new_bucket_name = f\"ovg-bucket-{region}-{account_id}\"\n",
    "    s3_destination_bucket = new_bucket_name\n",
    "    # Create the bucket\n",
    "    boto3.client(\"s3\").create_bucket(Bucket=s3_destination_bucket)\n",
    "else:\n",
    "    # Replace this with an existing bucket ID if you'd like.\n",
    "    s3_destination_bucket = 'sagemaker-us-west-2-710299592439/genai/reel/'\n"
   ]
  },
  {
   "cell_type": "markdown",
   "id": "97ea036c",
   "metadata": {},
   "source": [
    "#### Example 1: Generate a video with a text prompt\n",
    "\n",
    "OctankFashion designed their new line of graphic t-shirts to be perfect for summer. The want a video asset that evokes the feeling of a tranquil day and draws a strong connection between that feeling and their apparel. With Nova Reel's text-to-video feature, it's easy to create any video you can dream of.\n",
    "\n",
    "Nova Reel supports a single task type called \"TEXT_VIDEO\". The following parameter is relevant to using that task type for text-to-video. The parameter is encapsulated in the `textToVideoParams` field of the request body.\n",
    "\n",
    "- `text` (Optional) – A text prompt describing your desired video. Must be 1 - 512 characters in length.\n",
    "\n",
    "Run the cells below to start generating the video.\n"
   ]
  },
  {
   "cell_type": "code",
   "execution_count": 4,
   "id": "3574c692",
   "metadata": {},
   "outputs": [],
   "source": [
    "# Define the main input parameters.\n",
    "text = \"fabric shirts ripple in the strong breeze, white collared t-shirts with black palm tree graphics in their centers hang rippling on a clothes line between two real palm trees. Lush greenery in the foreground opens to a beautiful beach and waves in the background. Soft sunlight.\"\n",
    "\n",
    "seed = 1841511189"
   ]
  },
  {
   "cell_type": "code",
   "execution_count": 5,
   "id": "ac7be16e",
   "metadata": {},
   "outputs": [
    {
     "name": "stdout",
     "output_type": "stream",
     "text": [
      "\n",
      "Response:\n",
      "{\n",
      "  \"ResponseMetadata\": {\n",
      "    \"RequestId\": \"cb41c7c3-ab13-4b15-856b-8ed6a4b5f578\",\n",
      "    \"HTTPStatusCode\": 200,\n",
      "    \"HTTPHeaders\": {\n",
      "      \"date\": \"Fri, 07 Feb 2025 07:39:33 GMT\",\n",
      "      \"content-type\": \"application/json\",\n",
      "      \"content-length\": \"84\",\n",
      "      \"connection\": \"keep-alive\",\n",
      "      \"x-amzn-requestid\": \"cb41c7c3-ab13-4b15-856b-8ed6a4b5f578\"\n",
      "    },\n",
      "    \"RetryAttempts\": 0\n",
      "  },\n",
      "  \"invocationArn\": \"arn:aws:bedrock:us-east-1:710299592439:async-invoke/g2rd27o9bikk\"\n",
      "}\n"
     ]
    },
    {
     "data": {
      "text/plain": [
       "'/home/sagemaker-user/amazon-nova-samples/multimodal-generation/workshop-sample/NovaReel/output/2025-02-07_07-39-32_g2rd27o9bikk'"
      ]
     },
     "execution_count": 5,
     "metadata": {},
     "output_type": "execute_result"
    }
   ],
   "source": [
    "import json\n",
    "\n",
    "model_input = {\n",
    "    \"taskType\": \"TEXT_VIDEO\",\n",
    "    \"textToVideoParams\": {\"text\": text},\n",
    "    \"videoGenerationConfig\": {\n",
    "        \"durationSeconds\": 6,  # 6 is the only supported value currently.\n",
    "        \"fps\": 24,  # 24 is the only supported value currently.\n",
    "        \"dimension\": \"1280x720\",  # \"1280x720\" is the only supported value currently.\n",
    "        \"seed\": seed,  # Any number from 0 through 2,147,483,646\n",
    "    },\n",
    "}\n",
    "\n",
    "# Start the asynchronous video generation job.\n",
    "invocation = bedrock_runtime.start_async_invoke(\n",
    "    modelId=\"amazon.nova-reel-v1:0\",\n",
    "    modelInput=model_input,\n",
    "    outputDataConfig={\"s3OutputDataConfig\": {\"s3Uri\": f\"s3://{s3_destination_bucket}\"}},\n",
    ")\n",
    "\n",
    "# This will be used by other cells in this notebook.\n",
    "invocation_arn = invocation[\"invocationArn\"]\n",
    "\n",
    "# Pretty print the response JSON.\n",
    "print(\"\\nResponse:\")\n",
    "print(json.dumps(invocation, indent=2, default=str))\n",
    "\n",
    "# Save the invocation details for later reference. Helpful for debugging and reporting feedback.\n",
    "video_gen_util.save_invocation_info(invocation, model_input)"
   ]
  },
  {
   "cell_type": "markdown",
   "id": "5aefb145",
   "metadata": {},
   "source": [
    "#### Checking the status of generation jobs\n",
    "\n",
    "While your video is generating, you can check its status in one of two ways.\n",
    "\n",
    "##### Method 1: Using `get_async_invoke()`\n",
    "\n",
    "If you know the invocation ARN of the job you'd like to check, you can use the the `get_async_invoke()` method to check the job's status. Run the cell below to check the status of the last job you initiated above.\n"
   ]
  },
  {
   "cell_type": "code",
   "execution_count": 6,
   "id": "921fb13e",
   "metadata": {},
   "outputs": [
    {
     "name": "stdout",
     "output_type": "stream",
     "text": [
      "Status: InProgress\n",
      "\n",
      "Full response:\n",
      "{\n",
      "  \"ResponseMetadata\": {\n",
      "    \"RequestId\": \"ec8f600c-5559-4846-b913-8bd330e7b5ff\",\n",
      "    \"HTTPStatusCode\": 200,\n",
      "    \"HTTPHeaders\": {\n",
      "      \"date\": \"Fri, 07 Feb 2025 07:39:54 GMT\",\n",
      "      \"content-type\": \"application/json\",\n",
      "      \"content-length\": \"439\",\n",
      "      \"connection\": \"keep-alive\",\n",
      "      \"x-amzn-requestid\": \"ec8f600c-5559-4846-b913-8bd330e7b5ff\"\n",
      "    },\n",
      "    \"RetryAttempts\": 0\n",
      "  },\n",
      "  \"invocationArn\": \"arn:aws:bedrock:us-east-1:710299592439:async-invoke/g2rd27o9bikk\",\n",
      "  \"modelArn\": \"arn:aws:bedrock:us-east-1::foundation-model/amazon.nova-reel-v1:0\",\n",
      "  \"clientRequestToken\": \"0bbd1c18-4153-44b4-9e89-d811a5543f88\",\n",
      "  \"status\": \"InProgress\",\n",
      "  \"submitTime\": \"2025-02-07 07:39:32+00:00\",\n",
      "  \"lastModifiedTime\": \"2025-02-07 07:39:32+00:00\",\n",
      "  \"outputDataConfig\": {\n",
      "    \"s3OutputDataConfig\": {\n",
      "      \"s3Uri\": \"s3://sagemaker-us-west-2-710299592439/genai/reel/g2rd27o9bikk\"\n",
      "    }\n",
      "  }\n",
      "}\n"
     ]
    }
   ],
   "source": [
    "response = bedrock_runtime.get_async_invoke(invocationArn=invocation_arn)\n",
    "\n",
    "status = response[\"status\"]\n",
    "print(f\"Status: {status}\")\n",
    "\n",
    "# Pretty print the JSON response\n",
    "print(\"\\nFull response:\")\n",
    "print(json.dumps(response, indent=2, default=str))"
   ]
  },
  {
   "cell_type": "markdown",
   "id": "afc5ed6a",
   "metadata": {},
   "source": [
    "##### Method 2: Using `list_async_invokes()`\n",
    "\n",
    "The following code demonstrates how to check the status of **all** video generation jobs in your account using the `list_async_invokes()` method. This method is useful when you don't know the invocation ARN of a job you want to check the status of or if you want to create a dashboard that lists running, completed, or failed jobs. This method supports a number of arguments that allow you to filter by status, date, and a `maxResults` limit. It also supports pagination. We don't show the full API in this example.\n"
   ]
  },
  {
   "cell_type": "code",
   "execution_count": 7,
   "id": "05545f4e",
   "metadata": {},
   "outputs": [
    {
     "name": "stdout",
     "output_type": "stream",
     "text": [
      "Invocation Jobs:\n",
      "{\n",
      "  \"ResponseMetadata\": {\n",
      "    \"RequestId\": \"97d19edf-618e-4cb6-bfb9-b66901688cd5\",\n",
      "    \"HTTPStatusCode\": 200,\n",
      "    \"HTTPHeaders\": {\n",
      "      \"date\": \"Fri, 07 Feb 2025 07:40:41 GMT\",\n",
      "      \"content-type\": \"application/json\",\n",
      "      \"content-length\": \"466\",\n",
      "      \"connection\": \"keep-alive\",\n",
      "      \"x-amzn-requestid\": \"97d19edf-618e-4cb6-bfb9-b66901688cd5\"\n",
      "    },\n",
      "    \"RetryAttempts\": 0\n",
      "  },\n",
      "  \"asyncInvokeSummaries\": [\n",
      "    {\n",
      "      \"invocationArn\": \"arn:aws:bedrock:us-east-1:710299592439:async-invoke/g2rd27o9bikk\",\n",
      "      \"modelArn\": \"arn:aws:bedrock:us-east-1::foundation-model/amazon.nova-reel-v1:0\",\n",
      "      \"clientRequestToken\": \"0bbd1c18-4153-44b4-9e89-d811a5543f88\",\n",
      "      \"status\": \"InProgress\",\n",
      "      \"submitTime\": \"2025-02-07 07:39:32+00:00\",\n",
      "      \"lastModifiedTime\": \"2025-02-07 07:40:20+00:00\",\n",
      "      \"outputDataConfig\": {\n",
      "        \"s3OutputDataConfig\": {\n",
      "          \"s3Uri\": \"s3://sagemaker-us-west-2-710299592439/genai/reel/g2rd27o9bikk\"\n",
      "        }\n",
      "      }\n",
      "    }\n",
      "  ]\n",
      "}\n"
     ]
    }
   ],
   "source": [
    "invocation = bedrock_runtime.list_async_invokes(\n",
    "    maxResults=10,  # (Optional)\n",
    "    statusEquals=\"InProgress\",  # (Optional) Can be \"Completed\", \"InProgress\", or \"Failed\". Omit this argument to list all jobs, regardless of status.\n",
    "    # Note: There are other supported arguments not demonstrated here.\n",
    ")\n",
    "\n",
    "# Pretty print the JSON response\n",
    "print(\"Invocation Jobs:\")\n",
    "print(json.dumps(invocation, indent=2, default=str))"
   ]
  },
  {
   "cell_type": "markdown",
   "id": "7050898d",
   "metadata": {},
   "source": [
    "##### Download and view the generated videos\n",
    "\n",
    "We've provided a set of utility functions in the `video_gen_util.py` script. One of these functions provides one solution to automatically downloading previously completed jobs and monitoring in-progress jobs. Finished jobs will be automatically downloaded to the \"output\" folder.\n"
   ]
  },
  {
   "cell_type": "code",
   "execution_count": 9,
   "id": "8a1d01e7-d739-4838-a953-ee7f333e3b6a",
   "metadata": {},
   "outputs": [
    {
     "name": "stdout",
     "output_type": "stream",
     "text": [
      "Status: Completed\n"
     ]
    }
   ],
   "source": [
    "# Check CMI job status\n",
    "while True:\n",
    "    response = bedrock_runtime.get_async_invoke(invocationArn=invocation_arn)\n",
    "    status = response[\"status\"]\n",
    "    print(f\"Status: {status}\")\n",
    "    \n",
    "    if status in ['Completed', 'Failed']:\n",
    "        break\n",
    "        \n",
    "    time.sleep(60)  # Check every 60 seconds"
   ]
  },
  {
   "cell_type": "code",
   "execution_count": 31,
   "id": "89d623ef-e5f4-443e-bec4-198930d20093",
   "metadata": {},
   "outputs": [],
   "source": [
    "import boto3\n",
    "from botocore.exceptions import ClientError\n",
    "from urllib.parse import urlparse\n",
    "\n",
    "def parse_s3_uri_with_urllib(s3_uri):\n",
    "    \"\"\"\n",
    "    Parse an S3 URI using urllib\n",
    "    \n",
    "    Args:\n",
    "        s3_uri (str): S3 URI in format 's3://bucket-name/prefix/path'\n",
    "        \n",
    "    Returns:\n",
    "        tuple: (bucket_name, prefix)\n",
    "    \"\"\"\n",
    "    parsed = urlparse(s3_uri)\n",
    "    bucket_name = parsed.netloc\n",
    "    prefix = parsed.path.lstrip('/')\n",
    "    \n",
    "    return bucket_name, prefix\n",
    "    \n",
    "def download_file(s3Uri, file_name, local_path):\n",
    "    \"\"\"\n",
    "    Download a file from S3 using prefix/key\n",
    "    \"\"\"\n",
    "    s3_client = boto3.client('s3')\n",
    "    bucket_name, prefix = parse_s3_uri_with_urllib(s3Uri)\n",
    "    print(f\"\\nURI: {s3Uri}, Bucket: {bucket_name}, Prefix: {prefix}\")\n",
    "    try:\n",
    "        s3_client.download_file(\n",
    "            Bucket=bucket_name,\n",
    "            Key=f\"{prefix}/{file_name}\",\n",
    "            Filename=local_path\n",
    "        )\n",
    "        print(f\"Successfully downloaded {file_name} to {local_path}\")\n",
    "    except ClientError as e:\n",
    "        print(f\"Error downloading file: {e}\")\n",
    "        return False\n",
    "    return True\n"
   ]
  },
  {
   "cell_type": "code",
   "execution_count": 35,
   "id": "f1ed05bf-a343-4ecd-a966-4c6b1407e472",
   "metadata": {},
   "outputs": [
    {
     "name": "stdout",
     "output_type": "stream",
     "text": [
      "try to download completed job g2rd27o9bikk.\n",
      "The asyncInvokeSummaries s3Uri s3://sagemaker-us-west-2-710299592439/genai/reel/g2rd27o9bikk\n",
      "save file to /home/sagemaker-user/amazon-nova-samples/multimodal-generation/workshop-sample/NovaReel/ouput/2025-02-07_07-39-32_g2rd27o9bikk/output.mp4\n",
      "\n",
      "URI: s3://sagemaker-us-west-2-710299592439/genai/reel/g2rd27o9bikk, Bucket: sagemaker-us-west-2-710299592439, Prefix: genai/reel/g2rd27o9bikk\n",
      "Successfully downloaded output.mp4 to /home/sagemaker-user/amazon-nova-samples/multimodal-generation/workshop-sample/NovaReel/ouput/2025-02-07_07-39-32_g2rd27o9bikk/output.mp4\n"
     ]
    }
   ],
   "source": [
    "import os\n",
    "\n",
    "completed_jobs_args = {\"statusEquals\": \"Completed\"}\n",
    "completed_jobs = bedrock_runtime.list_async_invokes(**completed_jobs_args)\n",
    "\n",
    "for job in completed_jobs[\"asyncInvokeSummaries\"]:\n",
    "    job_id = video_gen_util.get_job_id_from_arn(job[\"invocationArn\"])\n",
    "    print(f\"try to download completed job {job_id}.\")\n",
    "    output_s3_uri = (\n",
    "        job[\"outputDataConfig\"][\"s3OutputDataConfig\"][\"s3Uri\"]\n",
    "    )\n",
    "    print(f\"The asyncInvokeSummaries s3Uri {output_s3_uri}\")\n",
    "    #video_gen_util.save_completed_job(job)\n",
    "    output_folder = \"ouput\"\n",
    "    output_folder_abs = os.path.abspath(\n",
    "        f\"{output_folder}/{video_gen_util.get_folder_name_for_job(job)}\"\n",
    "    )\n",
    "    # Ensure the output folder exists\n",
    "    os.makedirs(output_folder_abs, exist_ok=True)\n",
    "    output_filename = \"output.mp4\"\n",
    "    local_file_path = os.path.join(output_folder_abs, output_filename)\n",
    "    print(f\"save file to {local_file_path}\")\n",
    "    \n",
    "    download_file(output_s3_uri, output_filename, local_file_path)"
   ]
  },
  {
   "cell_type": "code",
   "execution_count": 17,
   "id": "3bd2f143",
   "metadata": {},
   "outputs": [
    {
     "name": "stdout",
     "output_type": "stream",
     "text": [
      "Problem: No MP4 file was found in S3 at sagemaker-us-west-2-710299592439/g2rd27o9bikk\n",
      "Monitoring 0 \"InProgress\" jobs.\n",
      "Monitoring and download complete!\n"
     ]
    }
   ],
   "source": [
    "from datetime import datetime, timedelta, timezone\n",
    "\n",
    "# Download and monitor videos from the past N hours.\n",
    "duration_hours = 2\n",
    "\n",
    "from_submit_time = datetime.now(timezone.utc) - timedelta(hours=duration_hours)\n",
    "video_gen_util.monitor_and_download_videos(\"output\", submit_time_after=from_submit_time)"
   ]
  },
  {
   "cell_type": "markdown",
   "id": "657f789b",
   "metadata": {},
   "source": [
    "Now, check the `output` folder in your Sagemaker, and you can view the video files in `.mp4` format.\n"
   ]
  },
  {
   "cell_type": "markdown",
   "id": "7b600475",
   "metadata": {},
   "source": [
    "## Take Away\n",
    "\n",
    "Amazon Nova Reel's text-to-image feature makes it easy and cost-effective for anyone to create engaging video content of anything they can imagine from just a simple text prompt. Through hands-on experience with the Amazon Bedrock API, you learned to generate compelling visual content for real-world scenarios, such as showcasing fashion items. Now, to learn how to get even more control over the video output, move on to the \"02-image-to-video.ipynb\" notebook.\n"
   ]
  }
 ],
 "metadata": {
  "kernelspec": {
   "display_name": "Python 3 (ipykernel)",
   "language": "python",
   "name": "python3"
  },
  "language_info": {
   "codemirror_mode": {
    "name": "ipython",
    "version": 3
   },
   "file_extension": ".py",
   "mimetype": "text/x-python",
   "name": "python",
   "nbconvert_exporter": "python",
   "pygments_lexer": "ipython3",
   "version": "3.11.11"
  }
 },
 "nbformat": 4,
 "nbformat_minor": 5
}
