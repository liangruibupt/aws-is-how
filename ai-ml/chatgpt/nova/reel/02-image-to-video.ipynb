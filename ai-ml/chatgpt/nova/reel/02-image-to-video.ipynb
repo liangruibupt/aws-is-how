{
 "cells": [
  {
   "cell_type": "markdown",
   "id": "19e8b53e",
   "metadata": {},
   "source": [
    "<div class=\"alert alert-block alert-warning\">\n",
    "<b>Prerequisites:</b> Please run the prerequiresites <b>00-prerequisites.ipynb</b> first before proceeding.\n",
    "</div>\n",
    "\n",
    "## Introduction to image-to-video\n",
    "\n",
    "With Nova Reel's image-to-video capability, you can create a video from an existing image, giving you greater control over your video output that you get with text-to-video alone. The image you use could be a real world photograph, an image created by an artist or designer, a rendering of a real product, or an image generated with an image generation model.\n",
    "\n",
    "Run the cell below to create an instance of the Bedrock Runtime client which we'll use later.\n"
   ]
  },
  {
   "cell_type": "code",
   "execution_count": 1,
   "id": "c37ae2d2",
   "metadata": {},
   "outputs": [],
   "source": [
    "import boto3\n",
    "import video_gen_util\n",
    "\n",
    "boto3.setup_default_session(region_name=\"us-east-1\")\n",
    "session = boto3.Session()\n",
    "sts_client = session.client(\"sts\")\n",
    "\n",
    "bedrock_runtime = boto3.client(\"bedrock-runtime\")"
   ]
  },
  {
   "cell_type": "markdown",
   "id": "83f3e3b7",
   "metadata": {},
   "source": [
    "#### Setting up storage\n",
    "\n",
    "Generating a video takes some time - approximately 3-4 minutes to produce a 6 second video. To accomodate this execution time, the Bedrock Runtime introduces a new asynchronous invocation API. You start generating a video by calling the `start_async_invoke()` method on the Bedrock Runtime client. When the generation job completes, Bedrock automatically saves the generated video to an S3 bucket you specify.\n",
    "\n",
    "Run the cell below to automatically create a new S3 bucket in your account which we will use as a destination for your videos. (If you already have an existing bucket you'd like to use, edit the `s3_destination_bucket` variable to use that bucket's ID)\n"
   ]
  },
  {
   "cell_type": "code",
   "execution_count": 2,
   "id": "2baf3da9",
   "metadata": {},
   "outputs": [],
   "source": [
    "region = session.region_name\n",
    "account_id = sts_client.get_caller_identity()[\"Account\"]\n",
    "\n",
    "\n",
    "create_new_bucket = False\n",
    "\n",
    "if create_new_bucket == True:\n",
    "    new_bucket_name = f\"ovg-bucket-{region}-{account_id}\"\n",
    "    s3_destination_bucket = new_bucket_name\n",
    "    # Create the bucket\n",
    "    boto3.client(\"s3\").create_bucket(Bucket=s3_destination_bucket)\n",
    "else:\n",
    "    # Replace this with an existing bucket ID if you'd like.\n",
    "    s3_destination_bucket = 'sagemaker-us-west-2-710299592439/genai/reel/'"
   ]
  },
  {
   "cell_type": "markdown",
   "id": "a304a615",
   "metadata": {},
   "source": [
    "#### Create prompt and invoke model\n",
    "\n",
    "OctankFashion would like to take the marketing image you previously created and bring it to life as a video. Nova Reel's image-to-video features is the perfect fit.\n",
    "\n",
    "The following parameters are relevant to using the image-to-video feature. The parameters are encapsulated in the `textToVideoParams` field of the request body.\n",
    "\n",
    "- `text` (Optional) – A text prompt describing your desired video. Must be 1 - 512 characters in length.\n",
    "- `images` (Optional) - A list containing exactly one image source.\n",
    "\n",
    "The image source structure should look like this:\n",
    "\n",
    "```\n",
    "{\n",
    "    \"format\": \"png\" | \"jpeg\"\n",
    "    \"source\": {\n",
    "        \"bytes\": string (Base64 encoded image)\n",
    "    }\n",
    "}\n",
    "```\n",
    "\n",
    "Here is the image you'll be using as the basis for the video. Images that are used as input for Nova Reel must be 1280x720, the same resolution that the generated video will be. For best results, the text prompt you use should describe the image in full along with any action or camera motion that you would like to include in the video.\n",
    "\n",
    "Run the cells below to start generating your video.\n",
    "\n",
    "<img src=\"data/tshirt_beach_1280x720.png\" height=\"400\">\n"
   ]
  },
  {
   "cell_type": "code",
   "execution_count": 3,
   "id": "baeaa47c",
   "metadata": {},
   "outputs": [],
   "source": [
    "# Define the main input parameters.\n",
    "input_image_path = \"data/tshirt_beach_1280x720.png\"  # Must be 1280 x 720\n",
    "image_format = \"png\"  # Can be \"png\" or \"jpeg\"\n",
    "\n",
    "text = \"static camera: waves roll in, sandy beach, a man wearing a tshirt with a palm tree graphic on it. The man shifts his body subtley\"\n",
    "\n",
    "seed = 546416566"
   ]
  },
  {
   "cell_type": "code",
   "execution_count": 4,
   "id": "72e120bc",
   "metadata": {},
   "outputs": [
    {
     "name": "stdout",
     "output_type": "stream",
     "text": [
      "\n",
      "Response:\n",
      "{\n",
      "  \"ResponseMetadata\": {\n",
      "    \"RequestId\": \"75f8c99f-58c0-4286-860d-2c80d8e5de60\",\n",
      "    \"HTTPStatusCode\": 200,\n",
      "    \"HTTPHeaders\": {\n",
      "      \"date\": \"Fri, 07 Feb 2025 09:44:46 GMT\",\n",
      "      \"content-type\": \"application/json\",\n",
      "      \"content-length\": \"84\",\n",
      "      \"connection\": \"keep-alive\",\n",
      "      \"x-amzn-requestid\": \"75f8c99f-58c0-4286-860d-2c80d8e5de60\"\n",
      "    },\n",
      "    \"RetryAttempts\": 0\n",
      "  },\n",
      "  \"invocationArn\": \"arn:aws:bedrock:us-east-1:710299592439:async-invoke/1batsl94ss4h\"\n",
      "}\n"
     ]
    },
    {
     "data": {
      "text/plain": [
       "'/home/sagemaker-user/amazon-nova-samples/multimodal-generation/workshop-sample/NovaReel/output/2025-02-07_09-44-45_1batsl94ss4h'"
      ]
     },
     "execution_count": 4,
     "metadata": {},
     "output_type": "execute_result"
    }
   ],
   "source": [
    "import json\n",
    "import base64\n",
    "\n",
    "# Load the input image as a Base64 string.\n",
    "with open(input_image_path, \"rb\") as f:\n",
    "    input_image_bytes = f.read()\n",
    "    input_image_base64 = base64.b64encode(input_image_bytes).decode(\"utf-8\")\n",
    "\n",
    "model_input = {\n",
    "    \"taskType\": \"TEXT_VIDEO\",\n",
    "    \"textToVideoParams\": {\n",
    "        \"text\": text,\n",
    "        \"images\": [{\"format\": image_format, \"source\": {\"bytes\": input_image_base64}}],\n",
    "    },\n",
    "    \"videoGenerationConfig\": {\n",
    "        \"durationSeconds\": 6,  # 6 is the only supported value currently.\n",
    "        \"fps\": 24,  # 24 is the only supported value currently.\n",
    "        \"dimension\": \"1280x720\",  # \"1280x720\" is the only supported value currently.\n",
    "        \"seed\": seed,  # Can be any random number between 0 to 2147483648\n",
    "    },\n",
    "}\n",
    "\n",
    "# Start the asynchronous video generation job.\n",
    "invocation = bedrock_runtime.start_async_invoke(\n",
    "    modelId=\"amazon.nova-reel-v1:0\",\n",
    "    modelInput=model_input,\n",
    "    outputDataConfig={\"s3OutputDataConfig\": {\"s3Uri\": f\"s3://{s3_destination_bucket}\"}},\n",
    ")\n",
    "\n",
    "# Pretty print the response JSON.\n",
    "print(\"\\nResponse:\")\n",
    "print(json.dumps(invocation, indent=2, default=str))\n",
    "\n",
    "# Save the invocation details for later reference. Helpful for debugging and reporting feedback.\n",
    "video_gen_util.save_invocation_info(invocation, model_input)"
   ]
  },
  {
   "cell_type": "code",
   "execution_count": 7,
   "id": "96ef74e8-0d11-4c44-8284-81ad366aaec0",
   "metadata": {},
   "outputs": [
    {
     "name": "stdout",
     "output_type": "stream",
     "text": [
      "Status: InProgress\n",
      "Status: InProgress\n",
      "Status: Completed\n"
     ]
    }
   ],
   "source": [
    "import time\n",
    "# Check CMI job status\n",
    "invocation_arn = invocation[\"invocationArn\"]\n",
    "while True:\n",
    "    response = bedrock_runtime.get_async_invoke(invocationArn=invocation_arn)\n",
    "    status = response[\"status\"]\n",
    "    print(f\"Status: {status}\")\n",
    "    \n",
    "    if status in ['Completed', 'Failed']:\n",
    "        break\n",
    "        \n",
    "    time.sleep(60)  # Check every 60 seconds"
   ]
  },
  {
   "cell_type": "code",
   "execution_count": 9,
   "id": "24a65db3-5356-468f-914d-b5bfb388da5b",
   "metadata": {},
   "outputs": [],
   "source": [
    "import boto3\n",
    "from botocore.exceptions import ClientError\n",
    "from urllib.parse import urlparse\n",
    "\n",
    "def parse_s3_uri_with_urllib(s3_uri):\n",
    "    \"\"\"\n",
    "    Parse an S3 URI using urllib\n",
    "    \n",
    "    Args:\n",
    "        s3_uri (str): S3 URI in format 's3://bucket-name/prefix/path'\n",
    "        \n",
    "    Returns:\n",
    "        tuple: (bucket_name, prefix)\n",
    "    \"\"\"\n",
    "    parsed = urlparse(s3_uri)\n",
    "    bucket_name = parsed.netloc\n",
    "    prefix = parsed.path.lstrip('/')\n",
    "    \n",
    "    return bucket_name, prefix\n",
    "    \n",
    "def download_file(s3Uri, file_name, local_path):\n",
    "    \"\"\"\n",
    "    Download a file from S3 using prefix/key\n",
    "    \"\"\"\n",
    "    s3_client = boto3.client('s3')\n",
    "    bucket_name, prefix = parse_s3_uri_with_urllib(s3Uri)\n",
    "    print(f\"\\nURI: {s3Uri}, Bucket: {bucket_name}, Prefix: {prefix}\")\n",
    "    try:\n",
    "        s3_client.download_file(\n",
    "            Bucket=bucket_name,\n",
    "            Key=f\"{prefix}/{file_name}\",\n",
    "            Filename=local_path\n",
    "        )\n",
    "        print(f\"Successfully downloaded {file_name} to {local_path}\")\n",
    "    except ClientError as e:\n",
    "        print(f\"Error downloading file: {e}\")\n",
    "        return False\n",
    "    return True"
   ]
  },
  {
   "cell_type": "code",
   "execution_count": 11,
   "id": "1042db50-b501-4d58-bb22-1686d3b514ed",
   "metadata": {},
   "outputs": [
    {
     "name": "stdout",
     "output_type": "stream",
     "text": [
      "try to download completed job g2rd27o9bikk.\n",
      "The asyncInvokeSummaries s3Uri s3://sagemaker-us-west-2-710299592439/genai/reel/g2rd27o9bikk\n",
      "save file to /home/sagemaker-user/amazon-nova-samples/multimodal-generation/workshop-sample/NovaReel/ouput/2025-02-07_07-39-32_g2rd27o9bikk/output.mp4\n",
      "\n",
      "URI: s3://sagemaker-us-west-2-710299592439/genai/reel/g2rd27o9bikk, Bucket: sagemaker-us-west-2-710299592439, Prefix: genai/reel/g2rd27o9bikk\n",
      "Successfully downloaded output.mp4 to /home/sagemaker-user/amazon-nova-samples/multimodal-generation/workshop-sample/NovaReel/ouput/2025-02-07_07-39-32_g2rd27o9bikk/output.mp4\n"
     ]
    },
    {
     "data": {
      "text/plain": [
       "True"
      ]
     },
     "execution_count": 11,
     "metadata": {},
     "output_type": "execute_result"
    }
   ],
   "source": [
    "import os\n",
    "\n",
    "completed_job = bedrock_runtime.get_async_invoke(invocationArn=invocation_arn)\n",
    "\n",
    "job_id = video_gen_util.get_job_id_from_arn(job[\"invocationArn\"])\n",
    "print(f\"try to download completed job {job_id}.\")\n",
    "output_s3_uri = (\n",
    "    job[\"outputDataConfig\"][\"s3OutputDataConfig\"][\"s3Uri\"]\n",
    ")\n",
    "print(f\"The asyncInvokeSummaries s3Uri {output_s3_uri}\")\n",
    "#video_gen_util.save_completed_job(job)\n",
    "output_folder = \"ouput\"\n",
    "output_folder_abs = os.path.abspath(\n",
    "    f\"{output_folder}/{video_gen_util.get_folder_name_for_job(job)}\"\n",
    ")\n",
    "# Ensure the output folder exists\n",
    "os.makedirs(output_folder_abs, exist_ok=True)\n",
    "output_filename = \"output.mp4\"\n",
    "local_file_path = os.path.join(output_folder_abs, output_filename)\n",
    "print(f\"save file to {local_file_path}\")\n",
    "    \n",
    "download_file(output_s3_uri, output_filename, local_file_path)\n",
    "    "
   ]
  },
  {
   "cell_type": "markdown",
   "id": "9806277b",
   "metadata": {},
   "source": [
    "##### Download and view the generated videos\n",
    "\n",
    "We've provided a set of utility functions in the `video_gen_util.py` script. One of these functions provides one solution to automatically downloading previously completed jobs and monitoring in-progress jobs. Finished jobs will be automatically downloaded to the \"output\" folder.\n"
   ]
  },
  {
   "cell_type": "code",
   "execution_count": null,
   "id": "f74894d4-8959-4366-b385-a84bb3a0feac",
   "metadata": {},
   "outputs": [],
   "source": []
  },
  {
   "cell_type": "code",
   "execution_count": 8,
   "id": "b7fd2200",
   "metadata": {},
   "outputs": [
    {
     "name": "stdout",
     "output_type": "stream",
     "text": [
      "Problem: No MP4 file was found in S3 at sagemaker-us-west-2-710299592439/1batsl94ss4h\n",
      "Monitoring 0 \"InProgress\" jobs.\n",
      "Monitoring and download complete!\n"
     ]
    }
   ],
   "source": [
    "from datetime import datetime, timedelta, timezone\n",
    "\n",
    "# Download and monitor videos from the past N hours.\n",
    "duration_hours = 2\n",
    "\n",
    "from_submit_time = datetime.now(timezone.utc) - timedelta(hours=duration_hours)\n",
    "video_gen_util.monitor_and_download_videos(\"output\", submit_time_after=from_submit_time)"
   ]
  },
  {
   "cell_type": "markdown",
   "id": "858d31e0",
   "metadata": {},
   "source": [
    "Now, check the `output` folder in your Sagemaker, and you can view the video files in `.mp4` format.\n"
   ]
  },
  {
   "cell_type": "markdown",
   "id": "aa770b08",
   "metadata": {},
   "source": [
    "## Take Away\n",
    "\n",
    "Amazon Nova Reel's image-to-video feature gives you greater control over the subject, layout, and visual aesthetic of your generated video. It's a perfect fit when you need to create a video featuring a real world product or subject.\n"
   ]
  }
 ],
 "metadata": {
  "kernelspec": {
   "display_name": "Python 3 (ipykernel)",
   "language": "python",
   "name": "python3"
  },
  "language_info": {
   "codemirror_mode": {
    "name": "ipython",
    "version": 3
   },
   "file_extension": ".py",
   "mimetype": "text/x-python",
   "name": "python",
   "nbconvert_exporter": "python",
   "pygments_lexer": "ipython3",
   "version": "3.11.11"
  }
 },
 "nbformat": 4,
 "nbformat_minor": 5
}
